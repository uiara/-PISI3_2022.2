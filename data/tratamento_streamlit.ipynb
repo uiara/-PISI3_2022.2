{
 "cells": [
  {
   "cell_type": "code",
   "execution_count": 1,
   "metadata": {},
   "outputs": [],
   "source": [
    "import pandas as pd\n",
    "import pyarrow as pa\n",
    "import pyarrow.parquet as pq\n"
   ]
  },
  {
   "cell_type": "code",
   "execution_count": 2,
   "metadata": {},
   "outputs": [],
   "source": [
    "df = pd.read_parquet('dataset_renomeado.parquet')"
   ]
  },
  {
   "cell_type": "code",
   "execution_count": 3,
   "metadata": {},
   "outputs": [
    {
     "data": {
      "text/plain": [
       "Index(['id_ncontro', 'id_paciente', 'id_hospital', 'idade', 'imc',\n",
       "       'cirurgia_eletiva', 'etnia', 'genero', 'altura', 'fonte_admissao_uti',\n",
       "       'id_uti', 'tipo_estadia_uti', 'tipo_uti', 'dias_de_permanencia_pre_uti',\n",
       "       'peso', 'diagnostico_pache_2', 'diagnostico_apache_3j',\n",
       "       'apache_pos_operatorio', 'arf_apache', 'gcs_olhos_apache',\n",
       "       'gcs_motor_apache', 'gcs_incapaz_apache', 'gcs_verbal_pache',\n",
       "       'frequencia_cardiaca_apache', 'intubado_apache', 'map_apache',\n",
       "       'frequencia_respiratoria_pache', 'temperatura_apache',\n",
       "       'ventilado_apache', 'd1_pressao_arterial_diastolica_maxima',\n",
       "       'd1_pressao_arterial_diastolica_minima',\n",
       "       'd1_pressao_arterial_diastolica_nao_invasiva_maxima',\n",
       "       'd1_pressao_arterial_diastólica_nao_invasiva_minima',\n",
       "       'd1_frequencia_cardiaca_maxima', 'd1_frequencia_cardiaca_minima',\n",
       "       'd1_pressao_arterial_media_maxima', 'd1_pressao_arterial_media_minima',\n",
       "       'd1_pressao_arterial_media_nao_invasiva_maxima',\n",
       "       'd1_pressao_arterial_media_nao_invasiva_minima',\n",
       "       'd1_frequencia_respiratoria_maxima',\n",
       "       'd1_frequencia_respiratoria_minima', 'd1_spO2_maximo', 'd1_spO2_minimo',\n",
       "       'd1_pressao_arterial_sistolica_maxima',\n",
       "       'd1_pressao_arterial_sistolica_minima',\n",
       "       'd1_pressao_arterial_sistolica_nao_invasiva_maxima',\n",
       "       'd1_pressao_arterial_sistolica_nao_invasiva_minima',\n",
       "       'd1_temperatura_maxima', 'd1_temperatura_minima',\n",
       "       'h1_pressão_arterial_diastolica_maxima',\n",
       "       'h1_ressao_arterial_iastolica_minima',\n",
       "       'h1_pressao_arterial_diastolica_nao_invasiva_maxima',\n",
       "       'h1_pressao_arterial_diastolica_nao_invasiva_minima',\n",
       "       'h1_frequencia_cardiaca_maxima', 'h1_requencia_cardiaca_minima',\n",
       "       'h1_pressao_arterial_media_maxima', 'h1_pressao_arterial_media_minima',\n",
       "       'h1_pressao_arterial_media_nao_invasiva_maxima',\n",
       "       'h1_pressao_arterial_media_nao_invasiva_minima',\n",
       "       'h1_frequencia_respiratoria_maxima',\n",
       "       'h1_frequencia_respiratoria_minima', 'h1_spO2_maximo', 'h1_spO2_minimo',\n",
       "       'h1_pressao_arterial_sistolica_maxima',\n",
       "       'h1_pressao_arterial_sistolica_minima',\n",
       "       'h1_pressao_arterial_sistolica_nao_invasiva_maxima',\n",
       "       'h1_pressão_arterial_sistolica_nao_invasiva_minima',\n",
       "       'd1_glicose_maxima', 'd1_glicose_minima', 'd1_potassio_maximo',\n",
       "       'd1_potassio_minimo', 'probabilidade_morte_no_hospital_(apache_4a)',\n",
       "       'probabilidade_morte_na_uti_(apache_4a)', 'aids', 'cirrose',\n",
       "       'diabetes_mellitus', 'insuficiencia_hepatica', 'imunossupressao',\n",
       "       'leucemia', 'linfoma', 'tumor_solido_com_metastase',\n",
       "       'sistema_corporal_apache_3j', 'sistema_corporal_apache_2',\n",
       "       'morte_hospital'],\n",
       "      dtype='object')"
      ]
     },
     "execution_count": 3,
     "metadata": {},
     "output_type": "execute_result"
    }
   ],
   "source": [
    "df.columns"
   ]
  },
  {
   "cell_type": "code",
   "execution_count": 4,
   "metadata": {},
   "outputs": [],
   "source": [
    "colunas_deletar = ['id_ncontro', 'id_paciente', 'id_hospital','probabilidade_morte_na_uti_(apache_4a)','probabilidade_morte_no_hospital_(apache_4a)','id_uti']"
   ]
  },
  {
   "cell_type": "code",
   "execution_count": 5,
   "metadata": {},
   "outputs": [],
   "source": [
    "df = df.drop(columns=colunas_deletar)"
   ]
  },
  {
   "cell_type": "code",
   "execution_count": 6,
   "metadata": {},
   "outputs": [
    {
     "data": {
      "text/plain": [
       "Index(['idade', 'imc', 'cirurgia_eletiva', 'etnia', 'genero', 'altura',\n",
       "       'fonte_admissao_uti', 'tipo_estadia_uti', 'tipo_uti',\n",
       "       'dias_de_permanencia_pre_uti', 'peso', 'diagnostico_pache_2',\n",
       "       'diagnostico_apache_3j', 'apache_pos_operatorio', 'arf_apache',\n",
       "       'gcs_olhos_apache', 'gcs_motor_apache', 'gcs_incapaz_apache',\n",
       "       'gcs_verbal_pache', 'frequencia_cardiaca_apache', 'intubado_apache',\n",
       "       'map_apache', 'frequencia_respiratoria_pache', 'temperatura_apache',\n",
       "       'ventilado_apache', 'd1_pressao_arterial_diastolica_maxima',\n",
       "       'd1_pressao_arterial_diastolica_minima',\n",
       "       'd1_pressao_arterial_diastolica_nao_invasiva_maxima',\n",
       "       'd1_pressao_arterial_diastólica_nao_invasiva_minima',\n",
       "       'd1_frequencia_cardiaca_maxima', 'd1_frequencia_cardiaca_minima',\n",
       "       'd1_pressao_arterial_media_maxima', 'd1_pressao_arterial_media_minima',\n",
       "       'd1_pressao_arterial_media_nao_invasiva_maxima',\n",
       "       'd1_pressao_arterial_media_nao_invasiva_minima',\n",
       "       'd1_frequencia_respiratoria_maxima',\n",
       "       'd1_frequencia_respiratoria_minima', 'd1_spO2_maximo', 'd1_spO2_minimo',\n",
       "       'd1_pressao_arterial_sistolica_maxima',\n",
       "       'd1_pressao_arterial_sistolica_minima',\n",
       "       'd1_pressao_arterial_sistolica_nao_invasiva_maxima',\n",
       "       'd1_pressao_arterial_sistolica_nao_invasiva_minima',\n",
       "       'd1_temperatura_maxima', 'd1_temperatura_minima',\n",
       "       'h1_pressão_arterial_diastolica_maxima',\n",
       "       'h1_ressao_arterial_iastolica_minima',\n",
       "       'h1_pressao_arterial_diastolica_nao_invasiva_maxima',\n",
       "       'h1_pressao_arterial_diastolica_nao_invasiva_minima',\n",
       "       'h1_frequencia_cardiaca_maxima', 'h1_requencia_cardiaca_minima',\n",
       "       'h1_pressao_arterial_media_maxima', 'h1_pressao_arterial_media_minima',\n",
       "       'h1_pressao_arterial_media_nao_invasiva_maxima',\n",
       "       'h1_pressao_arterial_media_nao_invasiva_minima',\n",
       "       'h1_frequencia_respiratoria_maxima',\n",
       "       'h1_frequencia_respiratoria_minima', 'h1_spO2_maximo', 'h1_spO2_minimo',\n",
       "       'h1_pressao_arterial_sistolica_maxima',\n",
       "       'h1_pressao_arterial_sistolica_minima',\n",
       "       'h1_pressao_arterial_sistolica_nao_invasiva_maxima',\n",
       "       'h1_pressão_arterial_sistolica_nao_invasiva_minima',\n",
       "       'd1_glicose_maxima', 'd1_glicose_minima', 'd1_potassio_maximo',\n",
       "       'd1_potassio_minimo', 'aids', 'cirrose', 'diabetes_mellitus',\n",
       "       'insuficiencia_hepatica', 'imunossupressao', 'leucemia', 'linfoma',\n",
       "       'tumor_solido_com_metastase', 'sistema_corporal_apache_3j',\n",
       "       'sistema_corporal_apache_2', 'morte_hospital'],\n",
       "      dtype='object')"
      ]
     },
     "execution_count": 6,
     "metadata": {},
     "output_type": "execute_result"
    }
   ],
   "source": [
    "df.columns"
   ]
  },
  {
   "attachments": {},
   "cell_type": "markdown",
   "metadata": {},
   "source": [
    "## Tratar valores nulos \n",
    "\n"
   ]
  },
  {
   "cell_type": "code",
   "execution_count": 7,
   "metadata": {},
   "outputs": [],
   "source": [
    "for coluna in df.columns:\n",
    "    if df[coluna].dtype == object:  \n",
    "        df[coluna].fillna('desconhecido', inplace=True)  \n",
    "    else:\n",
    "        media = df[coluna].mean()  \n",
    "        df[coluna].fillna(media, inplace=True) \n"
   ]
  },
  {
   "cell_type": "code",
   "execution_count": 8,
   "metadata": {},
   "outputs": [
    {
     "name": "stdout",
     "output_type": "stream",
     "text": [
      "<class 'pandas.core.frame.DataFrame'>\n",
      "RangeIndex: 91713 entries, 0 to 91712\n",
      "Data columns (total 78 columns):\n",
      " #   Column                                              Non-Null Count  Dtype  \n",
      "---  ------                                              --------------  -----  \n",
      " 0   idade                                               91713 non-null  float64\n",
      " 1   imc                                                 91713 non-null  float64\n",
      " 2   cirurgia_eletiva                                    91713 non-null  int64  \n",
      " 3   etnia                                               91713 non-null  object \n",
      " 4   genero                                              91713 non-null  object \n",
      " 5   altura                                              91713 non-null  float64\n",
      " 6   fonte_admissao_uti                                  91713 non-null  object \n",
      " 7   tipo_estadia_uti                                    91713 non-null  object \n",
      " 8   tipo_uti                                            91713 non-null  object \n",
      " 9   dias_de_permanencia_pre_uti                         91713 non-null  float64\n",
      " 10  peso                                                91713 non-null  float64\n",
      " 11  diagnostico_pache_2                                 91713 non-null  float64\n",
      " 12  diagnostico_apache_3j                               91713 non-null  float64\n",
      " 13  apache_pos_operatorio                               91713 non-null  int64  \n",
      " 14  arf_apache                                          91713 non-null  float64\n",
      " 15  gcs_olhos_apache                                    91713 non-null  float64\n",
      " 16  gcs_motor_apache                                    91713 non-null  float64\n",
      " 17  gcs_incapaz_apache                                  91713 non-null  float64\n",
      " 18  gcs_verbal_pache                                    91713 non-null  float64\n",
      " 19  frequencia_cardiaca_apache                          91713 non-null  float64\n",
      " 20  intubado_apache                                     91713 non-null  float64\n",
      " 21  map_apache                                          91713 non-null  float64\n",
      " 22  frequencia_respiratoria_pache                       91713 non-null  float64\n",
      " 23  temperatura_apache                                  91713 non-null  float64\n",
      " 24  ventilado_apache                                    91713 non-null  float64\n",
      " 25  d1_pressao_arterial_diastolica_maxima               91713 non-null  float64\n",
      " 26  d1_pressao_arterial_diastolica_minima               91713 non-null  float64\n",
      " 27  d1_pressao_arterial_diastolica_nao_invasiva_maxima  91713 non-null  float64\n",
      " 28  d1_pressao_arterial_diastólica_nao_invasiva_minima  91713 non-null  float64\n",
      " 29  d1_frequencia_cardiaca_maxima                       91713 non-null  float64\n",
      " 30  d1_frequencia_cardiaca_minima                       91713 non-null  float64\n",
      " 31  d1_pressao_arterial_media_maxima                    91713 non-null  float64\n",
      " 32  d1_pressao_arterial_media_minima                    91713 non-null  float64\n",
      " 33  d1_pressao_arterial_media_nao_invasiva_maxima       91713 non-null  float64\n",
      " 34  d1_pressao_arterial_media_nao_invasiva_minima       91713 non-null  float64\n",
      " 35  d1_frequencia_respiratoria_maxima                   91713 non-null  float64\n",
      " 36  d1_frequencia_respiratoria_minima                   91713 non-null  float64\n",
      " 37  d1_spO2_maximo                                      91713 non-null  float64\n",
      " 38  d1_spO2_minimo                                      91713 non-null  float64\n",
      " 39  d1_pressao_arterial_sistolica_maxima                91713 non-null  float64\n",
      " 40  d1_pressao_arterial_sistolica_minima                91713 non-null  float64\n",
      " 41  d1_pressao_arterial_sistolica_nao_invasiva_maxima   91713 non-null  float64\n",
      " 42  d1_pressao_arterial_sistolica_nao_invasiva_minima   91713 non-null  float64\n",
      " 43  d1_temperatura_maxima                               91713 non-null  float64\n",
      " 44  d1_temperatura_minima                               91713 non-null  float64\n",
      " 45  h1_pressão_arterial_diastolica_maxima               91713 non-null  float64\n",
      " 46  h1_ressao_arterial_iastolica_minima                 91713 non-null  float64\n",
      " 47  h1_pressao_arterial_diastolica_nao_invasiva_maxima  91713 non-null  float64\n",
      " 48  h1_pressao_arterial_diastolica_nao_invasiva_minima  91713 non-null  float64\n",
      " 49  h1_frequencia_cardiaca_maxima                       91713 non-null  float64\n",
      " 50  h1_requencia_cardiaca_minima                        91713 non-null  float64\n",
      " 51  h1_pressao_arterial_media_maxima                    91713 non-null  float64\n",
      " 52  h1_pressao_arterial_media_minima                    91713 non-null  float64\n",
      " 53  h1_pressao_arterial_media_nao_invasiva_maxima       91713 non-null  float64\n",
      " 54  h1_pressao_arterial_media_nao_invasiva_minima       91713 non-null  float64\n",
      " 55  h1_frequencia_respiratoria_maxima                   91713 non-null  float64\n",
      " 56  h1_frequencia_respiratoria_minima                   91713 non-null  float64\n",
      " 57  h1_spO2_maximo                                      91713 non-null  float64\n",
      " 58  h1_spO2_minimo                                      91713 non-null  float64\n",
      " 59  h1_pressao_arterial_sistolica_maxima                91713 non-null  float64\n",
      " 60  h1_pressao_arterial_sistolica_minima                91713 non-null  float64\n",
      " 61  h1_pressao_arterial_sistolica_nao_invasiva_maxima   91713 non-null  float64\n",
      " 62  h1_pressão_arterial_sistolica_nao_invasiva_minima   91713 non-null  float64\n",
      " 63  d1_glicose_maxima                                   91713 non-null  float64\n",
      " 64  d1_glicose_minima                                   91713 non-null  float64\n",
      " 65  d1_potassio_maximo                                  91713 non-null  float64\n",
      " 66  d1_potassio_minimo                                  91713 non-null  float64\n",
      " 67  aids                                                91713 non-null  float64\n",
      " 68  cirrose                                             91713 non-null  float64\n",
      " 69  diabetes_mellitus                                   91713 non-null  float64\n",
      " 70  insuficiencia_hepatica                              91713 non-null  float64\n",
      " 71  imunossupressao                                     91713 non-null  float64\n",
      " 72  leucemia                                            91713 non-null  float64\n",
      " 73  linfoma                                             91713 non-null  float64\n",
      " 74  tumor_solido_com_metastase                          91713 non-null  float64\n",
      " 75  sistema_corporal_apache_3j                          91713 non-null  object \n",
      " 76  sistema_corporal_apache_2                           91713 non-null  object \n",
      " 77  morte_hospital                                      91713 non-null  int64  \n",
      "dtypes: float64(68), int64(3), object(7)\n",
      "memory usage: 54.6+ MB\n"
     ]
    }
   ],
   "source": [
    "df.info()"
   ]
  },
  {
   "attachments": {},
   "cell_type": "markdown",
   "metadata": {},
   "source": [
    "## Converterndo para inteiro "
   ]
  },
  {
   "cell_type": "code",
   "execution_count": 9,
   "metadata": {},
   "outputs": [],
   "source": [
    "for coluna in df.columns:\n",
    "    if df[coluna].dtype == float:  \n",
    "          df[coluna] = df[coluna].replace({'0.': 0, '1.': 1}).astype(int)\n",
    "    "
   ]
  },
  {
   "attachments": {},
   "cell_type": "markdown",
   "metadata": {},
   "source": [
    "## Organizando nomes"
   ]
  },
  {
   "cell_type": "code",
   "execution_count": 10,
   "metadata": {},
   "outputs": [],
   "source": [
    "df['genero'] = df['genero'].replace({'M': 'Masculino', 'F': 'Feminino'}).fillna('Desconhecido')"
   ]
  },
  {
   "cell_type": "code",
   "execution_count": 11,
   "metadata": {},
   "outputs": [],
   "source": [
    "df['tipo_estadia_uti'] = df['tipo_estadia_uti'].replace({'admit': 'Admitido', 'readmit': 'Readmitido', 'transfer': 'Transferido'})"
   ]
  },
  {
   "cell_type": "code",
   "execution_count": 12,
   "metadata": {},
   "outputs": [],
   "source": [
    "fonte = {\n",
    "    'Floor': 'Piso',\n",
    "    'Accident & Emergency': 'Acidente e Emergência',\n",
    "    'Operating Room / Recovery': 'Sala de Cirurgia / Recuperação',\n",
    "    'Other Hospital': 'Outro Hospital',\n",
    "    'Other ICU': 'Outra UTI'\n",
    "}\n",
    "\n",
    "df['fonte_admissao_uti'] = df['fonte_admissao_uti'].replace(fonte)"
   ]
  },
  {
   "cell_type": "code",
   "execution_count": 13,
   "metadata": {},
   "outputs": [],
   "source": [
    "etnia = {\n",
    "    'Caucasian': 'Caucasiano',\n",
    "    'Hispanic': 'Hispanico',\n",
    "    'African American': 'Afro-americano',\n",
    "    'Asian': 'Asiático',\n",
    "    'Native American': 'Indígena',\n",
    "    'Other/Unknown': 'Outro/Desconhecido'\n",
    "}\n",
    "\n",
    "df['etnia'] = df['etnia'].replace(etnia)"
   ]
  },
  {
   "cell_type": "code",
   "execution_count": 14,
   "metadata": {},
   "outputs": [],
   "source": [
    "tipo_uti = {\n",
    "    'CTICU': 'CTI Cardíaco',\n",
    "    'Med-Surg ICU': 'CTI Med-Cirúrgico',\n",
    "    'CCU-CTICU': 'CTI Coronariano',\n",
    "    'Neuro ICU': 'CTI Neurológico',\n",
    "    'MICU': 'CTI Médico',\n",
    "    'SICU': 'CTI Cirúrgico',\n",
    "    'Cardiac ICU': 'CTI Cardíaco',\n",
    "    'CSICU': 'CTI Cardiovascular'\n",
    "}\n",
    "\n",
    "df['tipo_uti'] = df['tipo_uti'].replace(tipo_uti)"
   ]
  },
  {
   "cell_type": "code",
   "execution_count": 15,
   "metadata": {},
   "outputs": [],
   "source": [
    "df.to_parquet('dataset_streamlit.parquet')"
   ]
  },
  {
   "cell_type": "code",
   "execution_count": 16,
   "metadata": {},
   "outputs": [],
   "source": [
    "df.columns = [coluna.replace(\"d1_\", \"\") + \"_primeiras_24_horas\" if coluna.startswith(\"d1_\") else\n",
    "              coluna.replace(\"h1_\", \"\") + \"_primeira_hora\" if coluna.startswith(\"h1_\") else\n",
    "              coluna for coluna in df.columns]\n"
   ]
  },
  {
   "cell_type": "code",
   "execution_count": 17,
   "metadata": {},
   "outputs": [
    {
     "data": {
      "text/plain": [
       "Index(['idade', 'imc', 'cirurgia_eletiva', 'etnia', 'genero', 'altura',\n",
       "       'fonte_admissao_uti', 'tipo_estadia_uti', 'tipo_uti',\n",
       "       'dias_de_permanencia_pre_uti', 'peso', 'diagnostico_pache_2',\n",
       "       'diagnostico_apache_3j', 'apache_pos_operatorio', 'arf_apache',\n",
       "       'gcs_olhos_apache', 'gcs_motor_apache', 'gcs_incapaz_apache',\n",
       "       'gcs_verbal_pache', 'frequencia_cardiaca_apache', 'intubado_apache',\n",
       "       'map_apache', 'frequencia_respiratoria_pache', 'temperatura_apache',\n",
       "       'ventilado_apache',\n",
       "       'pressao_arterial_diastolica_maxima_primeiras_24_horas',\n",
       "       'pressao_arterial_diastolica_minima_primeiras_24_horas',\n",
       "       'pressao_arterial_diastolica_nao_invasiva_maxima_primeiras_24_horas',\n",
       "       'pressao_arterial_diastólica_nao_invasiva_minima_primeiras_24_horas',\n",
       "       'frequencia_cardiaca_maxima_primeiras_24_horas',\n",
       "       'frequencia_cardiaca_minima_primeiras_24_horas',\n",
       "       'pressao_arterial_media_maxima_primeiras_24_horas',\n",
       "       'pressao_arterial_media_minima_primeiras_24_horas',\n",
       "       'pressao_arterial_media_nao_invasiva_maxima_primeiras_24_horas',\n",
       "       'pressao_arterial_media_nao_invasiva_minima_primeiras_24_horas',\n",
       "       'frequencia_respiratoria_maxima_primeiras_24_horas',\n",
       "       'frequencia_respiratoria_minima_primeiras_24_horas',\n",
       "       'spO2_maximo_primeiras_24_horas', 'spO2_minimo_primeiras_24_horas',\n",
       "       'pressao_arterial_sistolica_maxima_primeiras_24_horas',\n",
       "       'pressao_arterial_sistolica_minima_primeiras_24_horas',\n",
       "       'pressao_arterial_sistolica_nao_invasiva_maxima_primeiras_24_horas',\n",
       "       'pressao_arterial_sistolica_nao_invasiva_minima_primeiras_24_horas',\n",
       "       'temperatura_maxima_primeiras_24_horas',\n",
       "       'temperatura_minima_primeiras_24_horas',\n",
       "       'pressão_arterial_diastolica_maxima_primeira_hora',\n",
       "       'ressao_arterial_iastolica_minima_primeira_hora',\n",
       "       'pressao_arterial_diastolica_nao_invasiva_maxima_primeira_hora',\n",
       "       'pressao_arterial_diastolica_nao_invasiva_minima_primeira_hora',\n",
       "       'frequencia_cardiaca_maxima_primeira_hora',\n",
       "       'requencia_cardiaca_minima_primeira_hora',\n",
       "       'pressao_arterial_media_maxima_primeira_hora',\n",
       "       'pressao_arterial_media_minima_primeira_hora',\n",
       "       'pressao_arterial_media_nao_invasiva_maxima_primeira_hora',\n",
       "       'pressao_arterial_media_nao_invasiva_minima_primeira_hora',\n",
       "       'frequencia_respiratoria_maxima_primeira_hora',\n",
       "       'frequencia_respiratoria_minima_primeira_hora',\n",
       "       'spO2_maximo_primeira_hora', 'spO2_minimo_primeira_hora',\n",
       "       'pressao_arterial_sistolica_maxima_primeira_hora',\n",
       "       'pressao_arterial_sistolica_minima_primeira_hora',\n",
       "       'pressao_arterial_sistolica_nao_invasiva_maxima_primeira_hora',\n",
       "       'pressão_arterial_sistolica_nao_invasiva_minima_primeira_hora',\n",
       "       'glicose_maxima_primeiras_24_horas',\n",
       "       'glicose_minima_primeiras_24_horas',\n",
       "       'potassio_maximo_primeiras_24_horas',\n",
       "       'potassio_minimo_primeiras_24_horas', 'aids', 'cirrose',\n",
       "       'diabetes_mellitus', 'insuficiencia_hepatica', 'imunossupressao',\n",
       "       'leucemia', 'linfoma', 'tumor_solido_com_metastase',\n",
       "       'sistema_corporal_apache_3j', 'sistema_corporal_apache_2',\n",
       "       'morte_hospital'],\n",
       "      dtype='object')"
      ]
     },
     "execution_count": 17,
     "metadata": {},
     "output_type": "execute_result"
    }
   ],
   "source": [
    "df.columns"
   ]
  },
  {
   "cell_type": "code",
   "execution_count": 18,
   "metadata": {},
   "outputs": [],
   "source": [
    "colunas_primeira_hora = [coluna.replace('_primeira_hora', '') for coluna in df.columns if '_primeira_hora' in coluna]\n",
    "colunas_primeiras_24_horas = [coluna.replace('_primeiras_24_horas', '') for coluna in df.columns if '_primeiras_24_horas' in coluna]\n",
    "\n",
    "colunas_em_comum = set(colunas_primeira_hora).intersection(colunas_primeiras_24_horas)\n"
   ]
  },
  {
   "cell_type": "code",
   "execution_count": 19,
   "metadata": {},
   "outputs": [
    {
     "data": {
      "text/plain": [
       "{'frequencia_cardiaca_maxima',\n",
       " 'frequencia_respiratoria_maxima',\n",
       " 'frequencia_respiratoria_minima',\n",
       " 'pressao_arterial_diastolica_nao_invasiva_maxima',\n",
       " 'pressao_arterial_media_maxima',\n",
       " 'pressao_arterial_media_minima',\n",
       " 'pressao_arterial_media_nao_invasiva_maxima',\n",
       " 'pressao_arterial_media_nao_invasiva_minima',\n",
       " 'pressao_arterial_sistolica_maxima',\n",
       " 'pressao_arterial_sistolica_minima',\n",
       " 'pressao_arterial_sistolica_nao_invasiva_maxima',\n",
       " 'spO2_maximo',\n",
       " 'spO2_minimo'}"
      ]
     },
     "execution_count": 19,
     "metadata": {},
     "output_type": "execute_result"
    }
   ],
   "source": [
    "colunas_em_comum"
   ]
  },
  {
   "cell_type": "code",
   "execution_count": 20,
   "metadata": {},
   "outputs": [],
   "source": [
    "primeira_hora = ['h1_pressão_arterial_diastolica_maxima',\n",
    "       'h1_ressao_arterial_iastolica_minima',\n",
    "       'h1_pressao_arterial_diastolica_nao_invasiva_maxima',\n",
    "       'h1_pressao_arterial_diastolica_nao_invasiva_minima',\n",
    "       'h1_frequencia_cardiaca_maxima', 'h1_requencia_cardiaca_minima',\n",
    "       'h1_pressao_arterial_media_maxima', 'h1_pressao_arterial_media_minima',\n",
    "       'h1_pressao_arterial_media_nao_invasiva_maxima',\n",
    "       'h1_pressao_arterial_media_nao_invasiva_minima',\n",
    "       'h1_frequencia_respiratoria_maxima',\n",
    "       'h1_frequencia_respiratoria_minima', 'h1_spO2_maximo', 'h1_spO2_minimo',\n",
    "       'h1_pressao_arterial_sistolica_maxima',\n",
    "       'h1_pressao_arterial_sistolica_minima',\n",
    "       'h1_pressao_arterial_sistolica_nao_invasiva_maxima',\n",
    "       'h1_pressão_arterial_sistolica_nao_invasiva_minima']"
   ]
  },
  {
   "cell_type": "code",
   "execution_count": 21,
   "metadata": {},
   "outputs": [
    {
     "data": {
      "text/plain": [
       "['idade',\n",
       " 'imc',\n",
       " 'cirurgia_eletiva',\n",
       " 'etnia',\n",
       " 'genero',\n",
       " 'altura',\n",
       " 'aids',\n",
       " 'cirrose',\n",
       " 'diabetes_mellitus',\n",
       " 'insuficiencia_hepatica',\n",
       " 'imunossupressao',\n",
       " 'leucemia',\n",
       " 'linfoma',\n",
       " 'tumor_solido_com_metastase']"
      ]
     },
     "execution_count": 21,
     "metadata": {},
     "output_type": "execute_result"
    }
   ],
   "source": [
    "['idade', 'imc', 'cirurgia_eletiva', 'etnia', 'genero', 'altura','aids', 'cirrose', 'diabetes_mellitus',\n",
    "       'insuficiencia_hepatica', 'imunossupressao', 'leucemia', 'linfoma','tumor_solido_com_metastase',]"
   ]
  },
  {
   "cell_type": "code",
   "execution_count": 22,
   "metadata": {},
   "outputs": [
    {
     "data": {
      "text/plain": [
       "['fonte_admissao_uti',\n",
       " 'tipo_estadia_uti',\n",
       " 'tipo_uti',\n",
       " 'dias_de_permanencia_pre_uti',\n",
       " 'peso',\n",
       " 'diagnostico_pache_2',\n",
       " 'diagnostico_apache_3j',\n",
       " 'apache_pos_operatorio',\n",
       " 'arf_apache',\n",
       " 'gcs_olhos_apache',\n",
       " 'gcs_motor_apache',\n",
       " 'gcs_incapaz_apache',\n",
       " 'gcs_verbal_pache',\n",
       " 'frequencia_cardiaca_apache',\n",
       " 'intubado_apache',\n",
       " 'map_apache',\n",
       " 'frequencia_respiratoria_pache',\n",
       " 'temperatura_apache',\n",
       " 'ventilado_apache',\n",
       " 'sistema_corporal_apache_3j',\n",
       " 'sistema_corporal_apache_2',\n",
       " 'morte_hospital']"
      ]
     },
     "execution_count": 22,
     "metadata": {},
     "output_type": "execute_result"
    }
   ],
   "source": [
    "['fonte_admissao_uti', 'tipo_estadia_uti', 'tipo_uti',\n",
    "       'dias_de_permanencia_pre_uti', 'peso', 'diagnostico_pache_2',\n",
    "       'diagnostico_apache_3j', 'apache_pos_operatorio', 'arf_apache',\n",
    "       'gcs_olhos_apache', 'gcs_motor_apache', 'gcs_incapaz_apache',\n",
    "       'gcs_verbal_pache', 'frequencia_cardiaca_apache', 'intubado_apache',\n",
    "       'map_apache', 'frequencia_respiratoria_pache', 'temperatura_apache',\n",
    "       'ventilado_apache','sistema_corporal_apache_3j','sistema_corporal_apache_2', 'morte_hospital']"
   ]
  },
  {
   "cell_type": "code",
   "execution_count": 23,
   "metadata": {},
   "outputs": [],
   "source": [
    "colunas_primeiras_24_horas = ['d1_pressao_arterial_diastolica_maxima',\n",
    "       'd1_pressao_arterial_diastolica_minima',\n",
    "       'd1_pressao_arterial_diastolica_nao_invasiva_maxima',\n",
    "       'd1_pressao_arterial_diastólica_nao_invasiva_minima',\n",
    "       'd1_frequencia_cardiaca_maxima', 'd1_frequencia_cardiaca_minima',\n",
    "       'd1_pressao_arterial_media_maxima', 'd1_pressao_arterial_media_minima',\n",
    "       'd1_pressao_arterial_media_nao_invasiva_maxima',\n",
    "       'd1_pressao_arterial_media_nao_invasiva_minima',\n",
    "       'd1_frequencia_respiratoria_maxima',\n",
    "       'd1_frequencia_respiratoria_minima', 'd1_spO2_maximo', 'd1_spO2_minimo',\n",
    "       'd1_pressao_arterial_sistolica_maxima',\n",
    "       'd1_pressao_arterial_sistolica_minima',\n",
    "       'd1_pressao_arterial_sistolica_nao_invasiva_maxima',\n",
    "       'd1_pressao_arterial_sistolica_nao_invasiva_minima',\n",
    "       'd1_temperatura_maxima', 'd1_temperatura_minima','d1_glicose_maxima', \n",
    "       'd1_glicose_minima', 'd1_potassio_maximo',\n",
    "       'd1_potassio_minimo']"
   ]
  },
  {
   "cell_type": "code",
   "execution_count": 24,
   "metadata": {},
   "outputs": [],
   "source": [
    "table = pa.Table.from_pandas(df)\n",
    "pq.write_table(table, 'dataset_streamlit.parquet')"
   ]
  }
 ],
 "metadata": {
  "kernelspec": {
   "display_name": "Python 3",
   "language": "python",
   "name": "python3"
  },
  "language_info": {
   "codemirror_mode": {
    "name": "ipython",
    "version": 3
   },
   "file_extension": ".py",
   "mimetype": "text/x-python",
   "name": "python",
   "nbconvert_exporter": "python",
   "pygments_lexer": "ipython3",
   "version": "3.10.6"
  },
  "orig_nbformat": 4
 },
 "nbformat": 4,
 "nbformat_minor": 2
}
