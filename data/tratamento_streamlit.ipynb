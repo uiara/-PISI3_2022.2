{
 "cells": [
  {
   "cell_type": "code",
   "execution_count": 56,
   "metadata": {},
   "outputs": [],
   "source": [
    "import pandas as pd\n",
    "import pyarrow as pa\n",
    "import pyarrow.parquet as pq\n"
   ]
  },
  {
   "cell_type": "code",
   "execution_count": 57,
   "metadata": {},
   "outputs": [],
   "source": [
    "df = pd.read_parquet('dataset_renomeado.parquet')"
   ]
  },
  {
   "cell_type": "markdown",
   "metadata": {},
   "source": [
    "# Tratamento dos dados para criação dos gráficos no streamlit"
   ]
  },
  {
   "cell_type": "code",
   "execution_count": 58,
   "metadata": {},
   "outputs": [
    {
     "data": {
      "text/plain": [
       "Index(['id_ncontro', 'id_paciente', 'id_hospital', 'idade', 'imc',\n",
       "       'cirurgia_eletiva', 'etnia', 'genero', 'altura', 'fonte_admissao_uti',\n",
       "       'id_uti', 'tipo_estadia_uti', 'tipo_uti', 'dias_de_permanencia_pre_uti',\n",
       "       'peso', 'diagnostico_pache_2', 'diagnostico_apache_3j',\n",
       "       'apache_pos_operatorio', 'arf_apache', 'gcs_olhos_apache',\n",
       "       'gcs_motor_apache', 'gcs_incapaz_apache', 'gcs_verbal_pache',\n",
       "       'frequencia_cardiaca_apache', 'intubado_apache', 'map_apache',\n",
       "       'frequencia_respiratoria_pache', 'temperatura_apache',\n",
       "       'ventilado_apache', 'd1_pressao_arterial_diastolica_maxima',\n",
       "       'd1_pressao_arterial_diastolica_minima',\n",
       "       'd1_pressao_arterial_diastolica_nao_invasiva_maxima',\n",
       "       'd1_pressao_arterial_diastólica_nao_invasiva_minima',\n",
       "       'd1_frequencia_cardiaca_maxima', 'd1_frequencia_cardiaca_minima',\n",
       "       'd1_pressao_arterial_media_maxima', 'd1_pressao_arterial_media_minima',\n",
       "       'd1_pressao_arterial_media_nao_invasiva_maxima',\n",
       "       'd1_pressao_arterial_media_nao_invasiva_minima',\n",
       "       'd1_frequencia_respiratoria_maxima',\n",
       "       'd1_frequencia_respiratoria_minima', 'd1_spO2_maximo', 'd1_spO2_minimo',\n",
       "       'd1_pressao_arterial_sistolica_maxima',\n",
       "       'd1_pressao_arterial_sistolica_minima',\n",
       "       'd1_pressao_arterial_sistolica_nao_invasiva_maxima',\n",
       "       'd1_pressao_arterial_sistolica_nao_invasiva_minima',\n",
       "       'd1_temperatura_maxima', 'd1_temperatura_minima',\n",
       "       'h1_pressão_arterial_diastolica_maxima',\n",
       "       'h1_ressao_arterial_iastolica_minima',\n",
       "       'h1_pressao_arterial_diastolica_nao_invasiva_maxima',\n",
       "       'h1_pressao_arterial_diastolica_nao_invasiva_minima',\n",
       "       'h1_frequencia_cardiaca_maxima', 'h1_requencia_cardiaca_minima',\n",
       "       'h1_pressao_arterial_media_maxima', 'h1_pressao_arterial_media_minima',\n",
       "       'h1_pressao_arterial_media_nao_invasiva_maxima',\n",
       "       'h1_pressao_arterial_media_nao_invasiva_minima',\n",
       "       'h1_frequencia_respiratoria_maxima',\n",
       "       'h1_frequencia_respiratoria_minima', 'h1_spO2_maximo', 'h1_spO2_minimo',\n",
       "       'h1_pressao_arterial_sistolica_maxima',\n",
       "       'h1_pressao_arterial_sistolica_minima',\n",
       "       'h1_pressao_arterial_sistolica_nao_invasiva_maxima',\n",
       "       'h1_pressão_arterial_sistolica_nao_invasiva_minima',\n",
       "       'd1_glicose_maxima', 'd1_glicose_minima', 'd1_potassio_maximo',\n",
       "       'd1_potassio_minimo', 'probabilidade_morte_no_hospital_(apache_4a)',\n",
       "       'probabilidade_morte_na_uti_(apache_4a)', 'aids', 'cirrose',\n",
       "       'diabetes_mellitus', 'insuficiencia_hepatica', 'imunossupressao',\n",
       "       'leucemia', 'linfoma', 'tumor_solido_com_metastase',\n",
       "       'sistema_corporal_apache_3j', 'sistema_corporal_apache_2',\n",
       "       'morte_hospital'],\n",
       "      dtype='object')"
      ]
     },
     "execution_count": 58,
     "metadata": {},
     "output_type": "execute_result"
    }
   ],
   "source": [
    "df.columns"
   ]
  },
  {
   "cell_type": "code",
   "execution_count": 59,
   "metadata": {},
   "outputs": [],
   "source": [
    "df.rename(columns={'h1_pressão_arterial_diastolica_maxima': 'h1_pressao_arterial_diastolica_maxima','h1_ressao_arterial_iastolica_minima':'h1_pressao_arterial_iastolica_minima' }, inplace=True)"
   ]
  },
  {
   "cell_type": "code",
   "execution_count": 2,
   "metadata": {},
   "outputs": [],
   "source": [
    "#com certeza não vou usar essas colunas\n",
    "colunas_deletar = ['id_ncontro', 'id_paciente', 'id_hospital','id_uti']\n",
    "df = df.drop(columns=colunas_deletar)"
   ]
  },
  {
   "attachments": {},
   "cell_type": "markdown",
   "metadata": {},
   "source": [
    "## Tratar valores nulos \n",
    "\n"
   ]
  },
  {
   "cell_type": "code",
   "execution_count": 64,
   "metadata": {},
   "outputs": [],
   "source": [
    "for coluna in df.columns:\n",
    "    if df[coluna].dtype == object:  \n",
    "        df[coluna].fillna('Desconhecido', inplace=True)  \n",
    "    else:\n",
    "        media = df[coluna].mean()  \n",
    "        df[coluna].fillna(media, inplace=True) \n"
   ]
  },
  {
   "attachments": {},
   "cell_type": "markdown",
   "metadata": {},
   "source": [
    "## Converterndo para inteiro "
   ]
  },
  {
   "cell_type": "code",
   "execution_count": 66,
   "metadata": {},
   "outputs": [],
   "source": [
    "for coluna in df.columns:\n",
    "    if df[coluna].dtype == float:  \n",
    "          df[coluna] = df[coluna].replace({'0.': 0, '1.': 1}).astype(int)\n",
    "    "
   ]
  },
  {
   "attachments": {},
   "cell_type": "markdown",
   "metadata": {},
   "source": [
    "## Organizando nomes"
   ]
  },
  {
   "cell_type": "code",
   "execution_count": 67,
   "metadata": {},
   "outputs": [],
   "source": [
    "df['genero'] = df['genero'].replace({'M': 'Masculino', 'F': 'Feminino'}).fillna('Desconhecido')"
   ]
  },
  {
   "cell_type": "code",
   "execution_count": 68,
   "metadata": {},
   "outputs": [],
   "source": [
    "df['tipo_estadia_uti'] = df['tipo_estadia_uti'].replace({'admit': 'Admitido', 'readmit': 'Readmitido', 'transfer': 'Transferido'})"
   ]
  },
  {
   "cell_type": "code",
   "execution_count": 69,
   "metadata": {},
   "outputs": [],
   "source": [
    "fonte = {\n",
    "    'Floor': 'Piso',\n",
    "    'Accident & Emergency': 'Acidente e Emergência',\n",
    "    'Operating Room / Recovery': 'Sala de Cirurgia / Recuperação',\n",
    "    'Other Hospital': 'Outro Hospital',\n",
    "    'Other ICU': 'Outra UTI'\n",
    "}\n",
    "\n",
    "df['fonte_admissao_uti'] = df['fonte_admissao_uti'].replace(fonte)"
   ]
  },
  {
   "cell_type": "code",
   "execution_count": 70,
   "metadata": {},
   "outputs": [],
   "source": [
    "etnia = {\n",
    "    'Caucasian': 'Caucasiano',\n",
    "    'Hispanic': 'Hispanico',\n",
    "    'African American': 'Afro-americano',\n",
    "    'Asian': 'Asiático',\n",
    "    'Native American': 'Indígena',\n",
    "    'Other/Unknown': 'Outro/Desconhecido'\n",
    "}\n",
    "\n",
    "df['etnia'] = df['etnia'].replace(etnia)"
   ]
  },
  {
   "cell_type": "code",
   "execution_count": 71,
   "metadata": {},
   "outputs": [],
   "source": [
    "tipo_uti = {\n",
    "    'CTICU': 'CTI Cardíaco',\n",
    "    'Med-Surg ICU': 'CTI Med-Cirúrgico',\n",
    "    'CCU-CTICU': 'CTI Coronariano',\n",
    "    'Neuro ICU': 'CTI Neurológico',\n",
    "    'MICU': 'CTI Médico',\n",
    "    'SICU': 'CTI Cirúrgico',\n",
    "    'Cardiac ICU': 'CTI Cardíaco',\n",
    "    'CSICU': 'CTI Cardiovascular'\n",
    "}\n",
    "\n",
    "df['tipo_uti'] = df['tipo_uti'].replace(tipo_uti)"
   ]
  },
  {
   "cell_type": "code",
   "execution_count": 72,
   "metadata": {},
   "outputs": [],
   "source": [
    "df.to_parquet('dataset_streamlit.parquet')"
   ]
  },
  {
   "cell_type": "code",
   "execution_count": 73,
   "metadata": {},
   "outputs": [],
   "source": [
    "df.columns = [coluna.replace(\"d1_\", \"\") + \"_primeiras_24_horas\" if coluna.startswith(\"d1_\") else\n",
    "              coluna.replace(\"h1_\", \"\") + \"_primeira_hora\" if coluna.startswith(\"h1_\") else\n",
    "              coluna for coluna in df.columns]\n"
   ]
  },
  {
   "cell_type": "code",
   "execution_count": 75,
   "metadata": {},
   "outputs": [],
   "source": [
    "colunas_primeira_hora = [coluna.replace('_primeira_hora', '') for coluna in df.columns if '_primeira_hora' in coluna]\n",
    "colunas_primeiras_24_horas = [coluna.replace('_primeiras_24_horas', '') for coluna in df.columns if '_primeiras_24_horas' in coluna]\n",
    "\n",
    "colunas_em_comum = set(colunas_primeira_hora).intersection(colunas_primeiras_24_horas)\n"
   ]
  },
  {
   "cell_type": "code",
   "execution_count": 76,
   "metadata": {},
   "outputs": [
    {
     "data": {
      "text/plain": [
       "{'frequencia_cardiaca_maxima',\n",
       " 'frequencia_respiratoria_maxima',\n",
       " 'frequencia_respiratoria_minima',\n",
       " 'pressao_arterial_diastolica_maxima',\n",
       " 'pressao_arterial_diastolica_nao_invasiva_maxima',\n",
       " 'pressao_arterial_media_maxima',\n",
       " 'pressao_arterial_media_minima',\n",
       " 'pressao_arterial_media_nao_invasiva_maxima',\n",
       " 'pressao_arterial_media_nao_invasiva_minima',\n",
       " 'pressao_arterial_sistolica_maxima',\n",
       " 'pressao_arterial_sistolica_minima',\n",
       " 'pressao_arterial_sistolica_nao_invasiva_maxima',\n",
       " 'spO2_maximo',\n",
       " 'spO2_minimo'}"
      ]
     },
     "execution_count": 76,
     "metadata": {},
     "output_type": "execute_result"
    }
   ],
   "source": [
    "colunas_em_comum"
   ]
  },
  {
   "cell_type": "code",
   "execution_count": 77,
   "metadata": {},
   "outputs": [],
   "source": [
    "primeira_hora = ['h1_pressão_arterial_diastolica_maxima',\n",
    "       'h1_ressao_arterial_iastolica_minima',\n",
    "       'h1_pressao_arterial_diastolica_nao_invasiva_maxima',\n",
    "       'h1_pressao_arterial_diastolica_nao_invasiva_minima',\n",
    "       'h1_frequencia_cardiaca_maxima', 'h1_requencia_cardiaca_minima',\n",
    "       'h1_pressao_arterial_media_maxima', 'h1_pressao_arterial_media_minima',\n",
    "       'h1_pressao_arterial_media_nao_invasiva_maxima',\n",
    "       'h1_pressao_arterial_media_nao_invasiva_minima',\n",
    "       'h1_frequencia_respiratoria_maxima',\n",
    "       'h1_frequencia_respiratoria_minima', 'h1_spO2_maximo', 'h1_spO2_minimo',\n",
    "       'h1_pressao_arterial_sistolica_maxima',\n",
    "       'h1_pressao_arterial_sistolica_minima',\n",
    "       'h1_pressao_arterial_sistolica_nao_invasiva_maxima',\n",
    "       'h1_pressão_arterial_sistolica_nao_invasiva_minima']"
   ]
  },
  {
   "cell_type": "code",
   "execution_count": 78,
   "metadata": {},
   "outputs": [
    {
     "data": {
      "text/plain": [
       "['idade',\n",
       " 'imc',\n",
       " 'cirurgia_eletiva',\n",
       " 'etnia',\n",
       " 'genero',\n",
       " 'altura',\n",
       " 'aids',\n",
       " 'cirrose',\n",
       " 'diabetes_mellitus',\n",
       " 'insuficiencia_hepatica',\n",
       " 'imunossupressao',\n",
       " 'leucemia',\n",
       " 'linfoma',\n",
       " 'tumor_solido_com_metastase']"
      ]
     },
     "execution_count": 78,
     "metadata": {},
     "output_type": "execute_result"
    }
   ],
   "source": [
    "['idade', 'imc', 'cirurgia_eletiva', 'etnia', 'genero', 'altura','aids', 'cirrose', 'diabetes_mellitus',\n",
    "       'insuficiencia_hepatica', 'imunossupressao', 'leucemia', 'linfoma','tumor_solido_com_metastase',]"
   ]
  },
  {
   "cell_type": "code",
   "execution_count": 79,
   "metadata": {},
   "outputs": [
    {
     "data": {
      "text/plain": [
       "['fonte_admissao_uti',\n",
       " 'tipo_estadia_uti',\n",
       " 'tipo_uti',\n",
       " 'dias_de_permanencia_pre_uti',\n",
       " 'peso',\n",
       " 'diagnostico_pache_2',\n",
       " 'diagnostico_apache_3j',\n",
       " 'apache_pos_operatorio',\n",
       " 'arf_apache',\n",
       " 'gcs_olhos_apache',\n",
       " 'gcs_motor_apache',\n",
       " 'gcs_incapaz_apache',\n",
       " 'gcs_verbal_pache',\n",
       " 'frequencia_cardiaca_apache',\n",
       " 'intubado_apache',\n",
       " 'map_apache',\n",
       " 'frequencia_respiratoria_pache',\n",
       " 'temperatura_apache',\n",
       " 'ventilado_apache',\n",
       " 'sistema_corporal_apache_3j',\n",
       " 'sistema_corporal_apache_2',\n",
       " 'morte_hospital']"
      ]
     },
     "execution_count": 79,
     "metadata": {},
     "output_type": "execute_result"
    }
   ],
   "source": [
    "['fonte_admissao_uti', 'tipo_estadia_uti', 'tipo_uti',\n",
    "       'dias_de_permanencia_pre_uti', 'peso', 'diagnostico_pache_2',\n",
    "       'diagnostico_apache_3j', 'apache_pos_operatorio', 'arf_apache',\n",
    "       'gcs_olhos_apache', 'gcs_motor_apache', 'gcs_incapaz_apache',\n",
    "       'gcs_verbal_pache', 'frequencia_cardiaca_apache', 'intubado_apache',\n",
    "       'map_apache', 'frequencia_respiratoria_pache', 'temperatura_apache',\n",
    "       'ventilado_apache','sistema_corporal_apache_3j','sistema_corporal_apache_2', 'morte_hospital']"
   ]
  },
  {
   "cell_type": "code",
   "execution_count": 80,
   "metadata": {},
   "outputs": [],
   "source": [
    "colunas_primeiras_24_horas = ['d1_pressao_arterial_diastolica_maxima',\n",
    "       'd1_pressao_arterial_diastolica_minima',\n",
    "       'd1_pressao_arterial_diastolica_nao_invasiva_maxima',\n",
    "       'd1_pressao_arterial_diastólica_nao_invasiva_minima',\n",
    "       'd1_frequencia_cardiaca_maxima', 'd1_frequencia_cardiaca_minima',\n",
    "       'd1_pressao_arterial_media_maxima', 'd1_pressao_arterial_media_minima',\n",
    "       'd1_pressao_arterial_media_nao_invasiva_maxima',\n",
    "       'd1_pressao_arterial_media_nao_invasiva_minima',\n",
    "       'd1_frequencia_respiratoria_maxima',\n",
    "       'd1_frequencia_respiratoria_minima', 'd1_spO2_maximo', 'd1_spO2_minimo',\n",
    "       'd1_pressao_arterial_sistolica_maxima',\n",
    "       'd1_pressao_arterial_sistolica_minima',\n",
    "       'd1_pressao_arterial_sistolica_nao_invasiva_maxima',\n",
    "       'd1_pressao_arterial_sistolica_nao_invasiva_minima',\n",
    "       'd1_temperatura_maxima', 'd1_temperatura_minima','d1_glicose_maxima', \n",
    "       'd1_glicose_minima', 'd1_potassio_maximo',\n",
    "       'd1_potassio_minimo']"
   ]
  },
  {
   "cell_type": "code",
   "execution_count": 81,
   "metadata": {},
   "outputs": [],
   "source": [
    "table = pa.Table.from_pandas(df)\n",
    "pq.write_table(table, 'dataset_streamlit.parquet')"
   ]
  },
  {
   "cell_type": "code",
   "execution_count": 90,
   "metadata": {},
   "outputs": [
    {
     "name": "stderr",
     "output_type": "stream",
     "text": [
      "/tmp/ipykernel_17243/3482270238.py:1: FutureWarning: The default value of numeric_only in DataFrame.corr is deprecated. In a future version, it will default to False. Select only valid columns or specify the value of numeric_only to silence this warning.\n",
      "  correlation_matrix = dados.corr()\n"
     ]
    },
    {
     "data": {
      "text/plain": [
       "['ventilado_apache', 'morte_hospital']"
      ]
     },
     "execution_count": 90,
     "metadata": {},
     "output_type": "execute_result"
    }
   ],
   "source": [
    "correlation_matrix = dados.corr()\n",
    "\n",
    "colunas_correlacao_maior_04 = correlation_matrix[correlation_matrix['morte_hospital'] > 0.2].index.tolist()\n",
    "\n",
    "colunas_correlacao_maior_04"
   ]
  }
 ],
 "metadata": {
  "kernelspec": {
   "display_name": "Python 3",
   "language": "python",
   "name": "python3"
  },
  "language_info": {
   "codemirror_mode": {
    "name": "ipython",
    "version": 3
   },
   "file_extension": ".py",
   "mimetype": "text/x-python",
   "name": "python",
   "nbconvert_exporter": "python",
   "pygments_lexer": "ipython3",
   "version": "3.10.6"
  },
  "orig_nbformat": 4
 },
 "nbformat": 4,
 "nbformat_minor": 2
}
