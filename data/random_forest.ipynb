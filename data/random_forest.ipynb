{
 "cells": [
  {
   "cell_type": "code",
   "execution_count": 1,
   "metadata": {},
   "outputs": [],
   "source": [
    "import pandas as pd\n",
    "from sklearn.model_selection import train_test_split\n",
    "from sklearn.ensemble import RandomForestClassifier\n",
    "from sklearn.metrics import accuracy_score, confusion_matrix, classification_report\n",
    "\n",
    "from imblearn.under_sampling import RandomUnderSampler\n"
   ]
  },
  {
   "cell_type": "code",
   "execution_count": 2,
   "metadata": {},
   "outputs": [],
   "source": [
    "df = pd.read_parquet('/home/bianka/PISI3_2022.2/data/dataset_renomeado.parquet')\n"
   ]
  },
  {
   "cell_type": "code",
   "execution_count": 3,
   "metadata": {},
   "outputs": [],
   "source": [
    "\n",
    "df = df[['ventilado_apache','tipo_estadia_uti', 'd1_frequencia_cardiaca_maxima',\n",
    "         'd1_frequencia_cardiaca_minima', 'h1_frequencia_respiratoria_maxima',\n",
    "         'd1_spO2_minimo','d1_spO2_maximo','d1_temperatura_minima','d1_temperatura_maxima',\n",
    "         'h1_frequencia_respiratoria_minima',\n",
    "          'morte_hospital']]\n",
    "df = df.dropna()\n",
    "\n",
    "\n",
    "one_hot_encoded = pd.get_dummies(df['tipo_estadia_uti'])\n",
    "df = pd.concat([df, one_hot_encoded], axis=1)\n"
   ]
  },
  {
   "cell_type": "code",
   "execution_count": 4,
   "metadata": {},
   "outputs": [
    {
     "name": "stdout",
     "output_type": "stream",
     "text": [
      "Volume de dados em relação ao valor 0 em morte_hospital: 77509\n",
      "Volume de dados em relação ao valor 1 em morte_hospital: 7215\n"
     ]
    }
   ],
   "source": [
    "# Use o método 'value_counts' para contar os valores únicos na coluna 'morte_hospital'\n",
    "contagem_morte_hospital = df['morte_hospital'].value_counts()\n",
    "\n",
    "# Exiba os resultados\n",
    "print(\"Volume de dados em relação ao valor 0 em morte_hospital:\", contagem_morte_hospital[0])\n",
    "print(\"Volume de dados em relação ao valor 1 em morte_hospital:\", contagem_morte_hospital[1])"
   ]
  },
  {
   "cell_type": "code",
   "execution_count": 5,
   "metadata": {},
   "outputs": [
    {
     "name": "stdout",
     "output_type": "stream",
     "text": [
      "<class 'pandas.core.frame.DataFrame'>\n",
      "Int64Index: 84724 entries, 0 to 91712\n",
      "Data columns (total 14 columns):\n",
      " #   Column                             Non-Null Count  Dtype  \n",
      "---  ------                             --------------  -----  \n",
      " 0   ventilado_apache                   84724 non-null  float64\n",
      " 1   tipo_estadia_uti                   84724 non-null  object \n",
      " 2   d1_frequencia_cardiaca_maxima      84724 non-null  float64\n",
      " 3   d1_frequencia_cardiaca_minima      84724 non-null  float64\n",
      " 4   h1_frequencia_respiratoria_maxima  84724 non-null  float64\n",
      " 5   d1_spO2_minimo                     84724 non-null  float64\n",
      " 6   d1_spO2_maximo                     84724 non-null  float64\n",
      " 7   d1_temperatura_minima              84724 non-null  float64\n",
      " 8   d1_temperatura_maxima              84724 non-null  float64\n",
      " 9   h1_frequencia_respiratoria_minima  84724 non-null  float64\n",
      " 10  morte_hospital                     84724 non-null  int64  \n",
      " 11  admit                              84724 non-null  uint8  \n",
      " 12  readmit                            84724 non-null  uint8  \n",
      " 13  transfer                           84724 non-null  uint8  \n",
      "dtypes: float64(9), int64(1), object(1), uint8(3)\n",
      "memory usage: 8.0+ MB\n"
     ]
    }
   ],
   "source": [
    "df.info()"
   ]
  },
  {
   "cell_type": "code",
   "execution_count": 6,
   "metadata": {},
   "outputs": [],
   "source": [
    "def categorizar_fc_maxima(fc):\n",
    "    if fc < 60:\n",
    "        return 'primeiras_24_horas_frequencia_cardiaca_maxima_muito_baixa'\n",
    "    elif 60 <= fc < 70:\n",
    "        return 'primeiras_24_horas_frequencia_cardiaca_maxima_baixa'\n",
    "    elif 70 <= fc < 100:\n",
    "        return 'primeiras_24_horas_frequencia_cardiaca_maxima_normal'\n",
    "    elif 100 <= fc < 120:\n",
    "        return 'primeiras_24_horas_frequencia_cardiaca_maxima_elevada'\n",
    "    else:\n",
    "        return 'primeiras_24_horas_frequencia_cardiaca_maxima_muito_elevada'\n",
    "\n",
    "df['categoria_fc_maxima'] = df['d1_frequencia_cardiaca_maxima'].apply(categorizar_fc_maxima)\n",
    "\n",
    "one_hot_encoded = pd.get_dummies(df['categoria_fc_maxima'])\n",
    "\n",
    "df = pd.concat([df, one_hot_encoded], axis=1)\n",
    "\n",
    "df = df.drop('categoria_fc_maxima', axis=1)"
   ]
  },
  {
   "cell_type": "code",
   "execution_count": 7,
   "metadata": {},
   "outputs": [],
   "source": [
    "def categorizar_fr(fr):\n",
    "    if fr < 12:\n",
    "        return 'primeira_hora_frequencia_respiratoria_maxima_muito_baixa'\n",
    "    elif 12 <= fr < 16:\n",
    "        return 'primeira_hora_frequencia_respiratoria_maxima_baixa'\n",
    "    elif 16 <= fr < 20:\n",
    "        return 'primeira_hora_frequencia_respiratoria_maxima_normal'\n",
    "    elif 20 <= fr < 24:\n",
    "        return 'primeira_hora_frequencia_respiratoria_maxima_elevada'\n",
    "    else:\n",
    "        return 'primeira_hora_frequencia_respiratoria_maxima_muito elevada'\n",
    "\n",
    "df['categoria_frequencia_respiratoria_maxima'] = df['h1_frequencia_respiratoria_maxima'].apply(categorizar_fr)\n",
    "\n",
    "one_hot_encoded = pd.get_dummies(df['categoria_frequencia_respiratoria_maxima'])\n",
    "\n",
    "df = pd.concat([df, one_hot_encoded], axis=1)\n",
    "\n",
    "df = df.drop('categoria_frequencia_respiratoria_maxima', axis=1)\n",
    "\n"
   ]
  },
  {
   "cell_type": "code",
   "execution_count": 8,
   "metadata": {},
   "outputs": [],
   "source": [
    "def categorizar_fr(fr):\n",
    "    if fr < 12:\n",
    "        return 'primeira_hora_frequencia_respiratoria_minima_muito_baixa'\n",
    "    elif 12 <= fr < 16:\n",
    "        return 'primeira_hora_frequencia_respiratoria_minima_baixa'\n",
    "    elif 16 <= fr < 20:\n",
    "        return 'primeira_hora_frequencia_respiratoria_minima_normal'\n",
    "    elif 20 <= fr < 24:\n",
    "        return 'primeira_hora_frequencia_respiratoria_minima_elevada'\n",
    "    else:\n",
    "        return 'primeira_hora_frequencia_respiratoria_minima_muito elevada'\n",
    "\n",
    "df['categoria_frequencia_respiratoria_minima'] = df['h1_frequencia_respiratoria_minima'].apply(categorizar_fr)\n",
    "\n",
    "one_hot_encoded = pd.get_dummies(df['categoria_frequencia_respiratoria_minima'])\n",
    "\n",
    "df = pd.concat([df, one_hot_encoded], axis=1)\n",
    "\n",
    "df = df.drop('categoria_frequencia_respiratoria_minima', axis=1)\n"
   ]
  },
  {
   "cell_type": "code",
   "execution_count": 9,
   "metadata": {},
   "outputs": [],
   "source": [
    "df = df[~((df['d1_spO2_minimo'] <= 20))]\n",
    "\n",
    "def categorize_saturacao(sat):\n",
    "    if sat < 85:\n",
    "        return 'saturacao_primieras_vinte_quatro_horas_minima_muito_baixa'\n",
    "    elif sat < 90:\n",
    "        return 'saturacao_primieras_vinte_quatro_horas_minima_baixa'\n",
    "    elif sat < 95:\n",
    "        return 'saturacao_primieras_vinte_quatro_horas_minima_moderada'\n",
    "    elif sat < 100:\n",
    "        return 'saturacao_primieras_vinte_quatro_horas_minima_boa'\n",
    "\n",
    "\n",
    "df['categoria_d1_spO2_minimo'] = df['d1_spO2_minimo'].apply(categorizar_fr)\n",
    "\n",
    "one_hot_encoded = pd.get_dummies(df['categoria_d1_spO2_minimo'])\n",
    "\n",
    "df = pd.concat([df, one_hot_encoded], axis=1)\n",
    "\n",
    "df = df.drop('categoria_d1_spO2_minimo', axis=1)"
   ]
  },
  {
   "cell_type": "code",
   "execution_count": 10,
   "metadata": {},
   "outputs": [],
   "source": [
    "# apaga linhas com \n",
    "df = df[~((df['d1_spO2_maximo'] <= 20))]\n",
    "\n",
    "def categorize_saturacao(sat):\n",
    "    if sat < 85:\n",
    "        return 'saturacao_primieras_vinte_quatro_horas_maxima_muito_baixa'\n",
    "    elif sat < 90:\n",
    "        return 'saturacao_primieras_vinte_quatro_horas_maxima_baixa'\n",
    "    elif sat < 95:\n",
    "        return 'saturacao_primieras_vinte_quatro_horas_maxima_moderada'\n",
    "    elif sat < 100:\n",
    "        return 'saturacao_primieras_vinte_quatro_horas_maxima_boa'\n",
    "\n",
    "\n",
    "df['categoria_d1_spO2_maxima'] = df['d1_spO2_maximo'].apply(categorizar_fr)\n",
    "\n",
    "one_hot_encoded = pd.get_dummies(df['categoria_d1_spO2_maxima'])\n",
    "\n",
    "df = pd.concat([df, one_hot_encoded], axis=1)\n",
    "\n",
    "df = df.drop('categoria_d1_spO2_maxima', axis=1)"
   ]
  },
  {
   "cell_type": "code",
   "execution_count": 11,
   "metadata": {},
   "outputs": [],
   "source": [
    "def categorize_temperatura(temp):\n",
    "    if temp < 35:\n",
    "        return 'temperatura_minima_primieras_vinte_quatro_horas_hipotermia'\n",
    "    if temp < 37:\n",
    "        return 'temperatura_minima_primieras_vinte_quatro_horas_normal'\n",
    "    if temp >= 37:\n",
    "        return 'temperatura_minima_primieras_vinte_quatro_horas_febre'\n",
    "\n",
    "df['categoria_d1_temperatura_minima'] = df['d1_temperatura_minima'].apply(categorize_temperatura)\n",
    "\n",
    "one_hot_encoded = pd.get_dummies(df['categoria_d1_temperatura_minima'])\n",
    "\n",
    "df = pd.concat([df, one_hot_encoded], axis=1)\n",
    "\n",
    "df = df.drop('categoria_d1_temperatura_minima', axis=1)\n"
   ]
  },
  {
   "cell_type": "code",
   "execution_count": 12,
   "metadata": {},
   "outputs": [],
   "source": [
    "\n",
    "def categorize_temperatura(temp_max):\n",
    "    if temp_max < 35:\n",
    "        return 'temperatura_minima_primieras_vinte_quatro_horas_hipotermia'\n",
    "    if temp_max < 37:\n",
    "        return 'temperatura_minima_primieras_vinte_quatro_horas_normal'\n",
    "    if temp_max >= 37:\n",
    "        return 'temperatura_minima_primieras_vinte_quatro_horas_febre'\n",
    "\n",
    "df['categoria_d1_temperatura_minima'] = df['d1_temperatura_maxima'].apply(categorize_temperatura)\n",
    "\n",
    "one_hot_encoded = pd.get_dummies(df['categoria_d1_temperatura_minima'])\n",
    "\n",
    "df = pd.concat([df, one_hot_encoded], axis=1)\n",
    "\n",
    "df = df.drop('categoria_d1_temperatura_minima', axis=1)\n"
   ]
  },
  {
   "cell_type": "code",
   "execution_count": 13,
   "metadata": {},
   "outputs": [],
   "source": [
    "df = df.drop(['d1_frequencia_cardiaca_maxima',\n",
    "       'd1_frequencia_cardiaca_minima', 'h1_frequencia_respiratoria_maxima',\n",
    "       'd1_spO2_minimo','d1_spO2_maximo','d1_temperatura_minima','tipo_estadia_uti','h1_frequencia_respiratoria_minima'], axis=1)"
   ]
  },
  {
   "cell_type": "code",
   "execution_count": 14,
   "metadata": {},
   "outputs": [
    {
     "name": "stdout",
     "output_type": "stream",
     "text": [
      "<class 'pandas.core.frame.DataFrame'>\n",
      "Int64Index: 84314 entries, 0 to 91712\n",
      "Data columns (total 29 columns):\n",
      " #   Column                                                       Non-Null Count  Dtype  \n",
      "---  ------                                                       --------------  -----  \n",
      " 0   ventilado_apache                                             84314 non-null  float64\n",
      " 1   d1_temperatura_maxima                                        84314 non-null  float64\n",
      " 2   morte_hospital                                               84314 non-null  int64  \n",
      " 3   admit                                                        84314 non-null  uint8  \n",
      " 4   readmit                                                      84314 non-null  uint8  \n",
      " 5   transfer                                                     84314 non-null  uint8  \n",
      " 6   primeiras_24_horas_frequencia_cardiaca_maxima_baixa          84314 non-null  uint8  \n",
      " 7   primeiras_24_horas_frequencia_cardiaca_maxima_elevada        84314 non-null  uint8  \n",
      " 8   primeiras_24_horas_frequencia_cardiaca_maxima_muito_baixa    84314 non-null  uint8  \n",
      " 9   primeiras_24_horas_frequencia_cardiaca_maxima_muito_elevada  84314 non-null  uint8  \n",
      " 10  primeiras_24_horas_frequencia_cardiaca_maxima_normal         84314 non-null  uint8  \n",
      " 11  primeira_hora_frequencia_respiratoria_maxima_baixa           84314 non-null  uint8  \n",
      " 12  primeira_hora_frequencia_respiratoria_maxima_elevada         84314 non-null  uint8  \n",
      " 13  primeira_hora_frequencia_respiratoria_maxima_muito elevada   84314 non-null  uint8  \n",
      " 14  primeira_hora_frequencia_respiratoria_maxima_muito_baixa     84314 non-null  uint8  \n",
      " 15  primeira_hora_frequencia_respiratoria_maxima_normal          84314 non-null  uint8  \n",
      " 16  primeira_hora_frequencia_respiratoria_minima_baixa           84314 non-null  uint8  \n",
      " 17  primeira_hora_frequencia_respiratoria_minima_elevada         84314 non-null  uint8  \n",
      " 18  primeira_hora_frequencia_respiratoria_minima_muito elevada   84314 non-null  uint8  \n",
      " 19  primeira_hora_frequencia_respiratoria_minima_muito_baixa     84314 non-null  uint8  \n",
      " 20  primeira_hora_frequencia_respiratoria_minima_normal          84314 non-null  uint8  \n",
      " 21  primeira_hora_frequencia_respiratoria_minima_elevada         84314 non-null  uint8  \n",
      " 22  primeira_hora_frequencia_respiratoria_minima_muito elevada   84314 non-null  uint8  \n",
      " 23  primeira_hora_frequencia_respiratoria_minima_muito elevada   84314 non-null  uint8  \n",
      " 24  temperatura_minima_primieras_vinte_quatro_horas_febre        84314 non-null  uint8  \n",
      " 25  temperatura_minima_primieras_vinte_quatro_horas_hipotermia   84314 non-null  uint8  \n",
      " 26  temperatura_minima_primieras_vinte_quatro_horas_normal       84314 non-null  uint8  \n",
      " 27  temperatura_minima_primieras_vinte_quatro_horas_febre        84314 non-null  uint8  \n",
      " 28  temperatura_minima_primieras_vinte_quatro_horas_normal       84314 non-null  uint8  \n",
      "dtypes: float64(2), int64(1), uint8(26)\n",
      "memory usage: 4.7 MB\n"
     ]
    }
   ],
   "source": [
    "df.info()"
   ]
  },
  {
   "cell_type": "code",
   "execution_count": 15,
   "metadata": {},
   "outputs": [
    {
     "name": "stdout",
     "output_type": "stream",
     "text": [
      "Accuracy: 0.909891478384629\n",
      "Confusion Matrix:\n",
      "[[30292   621]\n",
      " [ 2418   395]]\n",
      "Classification Report:\n",
      "              precision    recall  f1-score   support\n",
      "\n",
      "           0       0.93      0.98      0.95     30913\n",
      "           1       0.39      0.14      0.21      2813\n",
      "\n",
      "    accuracy                           0.91     33726\n",
      "   macro avg       0.66      0.56      0.58     33726\n",
      "weighted avg       0.88      0.91      0.89     33726\n",
      "\n"
     ]
    }
   ],
   "source": [
    "y = df['morte_hospital']\n",
    "X = df.drop(['morte_hospital'], axis=1)\n",
    "\n",
    "X_train, X_test, y_train, y_test = train_test_split(X, y, test_size=0.4, random_state=42)\n",
    "\n",
    "rus = RandomUnderSampler(sampling_strategy='auto', random_state=42)  \n",
    "X_train_resampled, y_train_resampled = rus.fit_resample(X_train, y_train)\n",
    "\n",
    "X_train_resampled, X_test, y_train_resampled, y_test = train_test_split(X, y, test_size=0.4, random_state=42)\n",
    "\n",
    "random_forest = RandomForestClassifier(n_estimators=100, random_state=42)\n",
    "\n",
    "random_forest.fit(X_train, y_train)\n",
    "\n",
    "y_pred = random_forest.predict(X_test)\n",
    "\n",
    "accuracy = accuracy_score(y_test, y_pred)\n",
    "print(\"Accuracy:\", accuracy)\n",
    "\n",
    "conf_matrix = confusion_matrix(y_test, y_pred)\n",
    "print(\"Confusion Matrix:\")\n",
    "print(conf_matrix)\n",
    "\n",
    "class_report = classification_report(y_test, y_pred)\n",
    "print(\"Classification Report:\")\n",
    "print(class_report)\n"
   ]
  },
  {
   "cell_type": "code",
   "execution_count": 16,
   "metadata": {},
   "outputs": [
    {
     "name": "stdout",
     "output_type": "stream",
     "text": [
      "Antes do SMOTE:\n",
      "0    51752\n",
      "1     4738\n",
      "Name: morte_hospital, dtype: int64\n",
      "Após o SMOTE:\n",
      "0    51752\n",
      "1    51752\n",
      "Name: morte_hospital, dtype: int64\n"
     ]
    }
   ],
   "source": [
    "from imblearn.over_sampling import SMOTE\n",
    "\n",
    "y = df['morte_hospital']\n",
    "X = df.drop(['morte_hospital'], axis=1)\n",
    "\n",
    "X_train, X_test, y_train, y_test = train_test_split(X, y, test_size=0.33, random_state=42)\n",
    "\n",
    "smote = SMOTE(sampling_strategy='auto', random_state=42)  # Você pode ajustar o valor de 'sampling_strategy' conforme necessário\n",
    "X_train_resampled, y_train_resampled = smote.fit_resample(X_train, y_train)\n",
    "\n",
    "print(\"Antes do SMOTE:\")\n",
    "print(pd.Series(y_train).value_counts())\n",
    "\n",
    "\n",
    "print(\"Após o SMOTE:\")\n",
    "print(pd.Series(y_train_resampled).value_counts())\n"
   ]
  },
  {
   "cell_type": "code",
   "execution_count": 17,
   "metadata": {},
   "outputs": [
    {
     "name": "stdout",
     "output_type": "stream",
     "text": [
      "Accuracy: 0.8384629069560576\n",
      "Confusion Matrix:\n",
      "[[27276  3637]\n",
      " [ 1811  1002]]\n",
      "Classification Report:\n",
      "              precision    recall  f1-score   support\n",
      "\n",
      "           0       0.94      0.88      0.91     30913\n",
      "           1       0.22      0.36      0.27      2813\n",
      "\n",
      "    accuracy                           0.84     33726\n",
      "   macro avg       0.58      0.62      0.59     33726\n",
      "weighted avg       0.88      0.84      0.86     33726\n",
      "\n"
     ]
    }
   ],
   "source": [
    "y = df['morte_hospital']\n",
    "X = df.drop(['morte_hospital'], axis=1)\n",
    "\n",
    "X_train, X_test, y_train, y_test = train_test_split(X, y, test_size=0.4, random_state=42)\n",
    "\n",
    "smote = SMOTE(sampling_strategy='auto', random_state=42)  \n",
    "X_train_resampled, y_train_resampled = smote.fit_resample(X_train, y_train)\n",
    "\n",
    "random_forest = RandomForestClassifier(n_estimators=100, random_state=42)\n",
    "\n",
    "random_forest.fit(X_train_resampled, y_train_resampled)\n",
    "\n",
    "y_pred = random_forest.predict(X_test)\n",
    "\n",
    "accuracy = accuracy_score(y_test, y_pred)\n",
    "print(\"Accuracy:\", accuracy)\n",
    "\n",
    "conf_matrix = confusion_matrix(y_test, y_pred)\n",
    "print(\"Confusion Matrix:\")\n",
    "print(conf_matrix)\n",
    "\n",
    "class_report = classification_report(y_test, y_pred)\n",
    "print(\"Classification Report:\")\n",
    "print(class_report)\n"
   ]
  },
  {
   "cell_type": "markdown",
   "metadata": {},
   "source": [
    "## Aplicando Random Over Sampling (ROS)"
   ]
  },
  {
   "cell_type": "code",
   "execution_count": 18,
   "metadata": {},
   "outputs": [
    {
     "name": "stdout",
     "output_type": "stream",
     "text": [
      "Antes do SMOTE:\n",
      "0    51752\n",
      "1     4738\n",
      "Name: morte_hospital, dtype: int64\n",
      "Após o SMOTE:\n",
      "0    51752\n",
      "1    51752\n",
      "Name: morte_hospital, dtype: int64\n"
     ]
    }
   ],
   "source": [
    "from imblearn.over_sampling import RandomOverSampler\n",
    "\n",
    "y = df['morte_hospital']\n",
    "X = df.drop(['morte_hospital'], axis=1)\n",
    "\n",
    "X_train, X_test, y_train, y_test = train_test_split(X, y, test_size=0.33, random_state=42)\n",
    "\n",
    "ros = RandomOverSampler(random_state=42)\n",
    "X_train_resampled, y_train_resampled = ros.fit_resample(X_train, y_train)\n",
    "\n",
    "print(\"Antes do SMOTE:\")\n",
    "print(pd.Series(y_train).value_counts())\n",
    "\n",
    "\n",
    "print(\"Após o SMOTE:\")\n",
    "print(pd.Series(y_train_resampled).value_counts())\n"
   ]
  },
  {
   "cell_type": "code",
   "execution_count": 19,
   "metadata": {},
   "outputs": [
    {
     "name": "stdout",
     "output_type": "stream",
     "text": [
      "Accuracy: 0.7576054082903398\n",
      "Confusion Matrix:\n",
      "[[24137  6776]\n",
      " [ 1399  1414]]\n",
      "Classification Report:\n",
      "              precision    recall  f1-score   support\n",
      "\n",
      "           0       0.95      0.78      0.86     30913\n",
      "           1       0.17      0.50      0.26      2813\n",
      "\n",
      "    accuracy                           0.76     33726\n",
      "   macro avg       0.56      0.64      0.56     33726\n",
      "weighted avg       0.88      0.76      0.81     33726\n",
      "\n"
     ]
    }
   ],
   "source": [
    "from imblearn.over_sampling import RandomOverSampler\n",
    "\n",
    "y = df['morte_hospital']\n",
    "X = df.drop(['morte_hospital'], axis=1)\n",
    "\n",
    "X_train, X_test, y_train, y_test = train_test_split(X, y, test_size=0.4, random_state=42)\n",
    "\n",
    "ros = RandomOverSampler(random_state=42)\n",
    "X_train_resampled, y_train_resampled = ros.fit_resample(X_train, y_train)\n",
    "\n",
    "random_forest = RandomForestClassifier(n_estimators=100, random_state=42)\n",
    "\n",
    "random_forest.fit(X_train_resampled, y_train_resampled)\n",
    "\n",
    "y_pred = random_forest.predict(X_test)\n",
    "\n",
    "accuracy = accuracy_score(y_test, y_pred)\n",
    "print(\"Accuracy:\", accuracy)\n",
    "\n",
    "conf_matrix = confusion_matrix(y_test, y_pred)\n",
    "print(\"Confusion Matrix:\")\n",
    "print(conf_matrix)\n",
    "\n",
    "class_report = classification_report(y_test, y_pred)\n",
    "print(\"Classification Report:\")\n",
    "print(class_report)\n",
    "\n"
   ]
  },
  {
   "cell_type": "code",
   "execution_count": null,
   "metadata": {},
   "outputs": [],
   "source": []
  },
  {
   "cell_type": "markdown",
   "metadata": {},
   "source": [
    "Adaptive Synthetic Sampling (ADASYN)\n"
   ]
  },
  {
   "cell_type": "code",
   "execution_count": 20,
   "metadata": {},
   "outputs": [
    {
     "name": "stdout",
     "output_type": "stream",
     "text": [
      "Accuracy: 0.7576054082903398\n",
      "Confusion Matrix:\n",
      "[[24137  6776]\n",
      " [ 1399  1414]]\n",
      "Classification Report:\n",
      "              precision    recall  f1-score   support\n",
      "\n",
      "           0       0.95      0.78      0.86     30913\n",
      "           1       0.17      0.50      0.26      2813\n",
      "\n",
      "    accuracy                           0.76     33726\n",
      "   macro avg       0.56      0.64      0.56     33726\n",
      "weighted avg       0.88      0.76      0.81     33726\n",
      "\n"
     ]
    }
   ],
   "source": [
    "from imblearn.over_sampling import ADASYN\n",
    "\n",
    "y = df['morte_hospital']\n",
    "X = df.drop(['morte_hospital'], axis=1)\n",
    "\n",
    "X_train, X_test, y_train, y_test = train_test_split(X, y, test_size=0.4, random_state=42)\n",
    "\n",
    "adasyn = ADASYN(sampling_strategy='auto', random_state=42)\n",
    "X_resampled, y_resampled = adasyn.fit_resample(X_train, y_train)\n",
    "\n",
    "random_forest = RandomForestClassifier(n_estimators=100, random_state=42)\n",
    "\n",
    "random_forest.fit(X_train_resampled, y_train_resampled)\n",
    "\n",
    "y_pred = random_forest.predict(X_test)\n",
    "\n",
    "accuracy = accuracy_score(y_test, y_pred)\n",
    "print(\"Accuracy:\", accuracy)\n",
    "\n",
    "conf_matrix = confusion_matrix(y_test, y_pred)\n",
    "print(\"Confusion Matrix:\")\n",
    "print(conf_matrix)\n",
    "\n",
    "class_report = classification_report(y_test, y_pred)\n",
    "print(\"Classification Report:\")\n",
    "print(class_report)"
   ]
  },
  {
   "cell_type": "markdown",
   "metadata": {},
   "source": [
    "NearMiss"
   ]
  },
  {
   "cell_type": "code",
   "execution_count": 21,
   "metadata": {},
   "outputs": [
    {
     "name": "stdout",
     "output_type": "stream",
     "text": [
      "Accuracy: 0.3763268694775544\n",
      "Confusion Matrix:\n",
      "[[10496 20417]\n",
      " [  617  2196]]\n",
      "Classification Report:\n",
      "              precision    recall  f1-score   support\n",
      "\n",
      "           0       0.94      0.34      0.50     30913\n",
      "           1       0.10      0.78      0.17      2813\n",
      "\n",
      "    accuracy                           0.38     33726\n",
      "   macro avg       0.52      0.56      0.34     33726\n",
      "weighted avg       0.87      0.38      0.47     33726\n",
      "\n"
     ]
    }
   ],
   "source": [
    "from imblearn.under_sampling import NearMiss\n",
    "\n",
    "y = df['morte_hospital']\n",
    "X = df.drop(['morte_hospital'], axis=1)\n",
    "\n",
    "X_train, X_test, y_train, y_test = train_test_split(X, y, test_size=0.4, random_state=42)\n",
    "\n",
    "nm = NearMiss()\n",
    "X_train_resampled, y_train_resampled = nm.fit_resample(X, y)\n",
    "\n",
    "random_forest = RandomForestClassifier(n_estimators=100, random_state=42)\n",
    "\n",
    "random_forest.fit(X_train_resampled, y_train_resampled)\n",
    "\n",
    "y_pred = random_forest.predict(X_test)\n",
    "\n",
    "accuracy = accuracy_score(y_test, y_pred)\n",
    "print(\"Accuracy:\", accuracy)\n",
    "\n",
    "conf_matrix = confusion_matrix(y_test, y_pred)\n",
    "print(\"Confusion Matrix:\")\n",
    "print(conf_matrix)\n",
    "\n",
    "class_report = classification_report(y_test, y_pred)\n",
    "print(\"Classification Report:\")\n",
    "print(class_report)\n"
   ]
  },
  {
   "cell_type": "code",
   "execution_count": 22,
   "metadata": {},
   "outputs": [
    {
     "name": "stdout",
     "output_type": "stream",
     "text": [
      "Accuracy: 0.9932113717491076\n",
      "Matrix de Confusão:\n",
      "[[20646    31]\n",
      " [  182 10517]]\n",
      "Relatório de Classificação :\n",
      "              precision    recall  f1-score   support\n",
      "\n",
      "           0       0.99      1.00      0.99     20677\n",
      "           1       1.00      0.98      0.99     10699\n",
      "\n",
      "    accuracy                           0.99     31376\n",
      "   macro avg       0.99      0.99      0.99     31376\n",
      "weighted avg       0.99      0.99      0.99     31376\n",
      "\n"
     ]
    }
   ],
   "source": [
    "\n",
    "from imblearn.combine import SMOTEENN\n",
    "\n",
    "smoteenn = SMOTEENN(random_state=42)\n",
    "\n",
    "X_resampled, y_resampled = smoteenn.fit_resample(X, y)\n",
    "\n",
    "X_train, X_test, y_train, y_test = train_test_split(X_resampled, y_resampled, test_size=0.33, random_state=42)\n",
    "\n",
    "rf_classifier = RandomForestClassifier(random_state=42)\n",
    "rf_classifier.fit(X_train, y_train)\n",
    "\n",
    "y_pred = rf_classifier.predict(X_test)\n",
    "\n",
    "accuracy = accuracy_score(y_test, y_pred)\n",
    "print(\"Accuracy:\", accuracy)\n",
    "\n",
    "conf_matrix = confusion_matrix(y_test, y_pred)\n",
    "print(\"Matrix de Confusão:\")\n",
    "print(conf_matrix)\n",
    "\n",
    "class_report = classification_report(y_test, y_pred)\n",
    "print(\"Relatório de Classificação :\")\n",
    "print(class_report)\n"
   ]
  },
  {
   "cell_type": "code",
   "execution_count": 23,
   "metadata": {},
   "outputs": [
    {
     "name": "stdout",
     "output_type": "stream",
     "text": [
      "0    77242\n",
      "1     7072\n",
      "Name: morte_hospital, dtype: int64\n",
      "0    7072\n",
      "1    7072\n",
      "Name: morte_hospital, dtype: int64\n",
      "0    41881\n",
      "1    21821\n",
      "Name: morte_hospital, dtype: int64\n"
     ]
    }
   ],
   "source": [
    "\n",
    "from imblearn.combine import SMOTEENN\n",
    "\n",
    "\n",
    "smoteenn = SMOTEENN(random_state=42)\n",
    "\n",
    "X_resampled, y_resampled = smoteenn.fit_resample(X, y)\n",
    "\n",
    "X_train, X_test, y_train, y_test = train_test_split(X_resampled, y_resampled, test_size=0.33, random_state=42)\n",
    "\n",
    "\n",
    "print(pd.Series(y).value_counts())\n",
    "\n",
    "print(pd.Series(y_train_resampled).value_counts())\n",
    "\n",
    "print(pd.Series(y_train).value_counts())\n"
   ]
  },
  {
   "cell_type": "code",
   "execution_count": null,
   "metadata": {},
   "outputs": [],
   "source": [
    "[[4303    2150]\n",
    " [832   9617]]"
   ]
  }
 ],
 "metadata": {
  "kernelspec": {
   "display_name": "Python 3",
   "language": "python",
   "name": "python3"
  },
  "language_info": {
   "codemirror_mode": {
    "name": "ipython",
    "version": 3
   },
   "file_extension": ".py",
   "mimetype": "text/x-python",
   "name": "python",
   "nbconvert_exporter": "python",
   "pygments_lexer": "ipython3",
   "version": "3.10.12"
  },
  "orig_nbformat": 4
 },
 "nbformat": 4,
 "nbformat_minor": 2
}
