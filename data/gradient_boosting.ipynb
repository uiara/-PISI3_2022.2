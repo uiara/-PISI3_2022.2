{
 "cells": [
  {
   "cell_type": "code",
   "execution_count": 6,
   "metadata": {},
   "outputs": [],
   "source": [
    "import pandas as pd\n",
    "from sklearn.model_selection import train_test_split\n",
    "from sklearn.metrics import accuracy_score, confusion_matrix, classification_report\n",
    "\n",
    "\n"
   ]
  },
  {
   "cell_type": "code",
   "execution_count": 7,
   "metadata": {},
   "outputs": [],
   "source": [
    "df = pd.read_parquet('dataset_renomeado.parquet')\n"
   ]
  },
  {
   "cell_type": "code",
   "execution_count": 8,
   "metadata": {},
   "outputs": [],
   "source": [
    "\n",
    "df = df[['ventilado_apache','tipo_estadia_uti', 'd1_frequencia_cardiaca_maxima',\n",
    "         'd1_frequencia_cardiaca_minima', 'h1_frequencia_respiratoria_maxima',\n",
    "         'd1_spO2_minimo','d1_spO2_maximo','d1_temperatura_minima','d1_temperatura_maxima',\n",
    "         'h1_frequencia_respiratoria_minima',\n",
    "          'morte_hospital']]\n",
    "df = df.dropna()\n",
    "\n",
    "\n",
    "one_hot_encoded = pd.get_dummies(df['tipo_estadia_uti'])\n",
    "df = pd.concat([df, one_hot_encoded], axis=1)\n"
   ]
  },
  {
   "cell_type": "code",
   "execution_count": 9,
   "metadata": {},
   "outputs": [
    {
     "name": "stdout",
     "output_type": "stream",
     "text": [
      "<class 'pandas.core.frame.DataFrame'>\n",
      "Int64Index: 84724 entries, 0 to 91712\n",
      "Data columns (total 14 columns):\n",
      " #   Column                             Non-Null Count  Dtype  \n",
      "---  ------                             --------------  -----  \n",
      " 0   ventilado_apache                   84724 non-null  float64\n",
      " 1   tipo_estadia_uti                   84724 non-null  object \n",
      " 2   d1_frequencia_cardiaca_maxima      84724 non-null  float64\n",
      " 3   d1_frequencia_cardiaca_minima      84724 non-null  float64\n",
      " 4   h1_frequencia_respiratoria_maxima  84724 non-null  float64\n",
      " 5   d1_spO2_minimo                     84724 non-null  float64\n",
      " 6   d1_spO2_maximo                     84724 non-null  float64\n",
      " 7   d1_temperatura_minima              84724 non-null  float64\n",
      " 8   d1_temperatura_maxima              84724 non-null  float64\n",
      " 9   h1_frequencia_respiratoria_minima  84724 non-null  float64\n",
      " 10  morte_hospital                     84724 non-null  int64  \n",
      " 11  admit                              84724 non-null  uint8  \n",
      " 12  readmit                            84724 non-null  uint8  \n",
      " 13  transfer                           84724 non-null  uint8  \n",
      "dtypes: float64(9), int64(1), object(1), uint8(3)\n",
      "memory usage: 8.0+ MB\n"
     ]
    }
   ],
   "source": [
    "df.info()"
   ]
  },
  {
   "cell_type": "code",
   "execution_count": 10,
   "metadata": {},
   "outputs": [],
   "source": [
    "def categorizar_fc_maxima(fc):\n",
    "    if fc < 60:\n",
    "        return 'primeiras_24_horas_frequencia_cardiaca_maxima_muito_baixa'\n",
    "    elif 60 <= fc < 70:\n",
    "        return 'primeiras_24_horas_frequencia_cardiaca_maxima_baixa'\n",
    "    elif 70 <= fc < 100:\n",
    "        return 'primeiras_24_horas_frequencia_cardiaca_maxima_normal'\n",
    "    elif 100 <= fc < 120:\n",
    "        return 'primeiras_24_horas_frequencia_cardiaca_maxima_elevada'\n",
    "    else:\n",
    "        return 'primeiras_24_horas_frequencia_cardiaca_maxima_muito_elevada'\n",
    "\n",
    "df['categoria_fc_maxima'] = df['d1_frequencia_cardiaca_maxima'].apply(categorizar_fc_maxima)\n",
    "\n",
    "one_hot_encoded = pd.get_dummies(df['categoria_fc_maxima'])\n",
    "\n",
    "df = pd.concat([df, one_hot_encoded], axis=1)\n",
    "\n",
    "df = df.drop('categoria_fc_maxima', axis=1)"
   ]
  },
  {
   "cell_type": "code",
   "execution_count": 11,
   "metadata": {},
   "outputs": [],
   "source": [
    "def categorizar_fr(fr):\n",
    "    if fr < 12:\n",
    "        return 'primeira_hora_frequencia_respiratoria_maxima_muito_baixa'\n",
    "    elif 12 <= fr < 16:\n",
    "        return 'primeira_hora_frequencia_respiratoria_maxima_baixa'\n",
    "    elif 16 <= fr < 20:\n",
    "        return 'primeira_hora_frequencia_respiratoria_maxima_normal'\n",
    "    elif 20 <= fr < 24:\n",
    "        return 'primeira_hora_frequencia_respiratoria_maxima_elevada'\n",
    "    else:\n",
    "        return 'primeira_hora_frequencia_respiratoria_maxima_muito elevada'\n",
    "\n",
    "df['categoria_frequencia_respiratoria_maxima'] = df['h1_frequencia_respiratoria_maxima'].apply(categorizar_fr)\n",
    "\n",
    "one_hot_encoded = pd.get_dummies(df['categoria_frequencia_respiratoria_maxima'])\n",
    "\n",
    "df = pd.concat([df, one_hot_encoded], axis=1)\n",
    "\n",
    "df = df.drop('categoria_frequencia_respiratoria_maxima', axis=1)\n",
    "\n"
   ]
  },
  {
   "cell_type": "code",
   "execution_count": 12,
   "metadata": {},
   "outputs": [],
   "source": [
    "def categorizar_fr(fr):\n",
    "    if fr < 12:\n",
    "        return 'primeira_hora_frequencia_respiratoria_minima_muito_baixa'\n",
    "    elif 12 <= fr < 16:\n",
    "        return 'primeira_hora_frequencia_respiratoria_minima_baixa'\n",
    "    elif 16 <= fr < 20:\n",
    "        return 'primeira_hora_frequencia_respiratoria_minima_normal'\n",
    "    elif 20 <= fr < 24:\n",
    "        return 'primeira_hora_frequencia_respiratoria_minima_elevada'\n",
    "    else:\n",
    "        return 'primeira_hora_frequencia_respiratoria_minima_muito elevada'\n",
    "\n",
    "df['categoria_frequencia_respiratoria_minima'] = df['h1_frequencia_respiratoria_minima'].apply(categorizar_fr)\n",
    "\n",
    "one_hot_encoded = pd.get_dummies(df['categoria_frequencia_respiratoria_minima'])\n",
    "\n",
    "df = pd.concat([df, one_hot_encoded], axis=1)\n",
    "\n",
    "df = df.drop('categoria_frequencia_respiratoria_minima', axis=1)\n"
   ]
  },
  {
   "cell_type": "code",
   "execution_count": 13,
   "metadata": {},
   "outputs": [],
   "source": [
    "df = df[~((df['d1_spO2_minimo'] <= 20))]\n",
    "\n",
    "def categorize_saturacao(sat):\n",
    "    if sat < 85:\n",
    "        return 'saturacao_primieras_vinte_quatro_horas_minima_muito_baixa'\n",
    "    elif sat < 90:\n",
    "        return 'saturacao_primieras_vinte_quatro_horas_minima_baixa'\n",
    "    elif sat < 95:\n",
    "        return 'saturacao_primieras_vinte_quatro_horas_minima_moderada'\n",
    "    elif sat < 100:\n",
    "        return 'saturacao_primieras_vinte_quatro_horas_minima_boa'\n",
    "\n",
    "\n",
    "df['categoria_d1_spO2_minimo'] = df['d1_spO2_minimo'].apply(categorizar_fr)\n",
    "\n",
    "one_hot_encoded = pd.get_dummies(df['categoria_d1_spO2_minimo'])\n",
    "\n",
    "df = pd.concat([df, one_hot_encoded], axis=1)\n",
    "\n",
    "df = df.drop('categoria_d1_spO2_minimo', axis=1)"
   ]
  },
  {
   "cell_type": "code",
   "execution_count": 14,
   "metadata": {},
   "outputs": [],
   "source": [
    "# apaga linhas com \n",
    "df = df[~((df['d1_spO2_maximo'] <= 20))]\n",
    "\n",
    "def categorize_saturacao(sat):\n",
    "    if sat < 85:\n",
    "        return 'saturacao_primieras_vinte_quatro_horas_maxima_muito_baixa'\n",
    "    elif sat < 90:\n",
    "        return 'saturacao_primieras_vinte_quatro_horas_maxima_baixa'\n",
    "    elif sat < 95:\n",
    "        return 'saturacao_primieras_vinte_quatro_horas_maxima_moderada'\n",
    "    elif sat < 100:\n",
    "        return 'saturacao_primieras_vinte_quatro_horas_maxima_boa'\n",
    "\n",
    "\n",
    "df['categoria_d1_spO2_maxima'] = df['d1_spO2_maximo'].apply(categorizar_fr)\n",
    "\n",
    "one_hot_encoded = pd.get_dummies(df['categoria_d1_spO2_maxima'])\n",
    "\n",
    "df = pd.concat([df, one_hot_encoded], axis=1)\n",
    "\n",
    "df = df.drop('categoria_d1_spO2_maxima', axis=1)"
   ]
  },
  {
   "cell_type": "code",
   "execution_count": 15,
   "metadata": {},
   "outputs": [],
   "source": [
    "def categorize_temperatura(temp):\n",
    "    if temp < 35:\n",
    "        return 'temperatura_minima_primieras_vinte_quatro_horas_hipotermia'\n",
    "    if temp < 37:\n",
    "        return 'temperatura_minima_primieras_vinte_quatro_horas_normal'\n",
    "    if temp >= 37:\n",
    "        return 'temperatura_minima_primieras_vinte_quatro_horas_febre'\n",
    "\n",
    "df['categoria_d1_temperatura_minima'] = df['d1_temperatura_minima'].apply(categorize_temperatura)\n",
    "\n",
    "one_hot_encoded = pd.get_dummies(df['categoria_d1_temperatura_minima'])\n",
    "\n",
    "df = pd.concat([df, one_hot_encoded], axis=1)\n",
    "\n",
    "df = df.drop('categoria_d1_temperatura_minima', axis=1)\n"
   ]
  },
  {
   "cell_type": "code",
   "execution_count": 16,
   "metadata": {},
   "outputs": [],
   "source": [
    "\n",
    "def categorize_temperatura(temp_max):\n",
    "    if temp_max < 35:\n",
    "        return 'temperatura_minima_primieras_vinte_quatro_horas_hipotermia'\n",
    "    if temp_max < 37:\n",
    "        return 'temperatura_minima_primieras_vinte_quatro_horas_normal'\n",
    "    if temp_max >= 37:\n",
    "        return 'temperatura_minima_primieras_vinte_quatro_horas_febre'\n",
    "\n",
    "df['categoria_d1_temperatura_minima'] = df['d1_temperatura_maxima'].apply(categorize_temperatura)\n",
    "\n",
    "one_hot_encoded = pd.get_dummies(df['categoria_d1_temperatura_minima'])\n",
    "\n",
    "df = pd.concat([df, one_hot_encoded], axis=1)\n",
    "\n",
    "df = df.drop('categoria_d1_temperatura_minima', axis=1)\n"
   ]
  },
  {
   "cell_type": "code",
   "execution_count": 17,
   "metadata": {},
   "outputs": [],
   "source": [
    "df = df.drop(['d1_frequencia_cardiaca_maxima',\n",
    "       'd1_frequencia_cardiaca_minima', 'h1_frequencia_respiratoria_maxima',\n",
    "       'd1_spO2_minimo','d1_spO2_maximo','d1_temperatura_minima','tipo_estadia_uti','h1_frequencia_respiratoria_minima'], axis=1)"
   ]
  },
  {
   "cell_type": "code",
   "execution_count": 18,
   "metadata": {},
   "outputs": [
    {
     "name": "stdout",
     "output_type": "stream",
     "text": [
      "<class 'pandas.core.frame.DataFrame'>\n",
      "Int64Index: 84314 entries, 0 to 91712\n",
      "Data columns (total 29 columns):\n",
      " #   Column                                                       Non-Null Count  Dtype  \n",
      "---  ------                                                       --------------  -----  \n",
      " 0   ventilado_apache                                             84314 non-null  float64\n",
      " 1   d1_temperatura_maxima                                        84314 non-null  float64\n",
      " 2   morte_hospital                                               84314 non-null  int64  \n",
      " 3   admit                                                        84314 non-null  uint8  \n",
      " 4   readmit                                                      84314 non-null  uint8  \n",
      " 5   transfer                                                     84314 non-null  uint8  \n",
      " 6   primeiras_24_horas_frequencia_cardiaca_maxima_baixa          84314 non-null  uint8  \n",
      " 7   primeiras_24_horas_frequencia_cardiaca_maxima_elevada        84314 non-null  uint8  \n",
      " 8   primeiras_24_horas_frequencia_cardiaca_maxima_muito_baixa    84314 non-null  uint8  \n",
      " 9   primeiras_24_horas_frequencia_cardiaca_maxima_muito_elevada  84314 non-null  uint8  \n",
      " 10  primeiras_24_horas_frequencia_cardiaca_maxima_normal         84314 non-null  uint8  \n",
      " 11  primeira_hora_frequencia_respiratoria_maxima_baixa           84314 non-null  uint8  \n",
      " 12  primeira_hora_frequencia_respiratoria_maxima_elevada         84314 non-null  uint8  \n",
      " 13  primeira_hora_frequencia_respiratoria_maxima_muito elevada   84314 non-null  uint8  \n",
      " 14  primeira_hora_frequencia_respiratoria_maxima_muito_baixa     84314 non-null  uint8  \n",
      " 15  primeira_hora_frequencia_respiratoria_maxima_normal          84314 non-null  uint8  \n",
      " 16  primeira_hora_frequencia_respiratoria_minima_baixa           84314 non-null  uint8  \n",
      " 17  primeira_hora_frequencia_respiratoria_minima_elevada         84314 non-null  uint8  \n",
      " 18  primeira_hora_frequencia_respiratoria_minima_muito elevada   84314 non-null  uint8  \n",
      " 19  primeira_hora_frequencia_respiratoria_minima_muito_baixa     84314 non-null  uint8  \n",
      " 20  primeira_hora_frequencia_respiratoria_minima_normal          84314 non-null  uint8  \n",
      " 21  primeira_hora_frequencia_respiratoria_minima_elevada         84314 non-null  uint8  \n",
      " 22  primeira_hora_frequencia_respiratoria_minima_muito elevada   84314 non-null  uint8  \n",
      " 23  primeira_hora_frequencia_respiratoria_minima_muito elevada   84314 non-null  uint8  \n",
      " 24  temperatura_minima_primieras_vinte_quatro_horas_febre        84314 non-null  uint8  \n",
      " 25  temperatura_minima_primieras_vinte_quatro_horas_hipotermia   84314 non-null  uint8  \n",
      " 26  temperatura_minima_primieras_vinte_quatro_horas_normal       84314 non-null  uint8  \n",
      " 27  temperatura_minima_primieras_vinte_quatro_horas_febre        84314 non-null  uint8  \n",
      " 28  temperatura_minima_primieras_vinte_quatro_horas_normal       84314 non-null  uint8  \n",
      "dtypes: float64(2), int64(1), uint8(26)\n",
      "memory usage: 4.7 MB\n"
     ]
    }
   ],
   "source": [
    "df.info()"
   ]
  },
  {
   "cell_type": "code",
   "execution_count": 29,
   "metadata": {},
   "outputs": [
    {
     "name": "stdout",
     "output_type": "stream",
     "text": [
      "Acurácia do modelo: 0.8984255481896991\n",
      "Matriz de Confusão:\n",
      " [[19710   967]\n",
      " [ 2220  8479]]\n",
      "Relatório de Classificação:\n",
      "               precision    recall  f1-score   support\n",
      "\n",
      "           0       0.90      0.95      0.93     20677\n",
      "           1       0.90      0.79      0.84     10699\n",
      "\n",
      "    accuracy                           0.90     31376\n",
      "   macro avg       0.90      0.87      0.88     31376\n",
      "weighted avg       0.90      0.90      0.90     31376\n",
      "\n"
     ]
    }
   ],
   "source": [
    "from sklearn.ensemble import GradientBoostingClassifier\n",
    "from imblearn.combine import SMOTEENN\n",
    "from sklearn.metrics import confusion_matrix\n",
    "from sklearn.metrics import classification_report\n",
    "\n",
    "\n",
    "y = df['morte_hospital']\n",
    "X = df.drop(['morte_hospital'], axis=1)\n",
    "\n",
    "smoteenn = SMOTEENN(random_state=42)\n",
    "\n",
    "X_resampled, y_resampled = smoteenn.fit_resample(X, y)\n",
    "\n",
    "X_train, X_test, y_train, y_test = train_test_split(X_resampled, y_resampled, test_size=0.33, random_state=42)\n",
    "\n",
    "clf = GradientBoostingClassifier(n_estimators=100, learning_rate=0.1, max_depth=3, random_state=42)\n",
    "clf.fit(X_train, y_train)\n",
    "\n",
    "y_pred = clf.predict(X_test)\n",
    "\n",
    "accuracy = accuracy_score(y_test, y_pred)\n",
    "print(\"Acurácia do modelo:\", accuracy)\n",
    "\n",
    "\n",
    "confusion = confusion_matrix(y_test, y_pred)\n",
    "print(\"Matriz de Confusão:\\n\", confusion)\n",
    "\n",
    "\n",
    "report = classification_report(y_test, y_pred)\n",
    "print(\"Relatório de Classificação:\\n\", report)\n",
    "\n"
   ]
  },
  {
   "cell_type": "code",
   "execution_count": 28,
   "metadata": {},
   "outputs": [
    {
     "name": "stdout",
     "output_type": "stream",
     "text": [
      "Importância das Características:\n",
      "ventilado_apache: 0.4476\n",
      "d1_temperatura_maxima: 0.3406\n",
      "admit: 0.0028\n",
      "readmit: 0.0024\n",
      "transfer: 0.0050\n",
      "primeiras_24_horas_frequencia_cardiaca_maxima_baixa: 0.0001\n",
      "primeiras_24_horas_frequencia_cardiaca_maxima_elevada: 0.0013\n",
      "primeiras_24_horas_frequencia_cardiaca_maxima_muito_baixa: 0.0002\n",
      "primeiras_24_horas_frequencia_cardiaca_maxima_muito_elevada: 0.0273\n",
      "primeiras_24_horas_frequencia_cardiaca_maxima_normal: 0.0182\n",
      "primeira_hora_frequencia_respiratoria_maxima_baixa: 0.0037\n",
      "primeira_hora_frequencia_respiratoria_maxima_elevada: 0.0022\n",
      "primeira_hora_frequencia_respiratoria_maxima_muito elevada: 0.0132\n",
      "primeira_hora_frequencia_respiratoria_maxima_muito_baixa: 0.0007\n",
      "primeira_hora_frequencia_respiratoria_maxima_normal: 0.0001\n",
      "primeira_hora_frequencia_respiratoria_minima_baixa: 0.0002\n",
      "primeira_hora_frequencia_respiratoria_minima_elevada: 0.0027\n",
      "primeira_hora_frequencia_respiratoria_minima_muito elevada: 0.0005\n",
      "primeira_hora_frequencia_respiratoria_minima_muito_baixa: 0.0011\n",
      "primeira_hora_frequencia_respiratoria_minima_normal: 0.0001\n",
      "primeira_hora_frequencia_respiratoria_minima_elevada: 0.0000\n",
      "primeira_hora_frequencia_respiratoria_minima_muito elevada: 0.0024\n",
      "primeira_hora_frequencia_respiratoria_minima_muito elevada: 0.0000\n",
      "temperatura_minima_primieras_vinte_quatro_horas_febre: 0.0077\n",
      "temperatura_minima_primieras_vinte_quatro_horas_hipotermia: 0.0239\n",
      "temperatura_minima_primieras_vinte_quatro_horas_normal: 0.0960\n",
      "temperatura_minima_primieras_vinte_quatro_horas_febre: 0.0000\n",
      "temperatura_minima_primieras_vinte_quatro_horas_normal: 0.0000\n"
     ]
    }
   ],
   "source": [
    "feature_importances = clf.feature_importances_\n",
    "print(\"Importância das Características:\")\n",
    "for feature, importance in zip(X.columns, feature_importances):\n",
    "    print(f\"{feature}: {importance:.4f}\")\n"
   ]
  }
 ],
 "metadata": {
  "kernelspec": {
   "display_name": "Python 3",
   "language": "python",
   "name": "python3"
  },
  "language_info": {
   "codemirror_mode": {
    "name": "ipython",
    "version": 3
   },
   "file_extension": ".py",
   "mimetype": "text/x-python",
   "name": "python",
   "nbconvert_exporter": "python",
   "pygments_lexer": "ipython3",
   "version": "3.10.12"
  },
  "orig_nbformat": 4
 },
 "nbformat": 4,
 "nbformat_minor": 2
}
