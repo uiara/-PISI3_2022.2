{
 "cells": [
  {
   "cell_type": "code",
   "execution_count": 1,
   "metadata": {},
   "outputs": [],
   "source": [
    "import pandas as pd\n",
    "import pyarrow as pa\n",
    "import pyarrow.parquet as pq\n",
    "import matplotlib.pyplot as plt\n",
    "\n",
    "pd.set_option('display.max_columns', None)"
   ]
  },
  {
   "cell_type": "code",
   "execution_count": 2,
   "metadata": {},
   "outputs": [],
   "source": [
    "# Ler o arquivo CSV com pandas\n",
    "#df = pd.read_csv('dataset.csv')\n",
    "\n",
    "# Escrever o DataFrame em um arquivo Parquet\n",
    "#table = pa.Table.from_pandas(df)\n",
    "#pq.write_table(table, 'dataset.parquet')\n"
   ]
  },
  {
   "cell_type": "code",
   "execution_count": 87,
   "metadata": {},
   "outputs": [],
   "source": [
    "df = pd.read_csv('dataset.csv')"
   ]
  },
  {
   "cell_type": "code",
   "execution_count": 4,
   "metadata": {},
   "outputs": [],
   "source": [
    "# Obter as colunas que começam com 'd1' ou 'h1'\n",
    "colunas_a_remover = [coluna for coluna in df.columns if coluna.startswith(('d1', 'h1'))]\n",
    "\n",
    "# Remover as colunas do DataFrame\n",
    "df = df.drop(columns=colunas_a_remover)\n",
    "\n",
    "# Salvar os dados em Parquet\n",
    "df.to_parquet('parte_1_profiling.parquet', engine='pyarrow')\n"
   ]
  },
  {
   "cell_type": "code",
   "execution_count": 5,
   "metadata": {},
   "outputs": [
    {
     "data": {
      "text/html": [
       "<div>\n",
       "<style scoped>\n",
       "    .dataframe tbody tr th:only-of-type {\n",
       "        vertical-align: middle;\n",
       "    }\n",
       "\n",
       "    .dataframe tbody tr th {\n",
       "        vertical-align: top;\n",
       "    }\n",
       "\n",
       "    .dataframe thead th {\n",
       "        text-align: right;\n",
       "    }\n",
       "</style>\n",
       "<table border=\"1\" class=\"dataframe\">\n",
       "  <thead>\n",
       "    <tr style=\"text-align: right;\">\n",
       "      <th></th>\n",
       "      <th>encounter_id</th>\n",
       "      <th>patient_id</th>\n",
       "      <th>hospital_id</th>\n",
       "      <th>age</th>\n",
       "      <th>bmi</th>\n",
       "      <th>elective_surgery</th>\n",
       "      <th>ethnicity</th>\n",
       "      <th>gender</th>\n",
       "      <th>height</th>\n",
       "      <th>icu_admit_source</th>\n",
       "      <th>icu_id</th>\n",
       "      <th>icu_stay_type</th>\n",
       "      <th>icu_type</th>\n",
       "      <th>pre_icu_los_days</th>\n",
       "      <th>weight</th>\n",
       "      <th>apache_2_diagnosis</th>\n",
       "      <th>apache_3j_diagnosis</th>\n",
       "      <th>apache_post_operative</th>\n",
       "      <th>arf_apache</th>\n",
       "      <th>gcs_eyes_apache</th>\n",
       "      <th>gcs_motor_apache</th>\n",
       "      <th>gcs_unable_apache</th>\n",
       "      <th>gcs_verbal_apache</th>\n",
       "      <th>heart_rate_apache</th>\n",
       "      <th>intubated_apache</th>\n",
       "      <th>map_apache</th>\n",
       "      <th>resprate_apache</th>\n",
       "      <th>temp_apache</th>\n",
       "      <th>ventilated_apache</th>\n",
       "      <th>apache_4a_hospital_death_prob</th>\n",
       "      <th>apache_4a_icu_death_prob</th>\n",
       "      <th>aids</th>\n",
       "      <th>cirrhosis</th>\n",
       "      <th>diabetes_mellitus</th>\n",
       "      <th>hepatic_failure</th>\n",
       "      <th>immunosuppression</th>\n",
       "      <th>leukemia</th>\n",
       "      <th>lymphoma</th>\n",
       "      <th>solid_tumor_with_metastasis</th>\n",
       "      <th>apache_3j_bodysystem</th>\n",
       "      <th>apache_2_bodysystem</th>\n",
       "      <th>Unnamed: 83</th>\n",
       "      <th>hospital_death</th>\n",
       "    </tr>\n",
       "  </thead>\n",
       "  <tbody>\n",
       "    <tr>\n",
       "      <th>0</th>\n",
       "      <td>66154</td>\n",
       "      <td>25312</td>\n",
       "      <td>118</td>\n",
       "      <td>68.0</td>\n",
       "      <td>22.73</td>\n",
       "      <td>0</td>\n",
       "      <td>Caucasian</td>\n",
       "      <td>M</td>\n",
       "      <td>180.3</td>\n",
       "      <td>Floor</td>\n",
       "      <td>92</td>\n",
       "      <td>admit</td>\n",
       "      <td>CTICU</td>\n",
       "      <td>0.541667</td>\n",
       "      <td>73.9</td>\n",
       "      <td>113.0</td>\n",
       "      <td>502.01</td>\n",
       "      <td>0</td>\n",
       "      <td>0.0</td>\n",
       "      <td>3.0</td>\n",
       "      <td>6.0</td>\n",
       "      <td>0.0</td>\n",
       "      <td>4.0</td>\n",
       "      <td>118.0</td>\n",
       "      <td>0.0</td>\n",
       "      <td>40.0</td>\n",
       "      <td>36.0</td>\n",
       "      <td>39.3</td>\n",
       "      <td>0.0</td>\n",
       "      <td>0.10</td>\n",
       "      <td>0.05</td>\n",
       "      <td>0.0</td>\n",
       "      <td>0.0</td>\n",
       "      <td>1.0</td>\n",
       "      <td>0.0</td>\n",
       "      <td>0.0</td>\n",
       "      <td>0.0</td>\n",
       "      <td>0.0</td>\n",
       "      <td>0.0</td>\n",
       "      <td>Sepsis</td>\n",
       "      <td>Cardiovascular</td>\n",
       "      <td>NaN</td>\n",
       "      <td>0</td>\n",
       "    </tr>\n",
       "    <tr>\n",
       "      <th>1</th>\n",
       "      <td>114252</td>\n",
       "      <td>59342</td>\n",
       "      <td>81</td>\n",
       "      <td>77.0</td>\n",
       "      <td>27.42</td>\n",
       "      <td>0</td>\n",
       "      <td>Caucasian</td>\n",
       "      <td>F</td>\n",
       "      <td>160.0</td>\n",
       "      <td>Floor</td>\n",
       "      <td>90</td>\n",
       "      <td>admit</td>\n",
       "      <td>Med-Surg ICU</td>\n",
       "      <td>0.927778</td>\n",
       "      <td>70.2</td>\n",
       "      <td>108.0</td>\n",
       "      <td>203.01</td>\n",
       "      <td>0</td>\n",
       "      <td>0.0</td>\n",
       "      <td>1.0</td>\n",
       "      <td>3.0</td>\n",
       "      <td>0.0</td>\n",
       "      <td>1.0</td>\n",
       "      <td>120.0</td>\n",
       "      <td>0.0</td>\n",
       "      <td>46.0</td>\n",
       "      <td>33.0</td>\n",
       "      <td>35.1</td>\n",
       "      <td>1.0</td>\n",
       "      <td>0.47</td>\n",
       "      <td>0.29</td>\n",
       "      <td>0.0</td>\n",
       "      <td>0.0</td>\n",
       "      <td>1.0</td>\n",
       "      <td>0.0</td>\n",
       "      <td>0.0</td>\n",
       "      <td>0.0</td>\n",
       "      <td>0.0</td>\n",
       "      <td>0.0</td>\n",
       "      <td>Respiratory</td>\n",
       "      <td>Respiratory</td>\n",
       "      <td>NaN</td>\n",
       "      <td>0</td>\n",
       "    </tr>\n",
       "    <tr>\n",
       "      <th>2</th>\n",
       "      <td>119783</td>\n",
       "      <td>50777</td>\n",
       "      <td>118</td>\n",
       "      <td>25.0</td>\n",
       "      <td>31.95</td>\n",
       "      <td>0</td>\n",
       "      <td>Caucasian</td>\n",
       "      <td>F</td>\n",
       "      <td>172.7</td>\n",
       "      <td>Accident &amp; Emergency</td>\n",
       "      <td>93</td>\n",
       "      <td>admit</td>\n",
       "      <td>Med-Surg ICU</td>\n",
       "      <td>0.000694</td>\n",
       "      <td>95.3</td>\n",
       "      <td>122.0</td>\n",
       "      <td>703.03</td>\n",
       "      <td>0</td>\n",
       "      <td>0.0</td>\n",
       "      <td>3.0</td>\n",
       "      <td>6.0</td>\n",
       "      <td>0.0</td>\n",
       "      <td>5.0</td>\n",
       "      <td>102.0</td>\n",
       "      <td>0.0</td>\n",
       "      <td>68.0</td>\n",
       "      <td>37.0</td>\n",
       "      <td>36.7</td>\n",
       "      <td>0.0</td>\n",
       "      <td>0.00</td>\n",
       "      <td>0.00</td>\n",
       "      <td>0.0</td>\n",
       "      <td>0.0</td>\n",
       "      <td>0.0</td>\n",
       "      <td>0.0</td>\n",
       "      <td>0.0</td>\n",
       "      <td>0.0</td>\n",
       "      <td>0.0</td>\n",
       "      <td>0.0</td>\n",
       "      <td>Metabolic</td>\n",
       "      <td>Metabolic</td>\n",
       "      <td>NaN</td>\n",
       "      <td>0</td>\n",
       "    </tr>\n",
       "    <tr>\n",
       "      <th>3</th>\n",
       "      <td>79267</td>\n",
       "      <td>46918</td>\n",
       "      <td>118</td>\n",
       "      <td>81.0</td>\n",
       "      <td>22.64</td>\n",
       "      <td>1</td>\n",
       "      <td>Caucasian</td>\n",
       "      <td>F</td>\n",
       "      <td>165.1</td>\n",
       "      <td>Operating Room / Recovery</td>\n",
       "      <td>92</td>\n",
       "      <td>admit</td>\n",
       "      <td>CTICU</td>\n",
       "      <td>0.000694</td>\n",
       "      <td>61.7</td>\n",
       "      <td>203.0</td>\n",
       "      <td>1206.03</td>\n",
       "      <td>1</td>\n",
       "      <td>0.0</td>\n",
       "      <td>4.0</td>\n",
       "      <td>6.0</td>\n",
       "      <td>0.0</td>\n",
       "      <td>5.0</td>\n",
       "      <td>114.0</td>\n",
       "      <td>1.0</td>\n",
       "      <td>60.0</td>\n",
       "      <td>4.0</td>\n",
       "      <td>34.8</td>\n",
       "      <td>1.0</td>\n",
       "      <td>0.04</td>\n",
       "      <td>0.03</td>\n",
       "      <td>0.0</td>\n",
       "      <td>0.0</td>\n",
       "      <td>0.0</td>\n",
       "      <td>0.0</td>\n",
       "      <td>0.0</td>\n",
       "      <td>0.0</td>\n",
       "      <td>0.0</td>\n",
       "      <td>0.0</td>\n",
       "      <td>Cardiovascular</td>\n",
       "      <td>Cardiovascular</td>\n",
       "      <td>NaN</td>\n",
       "      <td>0</td>\n",
       "    </tr>\n",
       "    <tr>\n",
       "      <th>4</th>\n",
       "      <td>92056</td>\n",
       "      <td>34377</td>\n",
       "      <td>33</td>\n",
       "      <td>19.0</td>\n",
       "      <td>NaN</td>\n",
       "      <td>0</td>\n",
       "      <td>Caucasian</td>\n",
       "      <td>M</td>\n",
       "      <td>188.0</td>\n",
       "      <td>Accident &amp; Emergency</td>\n",
       "      <td>91</td>\n",
       "      <td>admit</td>\n",
       "      <td>Med-Surg ICU</td>\n",
       "      <td>0.073611</td>\n",
       "      <td>NaN</td>\n",
       "      <td>119.0</td>\n",
       "      <td>601.01</td>\n",
       "      <td>0</td>\n",
       "      <td>0.0</td>\n",
       "      <td>NaN</td>\n",
       "      <td>NaN</td>\n",
       "      <td>NaN</td>\n",
       "      <td>NaN</td>\n",
       "      <td>60.0</td>\n",
       "      <td>0.0</td>\n",
       "      <td>103.0</td>\n",
       "      <td>16.0</td>\n",
       "      <td>36.7</td>\n",
       "      <td>0.0</td>\n",
       "      <td>NaN</td>\n",
       "      <td>NaN</td>\n",
       "      <td>0.0</td>\n",
       "      <td>0.0</td>\n",
       "      <td>0.0</td>\n",
       "      <td>0.0</td>\n",
       "      <td>0.0</td>\n",
       "      <td>0.0</td>\n",
       "      <td>0.0</td>\n",
       "      <td>0.0</td>\n",
       "      <td>Trauma</td>\n",
       "      <td>Trauma</td>\n",
       "      <td>NaN</td>\n",
       "      <td>0</td>\n",
       "    </tr>\n",
       "  </tbody>\n",
       "</table>\n",
       "</div>"
      ],
      "text/plain": [
       "   encounter_id  patient_id  hospital_id   age    bmi  elective_surgery  \\\n",
       "0         66154       25312          118  68.0  22.73                 0   \n",
       "1        114252       59342           81  77.0  27.42                 0   \n",
       "2        119783       50777          118  25.0  31.95                 0   \n",
       "3         79267       46918          118  81.0  22.64                 1   \n",
       "4         92056       34377           33  19.0    NaN                 0   \n",
       "\n",
       "   ethnicity gender  height           icu_admit_source  icu_id icu_stay_type  \\\n",
       "0  Caucasian      M   180.3                      Floor      92         admit   \n",
       "1  Caucasian      F   160.0                      Floor      90         admit   \n",
       "2  Caucasian      F   172.7       Accident & Emergency      93         admit   \n",
       "3  Caucasian      F   165.1  Operating Room / Recovery      92         admit   \n",
       "4  Caucasian      M   188.0       Accident & Emergency      91         admit   \n",
       "\n",
       "       icu_type  pre_icu_los_days  weight  apache_2_diagnosis  \\\n",
       "0         CTICU          0.541667    73.9               113.0   \n",
       "1  Med-Surg ICU          0.927778    70.2               108.0   \n",
       "2  Med-Surg ICU          0.000694    95.3               122.0   \n",
       "3         CTICU          0.000694    61.7               203.0   \n",
       "4  Med-Surg ICU          0.073611     NaN               119.0   \n",
       "\n",
       "   apache_3j_diagnosis  apache_post_operative  arf_apache  gcs_eyes_apache  \\\n",
       "0               502.01                      0         0.0              3.0   \n",
       "1               203.01                      0         0.0              1.0   \n",
       "2               703.03                      0         0.0              3.0   \n",
       "3              1206.03                      1         0.0              4.0   \n",
       "4               601.01                      0         0.0              NaN   \n",
       "\n",
       "   gcs_motor_apache  gcs_unable_apache  gcs_verbal_apache  heart_rate_apache  \\\n",
       "0               6.0                0.0                4.0              118.0   \n",
       "1               3.0                0.0                1.0              120.0   \n",
       "2               6.0                0.0                5.0              102.0   \n",
       "3               6.0                0.0                5.0              114.0   \n",
       "4               NaN                NaN                NaN               60.0   \n",
       "\n",
       "   intubated_apache  map_apache  resprate_apache  temp_apache  \\\n",
       "0               0.0        40.0             36.0         39.3   \n",
       "1               0.0        46.0             33.0         35.1   \n",
       "2               0.0        68.0             37.0         36.7   \n",
       "3               1.0        60.0              4.0         34.8   \n",
       "4               0.0       103.0             16.0         36.7   \n",
       "\n",
       "   ventilated_apache  apache_4a_hospital_death_prob  apache_4a_icu_death_prob  \\\n",
       "0                0.0                           0.10                      0.05   \n",
       "1                1.0                           0.47                      0.29   \n",
       "2                0.0                           0.00                      0.00   \n",
       "3                1.0                           0.04                      0.03   \n",
       "4                0.0                            NaN                       NaN   \n",
       "\n",
       "   aids  cirrhosis  diabetes_mellitus  hepatic_failure  immunosuppression  \\\n",
       "0   0.0        0.0                1.0              0.0                0.0   \n",
       "1   0.0        0.0                1.0              0.0                0.0   \n",
       "2   0.0        0.0                0.0              0.0                0.0   \n",
       "3   0.0        0.0                0.0              0.0                0.0   \n",
       "4   0.0        0.0                0.0              0.0                0.0   \n",
       "\n",
       "   leukemia  lymphoma  solid_tumor_with_metastasis apache_3j_bodysystem  \\\n",
       "0       0.0       0.0                          0.0               Sepsis   \n",
       "1       0.0       0.0                          0.0          Respiratory   \n",
       "2       0.0       0.0                          0.0            Metabolic   \n",
       "3       0.0       0.0                          0.0       Cardiovascular   \n",
       "4       0.0       0.0                          0.0               Trauma   \n",
       "\n",
       "  apache_2_bodysystem  Unnamed: 83  hospital_death  \n",
       "0      Cardiovascular          NaN               0  \n",
       "1         Respiratory          NaN               0  \n",
       "2           Metabolic          NaN               0  \n",
       "3      Cardiovascular          NaN               0  \n",
       "4              Trauma          NaN               0  "
      ]
     },
     "execution_count": 5,
     "metadata": {},
     "output_type": "execute_result"
    }
   ],
   "source": [
    "df.head()"
   ]
  },
  {
   "cell_type": "code",
   "execution_count": 6,
   "metadata": {},
   "outputs": [
    {
     "data": {
      "text/plain": [
       "(91713, 43)"
      ]
     },
     "execution_count": 6,
     "metadata": {},
     "output_type": "execute_result"
    }
   ],
   "source": [
    "df.shape"
   ]
  },
  {
   "cell_type": "code",
   "execution_count": 7,
   "metadata": {},
   "outputs": [
    {
     "name": "stdout",
     "output_type": "stream",
     "text": [
      "<class 'pandas.core.frame.DataFrame'>\n",
      "RangeIndex: 91713 entries, 0 to 91712\n",
      "Data columns (total 43 columns):\n",
      " #   Column                         Non-Null Count  Dtype  \n",
      "---  ------                         --------------  -----  \n",
      " 0   encounter_id                   91713 non-null  int64  \n",
      " 1   patient_id                     91713 non-null  int64  \n",
      " 2   hospital_id                    91713 non-null  int64  \n",
      " 3   age                            87485 non-null  float64\n",
      " 4   bmi                            88284 non-null  float64\n",
      " 5   elective_surgery               91713 non-null  int64  \n",
      " 6   ethnicity                      90318 non-null  object \n",
      " 7   gender                         91688 non-null  object \n",
      " 8   height                         90379 non-null  float64\n",
      " 9   icu_admit_source               91601 non-null  object \n",
      " 10  icu_id                         91713 non-null  int64  \n",
      " 11  icu_stay_type                  91713 non-null  object \n",
      " 12  icu_type                       91713 non-null  object \n",
      " 13  pre_icu_los_days               91713 non-null  float64\n",
      " 14  weight                         88993 non-null  float64\n",
      " 15  apache_2_diagnosis             90051 non-null  float64\n",
      " 16  apache_3j_diagnosis            90612 non-null  float64\n",
      " 17  apache_post_operative          91713 non-null  int64  \n",
      " 18  arf_apache                     90998 non-null  float64\n",
      " 19  gcs_eyes_apache                89812 non-null  float64\n",
      " 20  gcs_motor_apache               89812 non-null  float64\n",
      " 21  gcs_unable_apache              90676 non-null  float64\n",
      " 22  gcs_verbal_apache              89812 non-null  float64\n",
      " 23  heart_rate_apache              90835 non-null  float64\n",
      " 24  intubated_apache               90998 non-null  float64\n",
      " 25  map_apache                     90719 non-null  float64\n",
      " 26  resprate_apache                90479 non-null  float64\n",
      " 27  temp_apache                    87605 non-null  float64\n",
      " 28  ventilated_apache              90998 non-null  float64\n",
      " 29  apache_4a_hospital_death_prob  83766 non-null  float64\n",
      " 30  apache_4a_icu_death_prob       83766 non-null  float64\n",
      " 31  aids                           90998 non-null  float64\n",
      " 32  cirrhosis                      90998 non-null  float64\n",
      " 33  diabetes_mellitus              90998 non-null  float64\n",
      " 34  hepatic_failure                90998 non-null  float64\n",
      " 35  immunosuppression              90998 non-null  float64\n",
      " 36  leukemia                       90998 non-null  float64\n",
      " 37  lymphoma                       90998 non-null  float64\n",
      " 38  solid_tumor_with_metastasis    90998 non-null  float64\n",
      " 39  apache_3j_bodysystem           90051 non-null  object \n",
      " 40  apache_2_bodysystem            90051 non-null  object \n",
      " 41  Unnamed: 83                    0 non-null      float64\n",
      " 42  hospital_death                 91713 non-null  int64  \n",
      "dtypes: float64(29), int64(7), object(7)\n",
      "memory usage: 30.1+ MB\n"
     ]
    }
   ],
   "source": [
    "df.info()"
   ]
  },
  {
   "cell_type": "code",
   "execution_count": 8,
   "metadata": {},
   "outputs": [
    {
     "name": "stdout",
     "output_type": "stream",
     "text": [
      "['Unnamed: 83', 'apache_4a_icu_death_prob', 'apache_4a_hospital_death_prob', 'age', 'temp_apache', 'bmi', 'weight', 'gcs_motor_apache', 'gcs_eyes_apache', 'gcs_verbal_apache', 'apache_2_bodysystem', 'apache_3j_bodysystem', 'apache_2_diagnosis', 'ethnicity', 'height', 'resprate_apache', 'apache_3j_diagnosis', 'gcs_unable_apache', 'map_apache', 'heart_rate_apache', 'arf_apache', 'immunosuppression', 'diabetes_mellitus', 'hepatic_failure', 'leukemia', 'intubated_apache', 'lymphoma', 'solid_tumor_with_metastasis', 'ventilated_apache', 'aids', 'cirrhosis', 'icu_admit_source', 'gender']\n"
     ]
    }
   ],
   "source": [
    "#lista todas as colunas que tem valor nulo e ordena da lista com mais valores para a com menos\n",
    "# print(df.isnull().sum().sort_values(ascending=False)[df.isnull().sum().sort_values(ascending=False) > 0])\n",
    "null_counts = df.isnull().sum().sort_values(ascending=False)\n",
    "print(null_counts[null_counts > 0].index.tolist())\n"
   ]
  },
  {
   "cell_type": "code",
   "execution_count": 9,
   "metadata": {},
   "outputs": [
    {
     "name": "stdout",
     "output_type": "stream",
     "text": [
      "Unnamed: 83: 91713 \n",
      "apache_4a_icu_death_prob: 7947 \n",
      "apache_4a_hospital_death_prob: 7947 \n",
      "age: 4228 \n",
      "temp_apache: 4108 \n",
      "bmi: 3429 \n",
      "weight: 2720 \n",
      "gcs_motor_apache: 1901 \n",
      "gcs_eyes_apache: 1901 \n",
      "gcs_verbal_apache: 1901 \n",
      "apache_2_bodysystem: 1662 \n",
      "apache_3j_bodysystem: 1662 \n",
      "apache_2_diagnosis: 1662 \n",
      "ethnicity: 1395 \n",
      "height: 1334 \n",
      "resprate_apache: 1234 \n",
      "apache_3j_diagnosis: 1101 \n",
      "gcs_unable_apache: 1037 \n",
      "map_apache: 994 \n",
      "heart_rate_apache: 878 \n",
      "arf_apache: 715 \n",
      "immunosuppression: 715 \n",
      "diabetes_mellitus: 715 \n",
      "hepatic_failure: 715 \n",
      "leukemia: 715 \n",
      "intubated_apache: 715 \n",
      "lymphoma: 715 \n",
      "solid_tumor_with_metastasis: 715 \n",
      "ventilated_apache: 715 \n",
      "aids: 715 \n",
      "cirrhosis: 715 \n",
      "icu_admit_source: 112 \n",
      "gender: 25 \n"
     ]
    }
   ],
   "source": [
    "null_counts = df.isnull().sum().sort_values(ascending=False)\n",
    "for column, count in null_counts.items():\n",
    "    if count > 0:\n",
    "        print(f\"{column}: {count} \")\n"
   ]
  },
  {
   "cell_type": "code",
   "execution_count": 10,
   "metadata": {},
   "outputs": [],
   "source": [
    "df = df.drop(['Unnamed: 83'], axis = 1)"
   ]
  },
  {
   "attachments": {},
   "cell_type": "markdown",
   "metadata": {},
   "source": [
    "## Tradução das colunas "
   ]
  },
  {
   "cell_type": "code",
   "execution_count": 93,
   "metadata": {},
   "outputs": [],
   "source": [
    "dic = {\n",
    "    'encounter_id': 'id_ncontro',\n",
    "    'patient_id': 'id_paciente',\n",
    "    'hospital_id': 'id_hospital',\n",
    "    'age': 'idade',\n",
    "    'bmi': 'imc',\n",
    "    'elective_surgery': 'cirurgia_eletiva',\n",
    "    'ethnicity': 'etnia',\n",
    "    'gender': 'genero',\n",
    "    'height': 'altura',\n",
    "    'icu_admit_source': 'fonte_admissao_uti',\n",
    "    'icu_id': 'id_uti',\n",
    "    'icu_stay_type': 'tipo_estadia_uti',\n",
    "    'icu_type': 'tipo_uti',\n",
    "    'pre_icu_los_days': 'dias_de_permanencia_pre_uti',\n",
    "    'weight': 'peso',\n",
    "    'apache_2_diagnosis': 'diagnostico_pache_2',\n",
    "    'apache_3j_diagnosis': 'diagnostico_apache_3j',\n",
    "    'apache_post_operative': 'apache_pos_operatorio',\n",
    "    'arf_apache': 'arf_apache',\n",
    "    'gcs_eyes_apache': 'gcs_olhos_apache',\n",
    "    'gcs_motor_apache': 'gcs_motor_apache',\n",
    "    'gcs_unable_apache': 'gcs_incapaz_apache',\n",
    "    'gcs_verbal_apache': 'gcs_verbal_pache',\n",
    "    'heart_rate_apache': 'frequencia_cardiaca_apache',\n",
    "    'intubated_apache': 'intubado_apache',\n",
    "    'map_apache': 'map_apache',\n",
    "    'resprate_apache': 'frequencia_respiratoria_pache',\n",
    "    'temp_apache': 'temperatura_apache',\n",
    "    'ventilated_apache': 'ventilado_apache',\n",
    "    'd1_diasbp_max': 'd1_pressao_arterial_diastolica_maxima',\n",
    "    'd1_diasbp_min': 'd1_pressao_arterial_diastolica_minima',\n",
    "    'd1_diasbp_noninvasive_max': 'd1_pressao_arterial_diastolica_nao_invasiva_maxima',\n",
    "    'd1_diasbp_noninvasive_min': 'd1_pressao_arterial_diastólica_nao_invasiva_minima',\n",
    "    'd1_heartrate_max': 'd1_frequencia_cardiaca_maxima',\n",
    "    'd1_heartrate_min': 'd1_frequencia_cardiaca_minima',\n",
    "    'd1_mbp_max': 'd1_pressao_arterial_media_maxima',\n",
    "    'd1_mbp_min': 'd1_pressao_arterial_media_minima',\n",
    "    'd1_mbp_noninvasive_max': 'd1_pressao_arterial_media_nao_invasiva_maxima',\n",
    "    'd1_mbp_noninvasive_min': 'd1_pressao_arterial_media_nao_invasiva_minima',\n",
    "    'd1_resprate_max': 'd1_frequencia_respiratoria_maxima',\n",
    "    'd1_resprate_min': 'd1_frequencia_respiratoria_minima',\n",
    "    'd1_spo2_min': 'd1_spO2_minimo',\n",
    "    'd1_spo2_max': 'd1_spO2_maximo',\n",
    "    'd1_sysbp_min': 'd1_pressao_arterial_sistolica_minima',\n",
    "    'd1_sysbp_max': 'd1_pressao_arterial_sistolica_maxima',\n",
    "    'd1_sysbp_noninvasive_min': 'd1_pressao_arterial_sistolica_nao_invasiva_minima',\n",
    "    'd1_sysbp_noninvasive_max': 'd1_pressao_arterial_sistolica_nao_invasiva_maxima',\n",
    "    'd1_temp_min': 'd1_temperatura_minima',\n",
    "    'd1_temp_max': 'd1_temperatura_maxima',\n",
    "    'h1_diasbp_min': 'h1_ressao_arterial_iastolica_minima',\n",
    "    'h1_diasbp_max': 'h1_pressão_arterial_diastolica_maxima',\n",
    "    'h1_diasbp_noninvasive_min': 'h1_pressao_arterial_diastolica_nao_invasiva_minima',\n",
    "    'h1_diasbp_noninvasive_max': 'h1_pressao_arterial_diastolica_nao_invasiva_maxima',\n",
    "    'h1_heartrate_min': 'h1_requencia_cardiaca_minima',\n",
    "    'h1_heartrate_max': 'h1_frequencia_cardiaca_maxima',\n",
    "    'h1_mbp_min': 'h1_pressao_arterial_media_minima',\n",
    "    'h1_mbp_max': 'h1_pressao_arterial_media_maxima',\n",
    "    'h1_mbp_noninvasive_min': 'h1_pressao_arterial_media_nao_invasiva_minima',\n",
    "    'h1_mbp_noninvasive_max': 'h1_pressao_arterial_media_nao_invasiva_maxima',\n",
    "    'h1_resprate_min': 'h1_frequencia_respiratoria_minima',\n",
    "    'h1_resprate_max': 'h1_frequencia_respiratoria_maxima',\n",
    "    'h1_spo2_min': 'h1_spO2_minimo',\n",
    "    'h1_spo2_max': 'h1_spO2_maximo',\n",
    "    'h1_sysbp_min': 'h1_pressao_arterial_sistolica_minima',\n",
    "    'h1_sysbp_max': 'h1_pressao_arterial_sistolica_maxima',\n",
    "    'h1_sysbp_noninvasive_min': 'h1_pressão_arterial_sistolica_nao_invasiva_minima',\n",
    "    'h1_sysbp_noninvasive_max': 'h1_pressao_arterial_sistolica_nao_invasiva_maxima',\n",
    "    'd1_glucose_min': 'd1_glicose_minima',\n",
    "    'd1_glucose_max': 'd1_glicose_maxima',\n",
    "    'd1_potassium_min': 'd1_potassio_minimo',\n",
    "    'd1_potassium_max': 'd1_potassio_maximo',\n",
    "    'apache_4a_hospital_death_prob': 'probabilidade_morte_no_hospital_(apache_4a)',\n",
    "    'apache_4a_icu_death_prob': 'probabilidade_morte_na_uti_(apache_4a)',\n",
    "    'aids': 'aids',\n",
    "    'cirrhosis': 'cirrose',\n",
    "    'diabetes_mellitus': 'diabetes_mellitus',\n",
    "    'hepatic_failure': 'insuficiencia_hepatica',\n",
    "    'immunosuppression': 'imunossupressao',\n",
    "    'leukemia': 'leucemia',\n",
    "    'lymphoma': 'linfoma',\n",
    "    'solid_tumor_with_metastasis': 'tumor_solido_com_metastase',\n",
    "    'apache_3j_bodysystem': 'sistema_corporal_apache_3j',\n",
    "    'apache_2_bodysystem': 'sistema_corporal_apache_2',\n",
    "    'hospital_death': 'morte_hospital'}"
   ]
  },
  {
   "cell_type": "code",
   "execution_count": 94,
   "metadata": {},
   "outputs": [
    {
     "data": {
      "text/plain": [
       "Index(['id_ncontro', 'id_paciente', 'id_hospital', 'idade', 'imc',\n",
       "       'cirurgia_eletiva', 'etnia', 'genero', 'altura', 'fonte_admissao_uti',\n",
       "       'id_uti', 'tipo_estadia_uti', 'tipo_uti', 'dias_de_permanencia_pre_uti',\n",
       "       'peso', 'diagnostico_pache_2', 'diagnostico_apache_3j',\n",
       "       'apache_pos_operatorio', 'arf_apache', 'gcs_olhos_apache',\n",
       "       'gcs_motor_apache', 'gcs_incapaz_apache', 'gcs_verbal_pache',\n",
       "       'frequencia_cardiaca_apache', 'intubado_apache', 'map_apache',\n",
       "       'frequencia_respiratoria_pache', 'temperatura_apache',\n",
       "       'ventilado_apache', 'd1_pressao_arterial_diastolica_maxima',\n",
       "       'd1_pressao_arterial_diastolica_minima',\n",
       "       'd1_pressao_arterial_diastolica_nao_invasiva_maxima',\n",
       "       'd1_pressao_arterial_diastólica_nao_invasiva_minima',\n",
       "       'd1_frequencia_cardiaca_maxima', 'd1_frequencia_cardiaca_minima',\n",
       "       'd1_pressao_arterial_media_maxima', 'd1_pressao_arterial_media_minima',\n",
       "       'd1_pressao_arterial_media_nao_invasiva_maxima',\n",
       "       'd1_pressao_arterial_media_nao_invasiva_minima',\n",
       "       'd1_frequencia_respiratoria_maxima',\n",
       "       'd1_frequencia_respiratoria_minima', 'd1_spO2_maximo', 'd1_spO2_minimo',\n",
       "       'd1_pressao_arterial_sistolica_maxima',\n",
       "       'd1_pressao_arterial_sistolica_minima',\n",
       "       'd1_pressao_arterial_sistolica_nao_invasiva_maxima',\n",
       "       'd1_pressao_arterial_sistolica_nao_invasiva_minima',\n",
       "       'd1_temperatura_maxima', 'd1_temperatura_minima',\n",
       "       'h1_pressão_arterial_diastolica_maxima',\n",
       "       'h1_ressao_arterial_iastolica_minima',\n",
       "       'h1_pressao_arterial_diastolica_nao_invasiva_maxima',\n",
       "       'h1_pressao_arterial_diastolica_nao_invasiva_minima',\n",
       "       'h1_frequencia_cardiaca_maxima', 'h1_requencia_cardiaca_minima',\n",
       "       'h1_pressao_arterial_media_maxima', 'h1_pressao_arterial_media_minima',\n",
       "       'h1_pressao_arterial_media_nao_invasiva_maxima',\n",
       "       'h1_pressao_arterial_media_nao_invasiva_minima',\n",
       "       'h1_frequencia_respiratoria_maxima',\n",
       "       'h1_frequencia_respiratoria_minima', 'h1_spO2_maximo', 'h1_spO2_minimo',\n",
       "       'h1_pressao_arterial_sistolica_maxima',\n",
       "       'h1_pressao_arterial_sistolica_minima',\n",
       "       'h1_pressao_arterial_sistolica_nao_invasiva_maxima',\n",
       "       'h1_pressão_arterial_sistolica_nao_invasiva_minima',\n",
       "       'd1_glicose_maxima', 'd1_glicose_minima', 'd1_potassio_maximo',\n",
       "       'd1_potassio_minimo', 'probabilidade_morte_no_hospital_(apache_4a)',\n",
       "       'probabilidade_morte_na_uti_(apache_4a)', 'aids', 'cirrose',\n",
       "       'diabetes_mellitus', 'insuficiencia_hepatica', 'imunossupressao',\n",
       "       'leucemia', 'linfoma', 'tumor_solido_com_metastase',\n",
       "       'sistema_corporal_apache_3j', 'sistema_corporal_apache_2',\n",
       "       'Unnamed: 83', 'morte_hospital'],\n",
       "      dtype='object')"
      ]
     },
     "execution_count": 94,
     "metadata": {},
     "output_type": "execute_result"
    }
   ],
   "source": [
    "df = df.rename(columns=dic)\n",
    "df.columns\n"
   ]
  },
  {
   "attachments": {},
   "cell_type": "markdown",
   "metadata": {},
   "source": [
    "## Analise das colunas \n",
    "\n"
   ]
  },
  {
   "attachments": {},
   "cell_type": "markdown",
   "metadata": {},
   "source": [
    "Para aplicar a estatística descritiva em uma coluna de idade, você pode utilizar algumas medidas comuns. Aqui estão algumas estatísticas descritivas que podem ser úteis nesse contexto:\n",
    "\n",
    "Média: Calcula a média aritmética dos valores da coluna de idade, fornecendo uma medida de tendência central. A média é obtida somando todos os valores da coluna e dividindo pelo número total de observações.\n",
    "\n",
    "Mediana: Determina o valor do meio na distribuição dos valores de idade. Se a coluna tiver um número ímpar de observações, a mediana será o valor central. Caso contrário, será a média dos dois valores centrais. A mediana é uma medida de tendência central robusta que não é influenciada por outliers.\n",
    "\n",
    "Moda: Identifica o valor ou valores mais frequentes na coluna de idade. A moda é útil para identificar os grupos de idade mais comuns na amostra.\n",
    "\n",
    "Desvio padrão: Mede a dispersão dos valores da coluna em relação à média. O desvio padrão indica o quanto os valores de idade variam em torno da média. Valores mais altos de desvio padrão indicam uma maior dispersão dos dados.\n",
    "\n",
    "Mínimo e máximo: Determinam o menor e o maior valor na coluna de idade, respectivamente. Essas estatísticas fornecem informações sobre a faixa dos valores de idade.\n",
    "\n",
    "Quartis: Os quartis dividem a distribuição dos valores de idade em quatro partes iguais. O primeiro quartil (Q1) é o valor abaixo do qual 25% dos valores estão localizados, enquanto o terceiro quartil (Q3) é o valor abaixo do qual 75% dos valores estão localizados. A diferença entre Q3 e Q1 é conhecida como intervalo interquartil (IQR), que fornece uma medida de dispersão que é menos sensível a outliers.\n",
    "\n"
   ]
  },
  {
   "attachments": {},
   "cell_type": "markdown",
   "metadata": {},
   "source": [
    "### Informações do paciente anteriores ao internamento "
   ]
  },
  {
   "cell_type": "code",
   "execution_count": 13,
   "metadata": {},
   "outputs": [
    {
     "data": {
      "text/plain": [
       "Index(['id_ncontro', 'id_paciente', 'id_hospital', 'idade', 'imc',\n",
       "       'cirurgia_eletiva', 'etnia', 'genero', 'altura', 'fonte_admissao_uti',\n",
       "       'id_uti', 'tipo_estadia_uti', 'tipo_uti', 'dias_de_permanencia_pre_uti',\n",
       "       'peso', 'diagnostico_pache_2', 'diagnostico_apache_3j',\n",
       "       'apache_pos_operatorio', 'arf_apache', 'gcs_olhos_apache',\n",
       "       'gcs_motor_apache', 'gcs_incapaz_apache', 'gcs_verbal_pache',\n",
       "       'frequencia_cardiaca_apache', 'intubado_apache', 'map_apache',\n",
       "       'frequencia_respiratoria_pache', 'temperatura_apache',\n",
       "       'ventilado_apache', 'probabilidade_morte_no_hospital_(apache_4a)',\n",
       "       'probabilidade_morte_na_uti_(apache_4a)', 'aids', 'cirrose',\n",
       "       'diabetes_mellitus', 'insuficiencia_hepatica', 'imunossupressao',\n",
       "       'leucemia', 'linfoma', 'tumor_solido_com_metastase',\n",
       "       'sistema_corporal_apache_3j', 'sistema_corporal_apache_2',\n",
       "       'morte_hospital'],\n",
       "      dtype='object')"
      ]
     },
     "execution_count": 13,
     "metadata": {},
     "output_type": "execute_result"
    }
   ],
   "source": [
    "df.columns"
   ]
  },
  {
   "attachments": {},
   "cell_type": "markdown",
   "metadata": {},
   "source": [
    "#### idade"
   ]
  },
  {
   "cell_type": "code",
   "execution_count": 14,
   "metadata": {},
   "outputs": [
    {
     "data": {
      "text/plain": [
       "count    87485.000000\n",
       "mean        62.309516\n",
       "std         16.775119\n",
       "min         16.000000\n",
       "25%         52.000000\n",
       "50%         65.000000\n",
       "75%         75.000000\n",
       "max         89.000000\n",
       "Name: idade, dtype: float64"
      ]
     },
     "execution_count": 14,
     "metadata": {},
     "output_type": "execute_result"
    }
   ],
   "source": [
    "df['idade'].describe()"
   ]
  },
  {
   "cell_type": "code",
   "execution_count": 15,
   "metadata": {},
   "outputs": [
    {
     "data": {
      "text/plain": [
       "array([68., 77., 25., 81., 19., 67., 59., 70., 45., 50., 72., 80., 48.,\n",
       "       65., 78., 30., 46., 39., 79., 58., 87., 60., 85., nan, 76., 53.,\n",
       "       71., 82., 52., 75., 64., 55., 73., 88., 84., 62., 56., 38., 41.,\n",
       "       35., 54., 74., 49., 86., 51., 63., 61., 47., 33., 89., 36., 69.,\n",
       "       57., 22., 83., 66., 42., 27., 18., 17., 37., 43., 28., 40., 20.,\n",
       "       32., 34., 23., 44., 24., 26., 31., 29., 21., 16.])"
      ]
     },
     "execution_count": 15,
     "metadata": {},
     "output_type": "execute_result"
    }
   ],
   "source": [
    "df['idade'].unique()"
   ]
  },
  {
   "attachments": {},
   "cell_type": "markdown",
   "metadata": {},
   "source": [
    "#### IMC"
   ]
  },
  {
   "cell_type": "code",
   "execution_count": 16,
   "metadata": {},
   "outputs": [
    {
     "data": {
      "text/plain": [
       "count    88284.000000\n",
       "mean        29.185818\n",
       "std          8.275142\n",
       "min         14.844926\n",
       "25%         23.641975\n",
       "50%         27.654655\n",
       "75%         32.930206\n",
       "max         67.814990\n",
       "Name: imc, dtype: float64"
      ]
     },
     "execution_count": 16,
     "metadata": {},
     "output_type": "execute_result"
    }
   ],
   "source": [
    "df['imc'].describe()"
   ]
  },
  {
   "cell_type": "code",
   "execution_count": 17,
   "metadata": {},
   "outputs": [
    {
     "data": {
      "text/plain": [
       "array([22.73      , 27.42      , 31.95      , ..., 33.81054776,\n",
       "       45.93520298, 47.17967094])"
      ]
     },
     "execution_count": 17,
     "metadata": {},
     "output_type": "execute_result"
    }
   ],
   "source": [
    "df['imc'].unique()"
   ]
  },
  {
   "attachments": {},
   "cell_type": "markdown",
   "metadata": {},
   "source": [
    "#### etinia"
   ]
  },
  {
   "cell_type": "code",
   "execution_count": 18,
   "metadata": {},
   "outputs": [
    {
     "data": {
      "text/plain": [
       "array(['Caucasian', nan, 'Hispanic', 'African American', 'Asian',\n",
       "       'Native American', 'Other/Unknown'], dtype=object)"
      ]
     },
     "execution_count": 18,
     "metadata": {},
     "output_type": "execute_result"
    }
   ],
   "source": [
    "df['etnia'].unique()"
   ]
  },
  {
   "cell_type": "code",
   "execution_count": 19,
   "metadata": {},
   "outputs": [
    {
     "data": {
      "text/plain": [
       "Caucasian           70684\n",
       "African American     9547\n",
       "Other/Unknown        4374\n",
       "Hispanic             3796\n",
       "Asian                1129\n",
       "Native American       788\n",
       "Name: etnia, dtype: int64"
      ]
     },
     "execution_count": 19,
     "metadata": {},
     "output_type": "execute_result"
    }
   ],
   "source": [
    "etinia_count = df['etnia'].value_counts()\n",
    "etinia_count\n"
   ]
  },
  {
   "cell_type": "code",
   "execution_count": 20,
   "metadata": {},
   "outputs": [
    {
     "data": {
      "image/png": "[encoded data removed]",
      "text/plain": [
       "<Figure size 800x600 with 1 Axes>"
      ]
     },
     "metadata": {},
     "output_type": "display_data"
    }
   ],
   "source": [
    "plt.figure(figsize=(8, 6))\n",
    "etinia_count.plot(kind='bar')\n",
    "plt.xlabel('Etnia')\n",
    "plt.ylabel('Contagem')\n",
    "plt.title('Distribuição de Etnias')\n",
    "plt.show()\n"
   ]
  },
  {
   "attachments": {},
   "cell_type": "markdown",
   "metadata": {},
   "source": [
    "#### Gênero"
   ]
  },
  {
   "cell_type": "code",
   "execution_count": 21,
   "metadata": {},
   "outputs": [
    {
     "data": {
      "text/plain": [
       "25"
      ]
     },
     "execution_count": 21,
     "metadata": {},
     "output_type": "execute_result"
    }
   ],
   "source": [
    "df['genero'].isnull().sum()"
   ]
  },
  {
   "cell_type": "code",
   "execution_count": 22,
   "metadata": {},
   "outputs": [
    {
     "data": {
      "text/plain": [
       "array(['M', 'F', nan], dtype=object)"
      ]
     },
     "execution_count": 22,
     "metadata": {},
     "output_type": "execute_result"
    }
   ],
   "source": [
    "df['genero'].unique()"
   ]
  },
  {
   "cell_type": "code",
   "execution_count": 23,
   "metadata": {},
   "outputs": [
    {
     "data": {
      "text/plain": [
       "M    49469\n",
       "F    42219\n",
       "Name: genero, dtype: int64"
      ]
     },
     "execution_count": 23,
     "metadata": {},
     "output_type": "execute_result"
    }
   ],
   "source": [
    "genero_cont = df['genero'].value_counts()\n",
    "genero_cont\n"
   ]
  },
  {
   "cell_type": "code",
   "execution_count": 24,
   "metadata": {},
   "outputs": [
    {
     "data": {
      "image/png": "[encoded data removed]",
      "text/plain": [
       "<Figure size 800x600 with 1 Axes>"
      ]
     },
     "metadata": {},
     "output_type": "display_data"
    }
   ],
   "source": [
    "plt.figure(figsize=(8, 6))\n",
    "genero_cont.plot(kind='bar')\n",
    "plt.xlabel('Gênero')\n",
    "plt.ylabel('Contagem')\n",
    "plt.title('Distribuição de Gêneros')\n",
    "plt.show()\n"
   ]
  },
  {
   "cell_type": "code",
   "execution_count": 25,
   "metadata": {},
   "outputs": [
    {
     "data": {
      "text/plain": [
       "M    53.953625\n",
       "F    46.046375\n",
       "Name: genero, dtype: float64"
      ]
     },
     "execution_count": 25,
     "metadata": {},
     "output_type": "execute_result"
    }
   ],
   "source": [
    "genero_proporcao = df['genero'].value_counts(normalize=True) * 100\n",
    "genero_proporcao\n"
   ]
  },
  {
   "cell_type": "code",
   "execution_count": 26,
   "metadata": {},
   "outputs": [
    {
     "data": {
      "image/png": "[encoded data removed]",
      "text/plain": [
       "<Figure size 800x600 with 1 Axes>"
      ]
     },
     "metadata": {},
     "output_type": "display_data"
    }
   ],
   "source": [
    "plt.figure(figsize=(8, 6))\n",
    "genero_proporcao.plot(kind='pie')\n",
    "plt.xlabel('Gênero')\n",
    "plt.ylabel('Contagem')\n",
    "plt.title('Proporção por Gêneros')\n",
    "plt.show()\n"
   ]
  },
  {
   "attachments": {},
   "cell_type": "markdown",
   "metadata": {},
   "source": [
    "#### altura"
   ]
  },
  {
   "cell_type": "code",
   "execution_count": 27,
   "metadata": {},
   "outputs": [
    {
     "data": {
      "text/plain": [
       "1334"
      ]
     },
     "execution_count": 27,
     "metadata": {},
     "output_type": "execute_result"
    }
   ],
   "source": [
    "df['altura'].isnull().sum()"
   ]
  },
  {
   "cell_type": "code",
   "execution_count": 28,
   "metadata": {},
   "outputs": [
    {
     "data": {
      "text/plain": [
       "count    90379.000000\n",
       "mean       169.641588\n",
       "std         10.795378\n",
       "min        137.200000\n",
       "25%        162.500000\n",
       "50%        170.100000\n",
       "75%        177.800000\n",
       "max        195.590000\n",
       "Name: altura, dtype: float64"
      ]
     },
     "execution_count": 28,
     "metadata": {},
     "output_type": "execute_result"
    }
   ],
   "source": [
    "df['altura'].describe()"
   ]
  },
  {
   "attachments": {},
   "cell_type": "markdown",
   "metadata": {},
   "source": [
    "#### peso"
   ]
  },
  {
   "cell_type": "code",
   "execution_count": 29,
   "metadata": {},
   "outputs": [
    {
     "data": {
      "text/plain": [
       "2720"
      ]
     },
     "execution_count": 29,
     "metadata": {},
     "output_type": "execute_result"
    }
   ],
   "source": [
    "df['peso'].isnull().sum()"
   ]
  },
  {
   "cell_type": "code",
   "execution_count": 30,
   "metadata": {},
   "outputs": [
    {
     "data": {
      "text/plain": [
       "count    88993.000000\n",
       "mean        84.028340\n",
       "std         25.011497\n",
       "min         38.600000\n",
       "25%         66.800000\n",
       "50%         80.300000\n",
       "75%         97.100000\n",
       "max        186.000000\n",
       "Name: peso, dtype: float64"
      ]
     },
     "execution_count": 30,
     "metadata": {},
     "output_type": "execute_result"
    }
   ],
   "source": [
    "df['peso'].describe()"
   ]
  },
  {
   "attachments": {},
   "cell_type": "markdown",
   "metadata": {},
   "source": [
    "#### aids"
   ]
  },
  {
   "cell_type": "code",
   "execution_count": 31,
   "metadata": {},
   "outputs": [
    {
     "data": {
      "text/plain": [
       "715"
      ]
     },
     "execution_count": 31,
     "metadata": {},
     "output_type": "execute_result"
    }
   ],
   "source": [
    "df['aids'].isnull().sum()"
   ]
  },
  {
   "cell_type": "code",
   "execution_count": 32,
   "metadata": {},
   "outputs": [
    {
     "data": {
      "text/plain": [
       "array([ 0., nan,  1.])"
      ]
     },
     "execution_count": 32,
     "metadata": {},
     "output_type": "execute_result"
    }
   ],
   "source": [
    "df['aids'].unique()"
   ]
  },
  {
   "attachments": {},
   "cell_type": "markdown",
   "metadata": {},
   "source": [
    "#### cirrose"
   ]
  },
  {
   "cell_type": "code",
   "execution_count": 33,
   "metadata": {},
   "outputs": [
    {
     "data": {
      "text/plain": [
       "715"
      ]
     },
     "execution_count": 33,
     "metadata": {},
     "output_type": "execute_result"
    }
   ],
   "source": [
    "df['cirrose'].isnull().sum()"
   ]
  },
  {
   "cell_type": "code",
   "execution_count": 34,
   "metadata": {},
   "outputs": [
    {
     "data": {
      "text/plain": [
       "array([ 0.,  1., nan])"
      ]
     },
     "execution_count": 34,
     "metadata": {},
     "output_type": "execute_result"
    }
   ],
   "source": [
    "df['cirrose'].unique()"
   ]
  },
  {
   "attachments": {},
   "cell_type": "markdown",
   "metadata": {},
   "source": [
    "#### diabetes_mellitus"
   ]
  },
  {
   "cell_type": "code",
   "execution_count": 35,
   "metadata": {},
   "outputs": [
    {
     "data": {
      "text/plain": [
       "715"
      ]
     },
     "execution_count": 35,
     "metadata": {},
     "output_type": "execute_result"
    }
   ],
   "source": [
    "df['diabetes_mellitus'].isnull().sum()"
   ]
  },
  {
   "cell_type": "code",
   "execution_count": 36,
   "metadata": {},
   "outputs": [
    {
     "data": {
      "text/plain": [
       "0.0    70506\n",
       "1.0    20492\n",
       "Name: diabetes_mellitus, dtype: int64"
      ]
     },
     "execution_count": 36,
     "metadata": {},
     "output_type": "execute_result"
    }
   ],
   "source": [
    "df['diabetes_mellitus'].value_counts()"
   ]
  },
  {
   "cell_type": "code",
   "execution_count": 37,
   "metadata": {},
   "outputs": [
    {
     "data": {
      "text/plain": [
       "array([ 1.,  0., nan])"
      ]
     },
     "execution_count": 37,
     "metadata": {},
     "output_type": "execute_result"
    }
   ],
   "source": [
    "df['diabetes_mellitus'].unique()"
   ]
  },
  {
   "attachments": {},
   "cell_type": "markdown",
   "metadata": {},
   "source": [
    "#### insuficiencia_hepatica"
   ]
  },
  {
   "cell_type": "code",
   "execution_count": 38,
   "metadata": {},
   "outputs": [
    {
     "data": {
      "text/plain": [
       "715"
      ]
     },
     "execution_count": 38,
     "metadata": {},
     "output_type": "execute_result"
    }
   ],
   "source": [
    "df['insuficiencia_hepatica'].isnull().sum()"
   ]
  },
  {
   "cell_type": "code",
   "execution_count": 39,
   "metadata": {},
   "outputs": [
    {
     "data": {
      "text/plain": [
       "array([ 0.,  1., nan])"
      ]
     },
     "execution_count": 39,
     "metadata": {},
     "output_type": "execute_result"
    }
   ],
   "source": [
    "df['insuficiencia_hepatica'].unique()"
   ]
  },
  {
   "attachments": {},
   "cell_type": "markdown",
   "metadata": {},
   "source": [
    "#### imunossupressao"
   ]
  },
  {
   "cell_type": "code",
   "execution_count": 40,
   "metadata": {},
   "outputs": [
    {
     "data": {
      "text/plain": [
       "715"
      ]
     },
     "execution_count": 40,
     "metadata": {},
     "output_type": "execute_result"
    }
   ],
   "source": [
    "df['imunossupressao'].isnull().sum()"
   ]
  },
  {
   "cell_type": "code",
   "execution_count": 41,
   "metadata": {},
   "outputs": [
    {
     "data": {
      "text/plain": [
       "array([ 0.,  1., nan])"
      ]
     },
     "execution_count": 41,
     "metadata": {},
     "output_type": "execute_result"
    }
   ],
   "source": [
    "df['imunossupressao'].unique()"
   ]
  },
  {
   "attachments": {},
   "cell_type": "markdown",
   "metadata": {},
   "source": [
    "#### leucemia"
   ]
  },
  {
   "cell_type": "code",
   "execution_count": 42,
   "metadata": {},
   "outputs": [
    {
     "data": {
      "text/plain": [
       "715"
      ]
     },
     "execution_count": 42,
     "metadata": {},
     "output_type": "execute_result"
    }
   ],
   "source": [
    "df['leucemia'].isnull().sum()"
   ]
  },
  {
   "cell_type": "code",
   "execution_count": 43,
   "metadata": {},
   "outputs": [
    {
     "data": {
      "text/plain": [
       "array([ 0.,  1., nan])"
      ]
     },
     "execution_count": 43,
     "metadata": {},
     "output_type": "execute_result"
    }
   ],
   "source": [
    "df['leucemia'].unique()"
   ]
  },
  {
   "attachments": {},
   "cell_type": "markdown",
   "metadata": {},
   "source": [
    "#### linfoma"
   ]
  },
  {
   "cell_type": "code",
   "execution_count": 44,
   "metadata": {},
   "outputs": [
    {
     "data": {
      "text/plain": [
       "715"
      ]
     },
     "execution_count": 44,
     "metadata": {},
     "output_type": "execute_result"
    }
   ],
   "source": [
    "df['linfoma'].isnull().sum()"
   ]
  },
  {
   "cell_type": "code",
   "execution_count": 45,
   "metadata": {},
   "outputs": [
    {
     "data": {
      "text/plain": [
       "array([ 0., nan,  1.])"
      ]
     },
     "execution_count": 45,
     "metadata": {},
     "output_type": "execute_result"
    }
   ],
   "source": [
    "df['linfoma'].unique()"
   ]
  },
  {
   "attachments": {},
   "cell_type": "markdown",
   "metadata": {},
   "source": [
    "#### tumor_solido_com_metastase"
   ]
  },
  {
   "cell_type": "code",
   "execution_count": 46,
   "metadata": {},
   "outputs": [
    {
     "data": {
      "text/plain": [
       "715"
      ]
     },
     "execution_count": 46,
     "metadata": {},
     "output_type": "execute_result"
    }
   ],
   "source": [
    "df['tumor_solido_com_metastase'].isnull().sum()"
   ]
  },
  {
   "cell_type": "code",
   "execution_count": 47,
   "metadata": {},
   "outputs": [
    {
     "data": {
      "text/plain": [
       "array([ 0.,  1., nan])"
      ]
     },
     "execution_count": 47,
     "metadata": {},
     "output_type": "execute_result"
    }
   ],
   "source": [
    "df['tumor_solido_com_metastase'].unique()"
   ]
  },
  {
   "attachments": {},
   "cell_type": "markdown",
   "metadata": {},
   "source": [
    "#### fonte_admissao_uti"
   ]
  },
  {
   "cell_type": "code",
   "execution_count": 48,
   "metadata": {},
   "outputs": [
    {
     "data": {
      "text/plain": [
       "112"
      ]
     },
     "execution_count": 48,
     "metadata": {},
     "output_type": "execute_result"
    }
   ],
   "source": [
    "df['fonte_admissao_uti'].isnull().sum()"
   ]
  },
  {
   "cell_type": "code",
   "execution_count": 49,
   "metadata": {},
   "outputs": [
    {
     "data": {
      "text/plain": [
       "array(['Floor', 'Accident & Emergency', 'Operating Room / Recovery',\n",
       "       'Other Hospital', 'Other ICU', nan], dtype=object)"
      ]
     },
     "execution_count": 49,
     "metadata": {},
     "output_type": "execute_result"
    }
   ],
   "source": [
    "df['fonte_admissao_uti'].unique()"
   ]
  },
  {
   "cell_type": "code",
   "execution_count": 50,
   "metadata": {},
   "outputs": [
    {
     "data": {
      "text/plain": [
       "Accident & Emergency         54060\n",
       "Operating Room / Recovery    18713\n",
       "Floor                        15611\n",
       "Other Hospital                2358\n",
       "Other ICU                      859\n",
       "Name: fonte_admissao_uti, dtype: int64"
      ]
     },
     "execution_count": 50,
     "metadata": {},
     "output_type": "execute_result"
    }
   ],
   "source": [
    "fonte_admissao_uti_count = df['fonte_admissao_uti'].value_counts()\n",
    "fonte_admissao_uti_count"
   ]
  },
  {
   "cell_type": "code",
   "execution_count": 51,
   "metadata": {},
   "outputs": [
    {
     "data": {
      "image/png": "[encoded data removed]",
      "text/plain": [
       "<Figure size 800x600 with 1 Axes>"
      ]
     },
     "metadata": {},
     "output_type": "display_data"
    }
   ],
   "source": [
    "plt.figure(figsize=(8, 6))\n",
    "fonte_admissao_uti_count.plot(kind='pie')\n",
    "plt.xlabel('Fonte da Admissao UTI')\n",
    "plt.ylabel('Contagem')\n",
    "plt.title('Proporção por Gêneros')\n",
    "plt.show()"
   ]
  },
  {
   "attachments": {},
   "cell_type": "markdown",
   "metadata": {},
   "source": [
    "#### cirurgia_eletiva"
   ]
  },
  {
   "cell_type": "code",
   "execution_count": 52,
   "metadata": {},
   "outputs": [
    {
     "data": {
      "text/plain": [
       "array([0, 1])"
      ]
     },
     "execution_count": 52,
     "metadata": {},
     "output_type": "execute_result"
    }
   ],
   "source": [
    "df['cirurgia_eletiva'].unique()"
   ]
  },
  {
   "attachments": {},
   "cell_type": "markdown",
   "metadata": {},
   "source": [
    "### Historico do paciente no hospital"
   ]
  },
  {
   "attachments": {},
   "cell_type": "markdown",
   "metadata": {},
   "source": [
    "#### id_uti"
   ]
  },
  {
   "cell_type": "code",
   "execution_count": 53,
   "metadata": {},
   "outputs": [
    {
     "data": {
      "text/plain": [
       "241"
      ]
     },
     "execution_count": 53,
     "metadata": {},
     "output_type": "execute_result"
    }
   ],
   "source": [
    "#quantas UTI's participaram ?\n",
    "df['id_uti'].nunique()"
   ]
  },
  {
   "attachments": {},
   "cell_type": "markdown",
   "metadata": {},
   "source": [
    "#### tipo_estadia_uti\n",
    "\n",
    "Se o paciente foi internado ou transferido"
   ]
  },
  {
   "cell_type": "code",
   "execution_count": 54,
   "metadata": {},
   "outputs": [
    {
     "data": {
      "text/plain": [
       "array(['admit', 'readmit', 'transfer'], dtype=object)"
      ]
     },
     "execution_count": 54,
     "metadata": {},
     "output_type": "execute_result"
    }
   ],
   "source": [
    "df['tipo_estadia_uti'].unique()"
   ]
  },
  {
   "cell_type": "code",
   "execution_count": 55,
   "metadata": {},
   "outputs": [
    {
     "data": {
      "text/plain": [
       "admit       86183\n",
       "transfer     4970\n",
       "readmit       560\n",
       "Name: tipo_estadia_uti, dtype: int64"
      ]
     },
     "execution_count": 55,
     "metadata": {},
     "output_type": "execute_result"
    }
   ],
   "source": [
    "df['tipo_estadia_uti'].value_counts()"
   ]
  },
  {
   "attachments": {},
   "cell_type": "markdown",
   "metadata": {},
   "source": [
    "#### tipo_uti\n",
    "\n",
    "Classificação que indica o tipo de atendimento que a unidade é capaz de prestar"
   ]
  },
  {
   "cell_type": "code",
   "execution_count": 56,
   "metadata": {},
   "outputs": [
    {
     "data": {
      "text/plain": [
       "array(['CTICU', 'Med-Surg ICU', 'CCU-CTICU', 'Neuro ICU', 'MICU', 'SICU',\n",
       "       'Cardiac ICU', 'CSICU'], dtype=object)"
      ]
     },
     "execution_count": 56,
     "metadata": {},
     "output_type": "execute_result"
    }
   ],
   "source": [
    "df['tipo_uti'].unique()"
   ]
  },
  {
   "cell_type": "code",
   "execution_count": 57,
   "metadata": {},
   "outputs": [
    {
     "data": {
      "text/plain": [
       "Med-Surg ICU    50586\n",
       "MICU             7695\n",
       "Neuro ICU        7675\n",
       "CCU-CTICU        7156\n",
       "SICU             5209\n",
       "Cardiac ICU      4776\n",
       "CSICU            4613\n",
       "CTICU            4003\n",
       "Name: tipo_uti, dtype: int64"
      ]
     },
     "execution_count": 57,
     "metadata": {},
     "output_type": "execute_result"
    }
   ],
   "source": [
    "df['tipo_uti'].value_counts()"
   ]
  },
  {
   "attachments": {},
   "cell_type": "markdown",
   "metadata": {},
   "source": [
    "#### dias_de_permanencia_pre_uti"
   ]
  },
  {
   "cell_type": "code",
   "execution_count": 58,
   "metadata": {},
   "outputs": [
    {
     "data": {
      "text/plain": [
       "array([ 5.41666667e-01,  9.27777778e-01,  6.94444000e-04, ...,\n",
       "       -4.73125000e+00,  1.18236111e+01, -3.59305556e+00])"
      ]
     },
     "execution_count": 58,
     "metadata": {},
     "output_type": "execute_result"
    }
   ],
   "source": [
    "df['dias_de_permanencia_pre_uti'].unique()"
   ]
  },
  {
   "cell_type": "code",
   "execution_count": 59,
   "metadata": {},
   "outputs": [
    {
     "data": {
      "text/plain": [
       "count    91713.000000\n",
       "mean         0.835766\n",
       "std          2.487756\n",
       "min        -24.947222\n",
       "25%          0.035417\n",
       "50%          0.138889\n",
       "75%          0.409028\n",
       "max        159.090972\n",
       "Name: dias_de_permanencia_pre_uti, dtype: float64"
      ]
     },
     "execution_count": 59,
     "metadata": {},
     "output_type": "execute_result"
    }
   ],
   "source": [
    "df['dias_de_permanencia_pre_uti'].describe()"
   ]
  },
  {
   "cell_type": "code",
   "execution_count": 60,
   "metadata": {},
   "outputs": [
    {
     "data": {
      "text/plain": [
       " 0.000000     3711\n",
       " 0.000694     1403\n",
       " 0.001389     1011\n",
       " 0.002083      887\n",
       " 0.002778      811\n",
       "              ... \n",
       " 8.465972        1\n",
       " 3.475000        1\n",
       " 7.479167        1\n",
       " 13.685417       1\n",
       "-3.593056        1\n",
       "Name: dias_de_permanencia_pre_uti, Length: 9757, dtype: int64"
      ]
     },
     "execution_count": 60,
     "metadata": {},
     "output_type": "execute_result"
    }
   ],
   "source": [
    "df['dias_de_permanencia_pre_uti'].value_counts()"
   ]
  },
  {
   "attachments": {},
   "cell_type": "markdown",
   "metadata": {},
   "source": [
    "#### diagnostico_pache_2"
   ]
  },
  {
   "cell_type": "code",
   "execution_count": 61,
   "metadata": {},
   "outputs": [
    {
     "data": {
      "text/plain": [
       "array([113., 108., 122., 203., 119., 301., 116., 112., 303., 218., 304.,\n",
       "       302., 305., 124., 202., 207., 110., 209., 109., 106., 117., 120.,\n",
       "        nan, 217., 114., 102., 308., 105., 212., 219., 306., 121., 214.,\n",
       "       123., 213., 208., 101., 118., 307., 215., 103., 115., 104., 216.,\n",
       "       107.])"
      ]
     },
     "execution_count": 61,
     "metadata": {},
     "output_type": "execute_result"
    }
   ],
   "source": [
    "df['diagnostico_pache_2'].unique()"
   ]
  },
  {
   "cell_type": "code",
   "execution_count": 62,
   "metadata": {},
   "outputs": [
    {
     "data": {
      "text/plain": [
       "count    90051.000000\n",
       "mean       185.401739\n",
       "std         86.050882\n",
       "min        101.000000\n",
       "25%        113.000000\n",
       "50%        122.000000\n",
       "75%        301.000000\n",
       "max        308.000000\n",
       "Name: diagnostico_pache_2, dtype: float64"
      ]
     },
     "execution_count": 62,
     "metadata": {},
     "output_type": "execute_result"
    }
   ],
   "source": [
    "df['diagnostico_pache_2'].describe()"
   ]
  },
  {
   "attachments": {},
   "cell_type": "markdown",
   "metadata": {},
   "source": [
    "#### diagnostico_apache_3j"
   ]
  },
  {
   "cell_type": "code",
   "execution_count": 63,
   "metadata": {},
   "outputs": [
    {
     "data": {
      "text/plain": [
       "count    90612.000000\n",
       "mean       558.216377\n",
       "std        463.266985\n",
       "min          0.010000\n",
       "25%        203.010000\n",
       "50%        409.020000\n",
       "75%        703.030000\n",
       "max       2201.050000\n",
       "Name: diagnostico_apache_3j, dtype: float64"
      ]
     },
     "execution_count": 63,
     "metadata": {},
     "output_type": "execute_result"
    }
   ],
   "source": [
    "df['diagnostico_apache_3j'].describe()"
   ]
  },
  {
   "attachments": {},
   "cell_type": "markdown",
   "metadata": {},
   "source": [
    "#### apache_pos_operatorio"
   ]
  },
  {
   "cell_type": "code",
   "execution_count": 64,
   "metadata": {},
   "outputs": [
    {
     "data": {
      "text/plain": [
       "array([0, 1])"
      ]
     },
     "execution_count": 64,
     "metadata": {},
     "output_type": "execute_result"
    }
   ],
   "source": [
    "df['apache_pos_operatorio'].unique()"
   ]
  },
  {
   "cell_type": "code",
   "execution_count": 65,
   "metadata": {},
   "outputs": [
    {
     "data": {
      "text/plain": [
       "0"
      ]
     },
     "execution_count": 65,
     "metadata": {},
     "output_type": "execute_result"
    }
   ],
   "source": [
    "df['apache_pos_operatorio'].isnull().sum()"
   ]
  },
  {
   "attachments": {},
   "cell_type": "markdown",
   "metadata": {},
   "source": [
    "#### sistema_corporal_apache_3j"
   ]
  },
  {
   "cell_type": "code",
   "execution_count": 66,
   "metadata": {},
   "outputs": [
    {
     "data": {
      "text/plain": [
       "1662"
      ]
     },
     "execution_count": 66,
     "metadata": {},
     "output_type": "execute_result"
    }
   ],
   "source": [
    "df['sistema_corporal_apache_3j'].isnull().sum()"
   ]
  },
  {
   "cell_type": "code",
   "execution_count": 67,
   "metadata": {},
   "outputs": [
    {
     "data": {
      "text/plain": [
       "array(['Sepsis', 'Respiratory', 'Metabolic', 'Cardiovascular', 'Trauma',\n",
       "       'Neurological', 'Gastrointestinal', 'Genitourinary', nan,\n",
       "       'Hematological', 'Musculoskeletal/Skin', 'Gynecological'],\n",
       "      dtype=object)"
      ]
     },
     "execution_count": 67,
     "metadata": {},
     "output_type": "execute_result"
    }
   ],
   "source": [
    "df['sistema_corporal_apache_3j'].unique()"
   ]
  },
  {
   "cell_type": "code",
   "execution_count": 68,
   "metadata": {},
   "outputs": [
    {
     "data": {
      "text/plain": [
       "Cardiovascular          29999\n",
       "Neurological            11896\n",
       "Sepsis                  11740\n",
       "Respiratory             11609\n",
       "Gastrointestinal         9026\n",
       "Metabolic                7650\n",
       "Trauma                   3842\n",
       "Genitourinary            2172\n",
       "Musculoskeletal/Skin     1166\n",
       "Hematological             638\n",
       "Gynecological             313\n",
       "Name: sistema_corporal_apache_3j, dtype: int64"
      ]
     },
     "execution_count": 68,
     "metadata": {},
     "output_type": "execute_result"
    }
   ],
   "source": [
    "df['sistema_corporal_apache_3j'].value_counts()"
   ]
  },
  {
   "attachments": {},
   "cell_type": "markdown",
   "metadata": {},
   "source": [
    "#### sistema_corporal_apache_2"
   ]
  },
  {
   "cell_type": "code",
   "execution_count": 69,
   "metadata": {},
   "outputs": [
    {
     "data": {
      "text/plain": [
       "1662"
      ]
     },
     "execution_count": 69,
     "metadata": {},
     "output_type": "execute_result"
    }
   ],
   "source": [
    "df['sistema_corporal_apache_2'].isnull().sum()"
   ]
  },
  {
   "cell_type": "code",
   "execution_count": 70,
   "metadata": {},
   "outputs": [
    {
     "data": {
      "text/plain": [
       "array(['Cardiovascular', 'Respiratory', 'Metabolic', 'Trauma',\n",
       "       'Neurologic', 'Gastrointestinal', 'Renal/Genitourinary', nan,\n",
       "       'Undefined diagnoses', 'Haematologic', 'Undefined Diagnoses'],\n",
       "      dtype=object)"
      ]
     },
     "execution_count": 70,
     "metadata": {},
     "output_type": "execute_result"
    }
   ],
   "source": [
    "df['sistema_corporal_apache_2'].unique()"
   ]
  },
  {
   "cell_type": "code",
   "execution_count": 71,
   "metadata": {},
   "outputs": [
    {
     "data": {
      "text/plain": [
       "Cardiovascular         38816\n",
       "Neurologic             11896\n",
       "Respiratory            11609\n",
       "Gastrointestinal        9026\n",
       "Metabolic               7650\n",
       "Trauma                  3842\n",
       "Undefined diagnoses     3768\n",
       "Renal/Genitourinary     2460\n",
       "Haematologic             638\n",
       "Undefined Diagnoses      346\n",
       "Name: sistema_corporal_apache_2, dtype: int64"
      ]
     },
     "execution_count": 71,
     "metadata": {},
     "output_type": "execute_result"
    }
   ],
   "source": [
    "df['sistema_corporal_apache_2'].value_counts()"
   ]
  },
  {
   "attachments": {},
   "cell_type": "markdown",
   "metadata": {},
   "source": [
    "#### morte_hospital"
   ]
  },
  {
   "cell_type": "code",
   "execution_count": 72,
   "metadata": {},
   "outputs": [
    {
     "data": {
      "text/plain": [
       "array([0, 1])"
      ]
     },
     "execution_count": 72,
     "metadata": {},
     "output_type": "execute_result"
    }
   ],
   "source": [
    "df['morte_hospital'].unique()"
   ]
  },
  {
   "attachments": {},
   "cell_type": "markdown",
   "metadata": {},
   "source": [
    "### O histórico do paciente na primeira hora "
   ]
  },
  {
   "attachments": {},
   "cell_type": "markdown",
   "metadata": {},
   "source": [
    "#### d1_pressao_arterial_diastolica_maxima"
   ]
  },
  {
   "cell_type": "code",
   "execution_count": 73,
   "metadata": {},
   "outputs": [
    {
     "ename": "KeyError",
     "evalue": "'d1_pressao_arterial_diastolica_maxima'",
     "output_type": "error",
     "traceback": [
      "\u001b[0;31m---------------------------------------------------------------------------\u001b[0m",
      "\u001b[0;31mKeyError\u001b[0m                                  Traceback (most recent call last)",
      "File \u001b[0;32m~/.local/lib/python3.10/site-packages/pandas/core/indexes/base.py:3802\u001b[0m, in \u001b[0;36mIndex.get_loc\u001b[0;34m(self, key, method, tolerance)\u001b[0m\n\u001b[1;32m   3801\u001b[0m \u001b[39mtry\u001b[39;00m:\n\u001b[0;32m-> 3802\u001b[0m     \u001b[39mreturn\u001b[39;00m \u001b[39mself\u001b[39;49m\u001b[39m.\u001b[39;49m_engine\u001b[39m.\u001b[39;49mget_loc(casted_key)\n\u001b[1;32m   3803\u001b[0m \u001b[39mexcept\u001b[39;00m \u001b[39mKeyError\u001b[39;00m \u001b[39mas\u001b[39;00m err:\n",
      "File \u001b[0;32m~/.local/lib/python3.10/site-packages/pandas/_libs/index.pyx:138\u001b[0m, in \u001b[0;36mpandas._libs.index.IndexEngine.get_loc\u001b[0;34m()\u001b[0m\n",
      "File \u001b[0;32m~/.local/lib/python3.10/site-packages/pandas/_libs/index.pyx:165\u001b[0m, in \u001b[0;36mpandas._libs.index.IndexEngine.get_loc\u001b[0;34m()\u001b[0m\n",
      "File \u001b[0;32mpandas/_libs/hashtable_class_helper.pxi:5745\u001b[0m, in \u001b[0;36mpandas._libs.hashtable.PyObjectHashTable.get_item\u001b[0;34m()\u001b[0m\n",
      "File \u001b[0;32mpandas/_libs/hashtable_class_helper.pxi:5753\u001b[0m, in \u001b[0;36mpandas._libs.hashtable.PyObjectHashTable.get_item\u001b[0;34m()\u001b[0m\n",
      "\u001b[0;31mKeyError\u001b[0m: 'd1_pressao_arterial_diastolica_maxima'",
      "\nThe above exception was the direct cause of the following exception:\n",
      "\u001b[0;31mKeyError\u001b[0m                                  Traceback (most recent call last)",
      "Cell \u001b[0;32mIn[73], line 1\u001b[0m\n\u001b[0;32m----> 1\u001b[0m df[\u001b[39m'\u001b[39;49m\u001b[39md1_pressao_arterial_diastolica_maxima\u001b[39;49m\u001b[39m'\u001b[39;49m]\u001b[39m.\u001b[39munique()\n",
      "File \u001b[0;32m~/.local/lib/python3.10/site-packages/pandas/core/frame.py:3807\u001b[0m, in \u001b[0;36mDataFrame.__getitem__\u001b[0;34m(self, key)\u001b[0m\n\u001b[1;32m   3805\u001b[0m \u001b[39mif\u001b[39;00m \u001b[39mself\u001b[39m\u001b[39m.\u001b[39mcolumns\u001b[39m.\u001b[39mnlevels \u001b[39m>\u001b[39m \u001b[39m1\u001b[39m:\n\u001b[1;32m   3806\u001b[0m     \u001b[39mreturn\u001b[39;00m \u001b[39mself\u001b[39m\u001b[39m.\u001b[39m_getitem_multilevel(key)\n\u001b[0;32m-> 3807\u001b[0m indexer \u001b[39m=\u001b[39m \u001b[39mself\u001b[39;49m\u001b[39m.\u001b[39;49mcolumns\u001b[39m.\u001b[39;49mget_loc(key)\n\u001b[1;32m   3808\u001b[0m \u001b[39mif\u001b[39;00m is_integer(indexer):\n\u001b[1;32m   3809\u001b[0m     indexer \u001b[39m=\u001b[39m [indexer]\n",
      "File \u001b[0;32m~/.local/lib/python3.10/site-packages/pandas/core/indexes/base.py:3804\u001b[0m, in \u001b[0;36mIndex.get_loc\u001b[0;34m(self, key, method, tolerance)\u001b[0m\n\u001b[1;32m   3802\u001b[0m     \u001b[39mreturn\u001b[39;00m \u001b[39mself\u001b[39m\u001b[39m.\u001b[39m_engine\u001b[39m.\u001b[39mget_loc(casted_key)\n\u001b[1;32m   3803\u001b[0m \u001b[39mexcept\u001b[39;00m \u001b[39mKeyError\u001b[39;00m \u001b[39mas\u001b[39;00m err:\n\u001b[0;32m-> 3804\u001b[0m     \u001b[39mraise\u001b[39;00m \u001b[39mKeyError\u001b[39;00m(key) \u001b[39mfrom\u001b[39;00m \u001b[39merr\u001b[39;00m\n\u001b[1;32m   3805\u001b[0m \u001b[39mexcept\u001b[39;00m \u001b[39mTypeError\u001b[39;00m:\n\u001b[1;32m   3806\u001b[0m     \u001b[39m# If we have a listlike key, _check_indexing_error will raise\u001b[39;00m\n\u001b[1;32m   3807\u001b[0m     \u001b[39m#  InvalidIndexError. Otherwise we fall through and re-raise\u001b[39;00m\n\u001b[1;32m   3808\u001b[0m     \u001b[39m#  the TypeError.\u001b[39;00m\n\u001b[1;32m   3809\u001b[0m     \u001b[39mself\u001b[39m\u001b[39m.\u001b[39m_check_indexing_error(key)\n",
      "\u001b[0;31mKeyError\u001b[0m: 'd1_pressao_arterial_diastolica_maxima'"
     ]
    }
   ],
   "source": [
    "df['d1_pressao_arterial_diastolica_maxima'].unique()"
   ]
  },
  {
   "cell_type": "code",
   "execution_count": null,
   "metadata": {},
   "outputs": [
    {
     "data": {
      "text/plain": [
       "count    91548.000000\n",
       "mean        88.491873\n",
       "std         19.798379\n",
       "min         46.000000\n",
       "25%         75.000000\n",
       "50%         86.000000\n",
       "75%         99.000000\n",
       "max        165.000000\n",
       "Name: d1_pressao_arterial_diastolica_maxima, dtype: float64"
      ]
     },
     "execution_count": 39,
     "metadata": {},
     "output_type": "execute_result"
    }
   ],
   "source": [
    "df['d1_pressao_arterial_diastolica_maxima'].describe()"
   ]
  },
  {
   "cell_type": "markdown",
   "metadata": {},
   "source": [
    "## Análise de Correlação"
   ]
  },
  {
   "cell_type": "code",
   "execution_count": null,
   "metadata": {},
   "outputs": [],
   "source": [
    "colunas_anterior_internamento = ['idade', 'imc', 'cirurgia_eletiva', 'etnia', 'genero', 'altura', 'aids', 'cirrose', 'diabetes_mellitus',\n",
    "                            'insuficiencia_hepatica', 'imunossupressao', 'leucemia', 'linfoma', 'tumor_solido_com_metastase', 'morte_hospital']\n",
    "\n",
    "colunas_durante_internamento = ['fonte_admissao_uti', 'tipo_estadia_uti', 'tipo_uti',\n",
    "        'dias_de_permanencia_pre_uti', 'peso', 'diagnostico_pache_2',\n",
    "        'diagnostico_apache_3j', 'apache_pos_operatorio', 'arf_apache',\n",
    "        'gcs_olhos_apache', 'gcs_motor_apache', 'gcs_incapaz_apache',\n",
    "        'gcs_verbal_pache', 'frequencia_cardiaca_apache', 'intubado_apache',\n",
    "        'map_apache', 'frequencia_respiratoria_pache', 'temperatura_apache',\n",
    "        'ventilado_apache','sistema_corporal_apache_3j','sistema_corporal_apache_2', 'morte_hospital']\n",
    "\n",
    "colunas_primeira_hora = ['h1_pressão_arterial_diastolica_maxima',\n",
    "        'h1_ressao_arterial_iastolica_minima',\n",
    "        'h1_pressao_arterial_diastolica_nao_invasiva_maxima',\n",
    "        'h1_pressao_arterial_diastolica_nao_invasiva_minima',\n",
    "        'h1_frequencia_cardiaca_maxima', 'h1_requencia_cardiaca_minima',\n",
    "        'h1_pressao_arterial_media_maxima', 'h1_pressao_arterial_media_minima',\n",
    "        'h1_pressao_arterial_media_nao_invasiva_maxima',\n",
    "        'h1_pressao_arterial_media_nao_invasiva_minima',\n",
    "        'h1_frequencia_respiratoria_maxima',\n",
    "        'h1_frequencia_respiratoria_minima', 'h1_spO2_maximo', 'h1_spO2_minimo',\n",
    "        'h1_pressao_arterial_sistolica_maxima',\n",
    "        'h1_pressao_arterial_sistolica_minima',\n",
    "        'h1_pressao_arterial_sistolica_nao_invasiva_maxima',\n",
    "        'h1_pressão_arterial_sistolica_nao_invasiva_minima', 'morte_hospital']\n",
    "\n",
    "\n",
    "colunas_primeiras_vinte_quatro = ['d1_pressao_arterial_diastolica_maxima',\n",
    "        'd1_pressao_arterial_diastolica_minima',\n",
    "        'd1_pressao_arterial_diastolica_nao_invasiva_maxima',\n",
    "        'd1_pressao_arterial_diastólica_nao_invasiva_minima',\n",
    "        'd1_frequencia_cardiaca_maxima', 'd1_frequencia_cardiaca_minima',\n",
    "        'd1_pressao_arterial_media_maxima', 'd1_pressao_arterial_media_minima',\n",
    "        'd1_pressao_arterial_media_nao_invasiva_maxima',\n",
    "        'd1_pressao_arterial_media_nao_invasiva_minima',\n",
    "        'd1_frequencia_respiratoria_maxima',\n",
    "        'd1_frequencia_respiratoria_minima', 'd1_spO2_maximo', 'd1_spO2_minimo',\n",
    "        'd1_pressao_arterial_sistolica_maxima',\n",
    "        'd1_pressao_arterial_sistolica_minima',\n",
    "        'd1_pressao_arterial_sistolica_nao_invasiva_maxima',\n",
    "        'd1_pressao_arterial_sistolica_nao_invasiva_minima',\n",
    "        'd1_temperatura_maxima', 'd1_temperatura_minima','d1_glicose_maxima', \n",
    "        'd1_glicose_minima', 'd1_potassio_maximo',\n",
    "        'd1_potassio_minimo', 'morte_hospital']"
   ]
  },
  {
   "cell_type": "code",
   "execution_count": 77,
   "metadata": {},
   "outputs": [],
   "source": [
    "colunas_histotico = ['idade', 'imc', 'cirurgia_eletiva', 'etnia', 'genero', 'altura', 'aids', 'cirrose', 'diabetes_mellitus',\n",
    "                            'insuficiencia_hepatica', 'imunossupressao', 'leucemia', 'linfoma', 'tumor_solido_com_metastase', \n",
    "                            'fonte_admissao_uti', 'tipo_estadia_uti', 'tipo_uti',\n",
    "        'dias_de_permanencia_pre_uti', 'peso', 'diagnostico_pache_2',\n",
    "        'diagnostico_apache_3j', 'apache_pos_operatorio', 'arf_apache',\n",
    "        'gcs_olhos_apache', 'gcs_motor_apache', 'gcs_incapaz_apache',\n",
    "        'gcs_verbal_pache', 'frequencia_cardiaca_apache', 'intubado_apache',\n",
    "        'map_apache', 'frequencia_respiratoria_pache', 'temperatura_apache',\n",
    "        'ventilado_apache','sistema_corporal_apache_3j','sistema_corporal_apache_2', 'morte_hospital']"
   ]
  },
  {
   "cell_type": "code",
   "execution_count": 92,
   "metadata": {},
   "outputs": [
    {
     "data": {
      "text/plain": [
       "Index(['encounter_id', 'patient_id', 'hospital_id', 'age', 'bmi',\n",
       "       'elective_surgery', 'ethnicity', 'gender', 'height', 'icu_admit_source',\n",
       "       'icu_id', 'icu_stay_type', 'icu_type', 'pre_icu_los_days', 'weight',\n",
       "       'apache_2_diagnosis', 'apache_3j_diagnosis', 'apache_post_operative',\n",
       "       'arf_apache', 'gcs_eyes_apache', 'gcs_motor_apache',\n",
       "       'gcs_unable_apache', 'gcs_verbal_apache', 'heart_rate_apache',\n",
       "       'intubated_apache', 'map_apache', 'resprate_apache', 'temp_apache',\n",
       "       'ventilated_apache', 'd1_diasbp_max', 'd1_diasbp_min',\n",
       "       'd1_diasbp_noninvasive_max', 'd1_diasbp_noninvasive_min',\n",
       "       'd1_heartrate_max', 'd1_heartrate_min', 'd1_mbp_max', 'd1_mbp_min',\n",
       "       'd1_mbp_noninvasive_max', 'd1_mbp_noninvasive_min', 'd1_resprate_max',\n",
       "       'd1_resprate_min', 'd1_spo2_max', 'd1_spo2_min', 'd1_sysbp_max',\n",
       "       'd1_sysbp_min', 'd1_sysbp_noninvasive_max', 'd1_sysbp_noninvasive_min',\n",
       "       'd1_temp_max', 'd1_temp_min', 'h1_diasbp_max', 'h1_diasbp_min',\n",
       "       'h1_diasbp_noninvasive_max', 'h1_diasbp_noninvasive_min',\n",
       "       'h1_heartrate_max', 'h1_heartrate_min', 'h1_mbp_max', 'h1_mbp_min',\n",
       "       'h1_mbp_noninvasive_max', 'h1_mbp_noninvasive_min', 'h1_resprate_max',\n",
       "       'h1_resprate_min', 'h1_spo2_max', 'h1_spo2_min', 'h1_sysbp_max',\n",
       "       'h1_sysbp_min', 'h1_sysbp_noninvasive_max', 'h1_sysbp_noninvasive_min',\n",
       "       'd1_glucose_max', 'd1_glucose_min', 'd1_potassium_max',\n",
       "       'd1_potassium_min', 'apache_4a_hospital_death_prob',\n",
       "       'apache_4a_icu_death_prob', 'aids', 'cirrhosis', 'diabetes_mellitus',\n",
       "       'hepatic_failure', 'immunosuppression', 'leukemia', 'lymphoma',\n",
       "       'solid_tumor_with_metastasis', 'apache_3j_bodysystem',\n",
       "       'apache_2_bodysystem', 'Unnamed: 83', 'hospital_death'],\n",
       "      dtype='object')"
      ]
     },
     "execution_count": 92,
     "metadata": {},
     "output_type": "execute_result"
    }
   ],
   "source": [
    "df.columns"
   ]
  },
  {
   "cell_type": "code",
   "execution_count": 91,
   "metadata": {},
   "outputs": [],
   "source": [
    "colunas_hora = ['h1_pressão_arterial_diastolica_maxima',\n",
    "        'h1_ressao_arterial_iastolica_minima',\n",
    "        'h1_pressao_arterial_diastolica_nao_invasiva_maxima',\n",
    "        'h1_pressao_arterial_diastolica_nao_invasiva_minima',\n",
    "        'h1_frequencia_cardiaca_maxima', 'h1_requencia_cardiaca_minima',\n",
    "        'h1_pressao_arterial_media_maxima', 'h1_pressao_arterial_media_minima',\n",
    "        'h1_pressao_arterial_media_nao_invasiva_maxima',\n",
    "        'h1_pressao_arterial_media_nao_invasiva_minima',\n",
    "        'h1_frequencia_respiratoria_maxima',\n",
    "        'h1_frequencia_respiratoria_minima', 'h1_spO2_maximo', 'h1_spO2_minimo',\n",
    "        'h1_pressao_arterial_sistolica_maxima',\n",
    "        'h1_pressao_arterial_sistolica_minima',\n",
    "        'h1_pressao_arterial_sistolica_nao_invasiva_maxima',\n",
    "        'h1_pressão_arterial_sistolica_nao_invasiva_minima',\n",
    "        'd1_pressao_arterial_diastolica_maxima',\n",
    "        'd1_pressao_arterial_diastolica_minima',\n",
    "        'd1_pressao_arterial_diastolica_nao_invasiva_maxima',\n",
    "        'd1_pressao_arterial_diastólica_nao_invasiva_minima',\n",
    "        'd1_frequencia_cardiaca_maxima', 'd1_frequencia_cardiaca_minima',\n",
    "        'd1_pressao_arterial_media_maxima', 'd1_pressao_arterial_media_minima',\n",
    "        'd1_pressao_arterial_media_nao_invasiva_maxima',\n",
    "        'd1_pressao_arterial_media_nao_invasiva_minima',\n",
    "        'd1_frequencia_respiratoria_maxima',\n",
    "        'd1_frequencia_respiratoria_minima', 'd1_spO2_maximo', 'd1_spO2_minimo',\n",
    "        'd1_pressao_arterial_sistolica_maxima',\n",
    "        'd1_pressao_arterial_sistolica_minima',\n",
    "        'd1_pressao_arterial_sistolica_nao_invasiva_maxima',\n",
    "        'd1_pressao_arterial_sistolica_nao_invasiva_minima',\n",
    "        'd1_temperatura_maxima', 'd1_temperatura_minima','d1_glicose_maxima', \n",
    "        'd1_glicose_minima', 'd1_potassio_maximo',\n",
    "        'd1_potassio_minimo', 'morte_hospital']"
   ]
  },
  {
   "cell_type": "code",
   "execution_count": 95,
   "metadata": {},
   "outputs": [
    {
     "data": {
      "application/vnd.plotly.v1+json": {
       "config": {
        "plotlyServerURL": "https://plot.ly"
       },
       "data": [
        {
         "coloraxis": "coloraxis",
         "hovertemplate": "x: %{x}<br>y: %{y}<br>color: %{z}<extra></extra>",
         "name": "0",
         "type": "heatmap",
         "x": [
          "h1_pressão_arterial_diastolica_maxima",
          "h1_ressao_arterial_iastolica_minima",
          "h1_pressao_arterial_diastolica_nao_invasiva_maxima",
          "h1_pressao_arterial_diastolica_nao_invasiva_minima",
          "h1_frequencia_cardiaca_maxima",
          "h1_requencia_cardiaca_minima",
          "h1_pressao_arterial_media_maxima",
          "h1_pressao_arterial_media_minima",
          "h1_pressao_arterial_media_nao_invasiva_maxima",
          "h1_pressao_arterial_media_nao_invasiva_minima",
          "h1_frequencia_respiratoria_maxima",
          "h1_frequencia_respiratoria_minima",
          "h1_spO2_maximo",
          "h1_spO2_minimo",
          "h1_pressao_arterial_sistolica_maxima",
          "h1_pressao_arterial_sistolica_minima",
          "h1_pressao_arterial_sistolica_nao_invasiva_maxima",
          "h1_pressão_arterial_sistolica_nao_invasiva_minima",
          "d1_pressao_arterial_diastolica_maxima",
          "d1_pressao_arterial_diastolica_minima",
          "d1_pressao_arterial_diastolica_nao_invasiva_maxima",
          "d1_pressao_arterial_diastólica_nao_invasiva_minima",
          "d1_frequencia_cardiaca_maxima",
          "d1_frequencia_cardiaca_minima",
          "d1_pressao_arterial_media_maxima",
          "d1_pressao_arterial_media_minima",
          "d1_pressao_arterial_media_nao_invasiva_maxima",
          "d1_pressao_arterial_media_nao_invasiva_minima",
          "d1_frequencia_respiratoria_maxima",
          "d1_frequencia_respiratoria_minima",
          "d1_spO2_maximo",
          "d1_spO2_minimo",
          "d1_pressao_arterial_sistolica_maxima",
          "d1_pressao_arterial_sistolica_minima",
          "d1_pressao_arterial_sistolica_nao_invasiva_maxima",
          "d1_pressao_arterial_sistolica_nao_invasiva_minima",
          "d1_temperatura_maxima",
          "d1_temperatura_minima",
          "d1_glicose_maxima",
          "d1_glicose_minima",
          "d1_potassio_maximo",
          "d1_potassio_minimo",
          "morte_hospital"
         ],
         "xaxis": "x",
         "y": [
          "h1_pressão_arterial_diastolica_maxima",
          "h1_ressao_arterial_iastolica_minima",
          "h1_pressao_arterial_diastolica_nao_invasiva_maxima",
          "h1_pressao_arterial_diastolica_nao_invasiva_minima",
          "h1_frequencia_cardiaca_maxima",
          "h1_requencia_cardiaca_minima",
          "h1_pressao_arterial_media_maxima",
          "h1_pressao_arterial_media_minima",
          "h1_pressao_arterial_media_nao_invasiva_maxima",
          "h1_pressao_arterial_media_nao_invasiva_minima",
          "h1_frequencia_respiratoria_maxima",
          "h1_frequencia_respiratoria_minima",
          "h1_spO2_maximo",
          "h1_spO2_minimo",
          "h1_pressao_arterial_sistolica_maxima",
          "h1_pressao_arterial_sistolica_minima",
          "h1_pressao_arterial_sistolica_nao_invasiva_maxima",
          "h1_pressão_arterial_sistolica_nao_invasiva_minima",
          "d1_pressao_arterial_diastolica_maxima",
          "d1_pressao_arterial_diastolica_minima",
          "d1_pressao_arterial_diastolica_nao_invasiva_maxima",
          "d1_pressao_arterial_diastólica_nao_invasiva_minima",
          "d1_frequencia_cardiaca_maxima",
          "d1_frequencia_cardiaca_minima",
          "d1_pressao_arterial_media_maxima",
          "d1_pressao_arterial_media_minima",
          "d1_pressao_arterial_media_nao_invasiva_maxima",
          "d1_pressao_arterial_media_nao_invasiva_minima",
          "d1_frequencia_respiratoria_maxima",
          "d1_frequencia_respiratoria_minima",
          "d1_spO2_maximo",
          "d1_spO2_minimo",
          "d1_pressao_arterial_sistolica_maxima",
          "d1_pressao_arterial_sistolica_minima",
          "d1_pressao_arterial_sistolica_nao_invasiva_maxima",
          "d1_pressao_arterial_sistolica_nao_invasiva_minima",
          "d1_temperatura_maxima",
          "d1_temperatura_minima",
          "d1_glicose_maxima",
          "d1_glicose_minima",
          "d1_potassio_maximo",
          "d1_potassio_minimo",
          "morte_hospital"
         ],
         "yaxis": "y",
         "z": [
          [
           1,
           0.6309032139175935,
           0.9842916984522819,
           0.6228001160913046,
           0.16316739022979765,
           0.07862053044776648,
           0.845402146677361,
           0.5763295219825848,
           0.8554348714698337,
           0.5735464767366707,
           0.10580974530452822,
           -0.009242690548587205,
           0.027543086827295758,
           -0.0340787165616146,
           0.6402783196492636,
           0.4247484761166159,
           0.6503874835521279,
           0.42772091096023396,
           0.6088527864851454,
           0.35042182521585225,
           0.6073418087748743,
           0.34683885814913296,
           0.11303821968134434,
           0.004565160286956294,
           0.5621576089329611,
           0.30654403542052827,
           0.566687962691471,
           0.3040939053424884,
           0.03890748804616368,
           -0.023454927396563206,
           -0.00421149586108632,
           -0.002010646812151448,
           0.4540252702387111,
           0.23237178502445618,
           0.457646234534497,
           0.23203358230889623,
           -0.025423043907946433,
           0.0053822411397975055,
           -0.014297939842254742,
           0.029588927178691982,
           -0.08389009075902096,
           -0.05350200720699986,
           -0.03206351486608972
          ],
          [
           0.6309032139175935,
           1,
           0.6219071923144792,
           0.9817328821744429,
           0.030870051623199096,
           0.10954629885388542,
           0.6125216167388106,
           0.8713715764865915,
           0.6221653326313998,
           0.8725757411028237,
           -0.029504898317808795,
           0.0882912862866094,
           -0.03781888165220884,
           0.10097986887289048,
           0.4581840669917845,
           0.681922312362067,
           0.4702234254091324,
           0.6831159882163378,
           0.35759382910672116,
           0.6172526443919747,
           0.35492478513201037,
           0.6144694010991253,
           -0.015375501528820295,
           0.07477090130102422,
           0.38417676524679006,
           0.55711705769853,
           0.388383392062098,
           0.5568649770688188,
           -0.050191635811388656,
           0.08102652969139067,
           -0.0736884016270878,
           0.13158643461936625,
           0.31060869098277777,
           0.45869428673015533,
           0.3142354100797235,
           0.45891677987294566,
           -0.08811852569846272,
           0.0803572439343165,
           -0.043437285986864256,
           0.03286431981535535,
           -0.13497345004972972,
           -0.06347389342735353,
           -0.12492411974609738
          ],
          [
           0.9842916984522819,
           0.6219071923144792,
           1,
           0.6228162812045335,
           0.15745876415154855,
           0.07205893481690892,
           0.8530919719279948,
           0.5729947070299217,
           0.8583067120676113,
           0.5744263408788562,
           0.09628385420536384,
           -0.021301016836263884,
           0.032567558364301426,
           -0.032306095805308195,
           0.6484597473915152,
           0.4267986522915093,
           0.6513960560421426,
           0.4277483682799521,
           0.607832916023986,
           0.354839220395124,
           0.6084704914025637,
           0.3544462028137679,
           0.10815507459095465,
           0.00034906998823697747,
           0.566708722395664,
           0.3125793471063619,
           0.568147963952612,
           0.31214785603141787,
           0.03779782838138001,
           -0.033893341209313435,
           -0.001970667377491236,
           -0.0032748374490127055,
           0.4591157325677972,
           0.24191402067894704,
           0.45984447297311976,
           0.24190289580390023,
           -0.021132150726636295,
           -0.00015685766475986805,
           -0.013926722811723885,
           0.021929467359821278,
           -0.0775802739547375,
           -0.057923410649171024,
           -0.03543341420984322
          ],
          [
           0.6228001160913046,
           0.9817328821744429,
           0.6228162812045335,
           1,
           0.023469989943221446,
           0.10276574683200426,
           0.6205878654309345,
           0.8700058312468109,
           0.6235288122069507,
           0.8750808299750398,
           -0.04319685817591465,
           0.0732019403669977,
           -0.032159447210359904,
           0.10751199084402933,
           0.46934175667482547,
           0.6839186474141891,
           0.4704918670981682,
           0.6846653196536863,
           0.3451122761147501,
           0.6293781935058966,
           0.34538745174443874,
           0.6295207233597413,
           -0.02075135539716735,
           0.07171640293151361,
           0.38213709960416425,
           0.5706424353029163,
           0.3831153417300838,
           0.5719547210339797,
           -0.04972798760105677,
           0.0692755109723184,
           -0.07004297851359771,
           0.13397203976669816,
           0.30926519491168963,
           0.4758638292901339,
           0.3094926327271887,
           0.47634363315105877,
           -0.08178355560652127,
           0.07539322511017542,
           -0.042306528614965484,
           0.024134594940360795,
           -0.1288569726220525,
           -0.06991476473079183,
           -0.13198537607169594
          ],
          [
           0.16316739022979765,
           0.030870051623199096,
           0.15745876415154855,
           0.023469989943221446,
           1,
           0.8537920763813078,
           0.06357148028939466,
           -0.04717715584051874,
           0.06237814627255009,
           -0.05291956626690866,
           0.30924515910784256,
           0.22763630358809064,
           -0.04363984763065602,
           -0.12226242728401149,
           -0.018162130592298962,
           -0.13331336580484887,
           -0.01690070162995026,
           -0.1357238736732713,
           0.12107366096461054,
           -0.02919068265134965,
           0.1206140723407677,
           -0.030687766374262217,
           0.7862435357512656,
           0.5477256477598816,
           0.05201096183827879,
           -0.097430091158905,
           0.0524471309004665,
           -0.09897182560450943,
           0.18455743027998397,
           0.10186579361371337,
           0.01641758208254572,
           -0.10919487746452393,
           -0.0355440892619919,
           -0.1774004376193092,
           -0.03465667933461635,
           -0.17761440953700905,
           0.22321750047496092,
           0.05844147500717482,
           0.12141734155607675,
           0.06552661369334727,
           0.004106007260030926,
           -0.07866164390885143,
           0.11360307161964885
          ],
          [
           0.07862053044776648,
           0.10954629885388542,
           0.07205893481690892,
           0.10276574683200426,
           0.8537920763813078,
           1,
           -0.00511187620726642,
           0.02270731017164038,
           -0.004673402001110481,
           0.017788412885349592,
           0.2321284052773842,
           0.31538258175650635,
           -0.08827572684421385,
           -0.03496904232612028,
           -0.08995060476271118,
           -0.052474192295757116,
           -0.08740911359591448,
           -0.05479813480412445,
           0.05860947199796803,
           0.03311445538881019,
           0.05840416444313739,
           0.031940427905402746,
           0.6770339570879019,
           0.6739576721267508,
           -0.007352328287753616,
           -0.03480852772948667,
           -0.006320870127799926,
           -0.035808065431371966,
           0.12942463786288777,
           0.18083614862130493,
           -0.018372700646335983,
           -0.04543354515281847,
           -0.0922427010627864,
           -0.10539959746294207,
           -0.09129628043534374,
           -0.1052749594677413,
           0.20234975442579953,
           0.09621525419207236,
           0.1319528151139708,
           0.06649884037663648,
           -0.0031842632675955734,
           -0.06969469883217941,
           0.0871376835510978
          ],
          [
           0.845402146677361,
           0.6125216167388106,
           0.8530919719279948,
           0.6205878654309345,
           0.06357148028939466,
           -0.00511187620726642,
           1,
           0.6968185559179375,
           0.9865840582909129,
           0.7044070223206095,
           0.11373175829267426,
           -0.009484987488391146,
           0.027513550597881686,
           -0.010057983331187573,
           0.7852017118271818,
           0.5917927949541814,
           0.7887930261034328,
           0.600271242768367,
           0.5030832163604932,
           0.3838723894319671,
           0.5043268092212928,
           0.3839525623541115,
           0.021072882902262707,
           -0.0455581143975782,
           0.6401537358691284,
           0.42311643039057667,
           0.6401209160630056,
           0.4245614207658144,
           0.08007693617535419,
           -0.01964436484183656,
           -0.025257111700071628,
           0.026142288659994975,
           0.5584442022617122,
           0.3702240229369143,
           0.5606544821171027,
           0.37117090143241505,
           -0.042328296982902656,
           0.013801845315804338,
           0.002002109343112975,
           0.03825934876919072,
           -0.08320846175496097,
           -0.04995583054175009,
           -0.06168512488686621
          ],
          [
           0.5763295219825848,
           0.8713715764865915,
           0.5729947070299217,
           0.8700058312468109,
           -0.04717715584051874,
           0.02270731017164038,
           0.6968185559179375,
           1,
           0.704504495679518,
           0.9966727876846198,
           -0.003837436787610328,
           0.08252356781962701,
           -0.03095814608161253,
           0.10277229492427441,
           0.6063459065476936,
           0.8165987441466271,
           0.6153096052846387,
           0.8160237354929908,
           0.3178213774464021,
           0.5778246258636067,
           0.31622896212847196,
           0.5762030520504402,
           -0.0890847453383,
           0.013332735663675335,
           0.44893688978082746,
           0.6364338162485306,
           0.45367818659024,
           0.6347757503408727,
           -0.010459693043483959,
           0.08385834130006084,
           -0.08405039438389768,
           0.1380958411052909,
           0.4278921020358566,
           0.5630544498301164,
           0.4308235127630274,
           0.5628121357826461,
           -0.10252481922031288,
           0.08494671309436151,
           -0.028686614613720074,
           0.04692876445601481,
           -0.13468533310978276,
           -0.05171137902918678,
           -0.1416186619358534
          ],
          [
           0.8554348714698337,
           0.6221653326313998,
           0.8583067120676113,
           0.6235288122069507,
           0.06237814627255009,
           -0.004673402001110481,
           0.9865840582909129,
           0.704504495679518,
           1,
           0.7061749987162034,
           0.11563077450474527,
           -0.009258622218617398,
           0.026085447715538966,
           -0.010622715678111525,
           0.7896035221508259,
           0.6013013260176231,
           0.793104925597048,
           0.6024910429804462,
           0.5175615412744646,
           0.39480210940604005,
           0.5179293468606411,
           0.3945333534349666,
           0.01780559217510704,
           -0.04608258908296135,
           0.6571528595459107,
           0.43723786278810817,
           0.6570580340620683,
           0.43709450154534557,
           0.08274554574337108,
           -0.019394527161969145,
           -0.028170211026843892,
           0.02605047725323111,
           0.5750799759742788,
           0.3842744198084621,
           0.5760784168053906,
           0.38420398738130934,
           -0.04565270833144712,
           0.0154094922251564,
           0.003509941302252395,
           0.03700915619212864,
           -0.0837738745859296,
           -0.052197796664254136,
           -0.06379270537274014
          ],
          [
           0.5735464767366707,
           0.8725757411028237,
           0.5744263408788562,
           0.8750808299750398,
           -0.05291956626690866,
           0.017788412885349592,
           0.7044070223206095,
           0.9966727876846198,
           0.7061749987162034,
           1,
           -0.012513615687064427,
           0.07283536712818454,
           -0.027598960610901786,
           0.10730147714212214,
           0.6146549744229822,
           0.8186132428047059,
           0.6164309044469426,
           0.8208761833931312,
           0.31082858458013757,
           0.5924631016462608,
           0.310889982924064,
           0.5926931269641471,
           -0.09580129210326081,
           0.011712568381707904,
           0.45522709468630684,
           0.6523105377969778,
           0.45548290069347136,
           0.653120784078353,
           -0.007761837878136375,
           0.07663016084767382,
           -0.08301439871686238,
           0.14026725083701452,
           0.4316848943633965,
           0.5826009922822449,
           0.4321366054341196,
           0.5831819865131399,
           -0.09749985706729374,
           0.08313299018384718,
           -0.027449444542848728,
           0.038015576458705604,
           -0.12789677630556406,
           -0.05672324111812983,
           -0.14822293273935866
          ],
          [
           0.10580974530452822,
           -0.029504898317808795,
           0.09628385420536384,
           -0.04319685817591465,
           0.30924515910784256,
           0.2321284052773842,
           0.11373175829267426,
           -0.003837436787610328,
           0.11563077450474527,
           -0.012513615687064427,
           1,
           0.5544102773761707,
           -0.07142452399693923,
           -0.1739485025824332,
           0.07203113306467585,
           -0.04795710843016504,
           0.07464173506172861,
           -0.05394949125019583,
           0.09009362572227414,
           -0.05375375878895655,
           0.08753064925584862,
           -0.056379662545439566,
           0.25097843366429773,
           0.11901924318705374,
           0.12336103529728272,
           -0.038031395088960404,
           0.12608193605093887,
           -0.041426932480498405,
           0.5710327690252098,
           0.24215663642516547,
           -0.03164925969228434,
           -0.13812780500946567,
           0.0767676054433383,
           -0.0913436911946245,
           0.07859853389192951,
           -0.09349036736346715,
           0.09013013643068737,
           0.007865270867887105,
           0.05922251982249272,
           0.05787799462229881,
           0.0028570104725494246,
           -0.005669583766526903,
           0.12193310555874096
          ],
          [
           -0.009242690548587205,
           0.0882912862866094,
           -0.021301016836263884,
           0.0732019403669977,
           0.22763630358809064,
           0.31538258175650635,
           -0.009484987488391146,
           0.08252356781962701,
           -0.009258622218617398,
           0.07283536712818454,
           0.5544102773761707,
           1,
           -0.16057187691452882,
           -0.03595537306870021,
           -0.02757851657333278,
           0.07095434179495805,
           -0.024688502117659474,
           0.06445218322243189,
           0.00904376355190062,
           0.021988392629420827,
           0.0062554124840664554,
           0.018681420766106394,
           0.17878163660633029,
           0.205633481427348,
           0.01575706679984271,
           0.02824629707934854,
           0.017511152423183608,
           0.025100684947115228,
           0.2720580269646601,
           0.5304683916222186,
           -0.09031121763457099,
           -0.03360107817214031,
           -0.005524685876971898,
           0.006504699583463737,
           -0.003373942885523234,
           0.004472643691494103,
           0.05474097347112256,
           0.05340486989713099,
           0.06822357920714309,
           0.06158373638296577,
           -0.017476647528307875,
           -0.01129833362603752,
           0.11072539874557828
          ],
          [
           0.027543086827295758,
           -0.03781888165220884,
           0.032567558364301426,
           -0.032159447210359904,
           -0.04363984763065602,
           -0.08827572684421385,
           0.027513550597881686,
           -0.03095814608161253,
           0.026085447715538966,
           -0.027598960610901786,
           -0.07142452399693923,
           -0.16057187691452882,
           1,
           0.4758610283924178,
           0.03684943897315253,
           -0.029844696545055435,
           0.03350375274350863,
           -0.02787973135103309,
           -0.00610054223576711,
           -0.01856025985170625,
           -0.005767508710975151,
           -0.01808903417945241,
           -0.0262174316907558,
           -0.037722665634408264,
           -0.0037334404762755804,
           -0.021022921447147395,
           -0.00564684644144949,
           -0.02028955791065255,
           -0.024648328675384974,
           -0.11427393165138602,
           0.46207955144425905,
           0.24408425420314722,
           0.012826373441662388,
           -0.013394249754646748,
           0.011164697956264484,
           -0.013444563696416258,
           0.037990855590292895,
           -0.02801715045140112,
           -0.008594416732648755,
           -0.06535979856346166,
           -0.003181982329612149,
           -0.04418014458808035,
           -0.047452816395418096
          ],
          [
           -0.0340787165616146,
           0.10097986887289048,
           -0.032306095805308195,
           0.10751199084402933,
           -0.12226242728401149,
           -0.03496904232612028,
           -0.010057983331187573,
           0.10277229492427441,
           -0.010622715678111525,
           0.10730147714212214,
           -0.1739485025824332,
           -0.03595537306870021,
           0.4758610283924178,
           1,
           0.0027955411072705843,
           0.11869139386149108,
           0.0000890396085218168,
           0.1217564142752135,
           -0.054593143863769976,
           0.10089049463151058,
           -0.05483338811979411,
           0.10174161047147619,
           -0.10745258571046999,
           0.015632006555279843,
           -0.04260146261687811,
           0.10313832141092401,
           -0.044471330127550564,
           0.10405749795829379,
           -0.11010682923453446,
           -0.0011834643759314214,
           0.20716984083831952,
           0.5368651717423958,
           -0.017567240882053185,
           0.1220867459608374,
           -0.018851311413244233,
           0.12234896549021006,
           -0.006204199731674723,
           0.04681776033604322,
           -0.025319249521938276,
           -0.03746449971834852,
           -0.05843295559479233,
           -0.043814024269678044,
           -0.10855050053307265
          ],
          [
           0.6402783196492636,
           0.4581840669917845,
           0.6484597473915152,
           0.46934175667482547,
           -0.018162130592298962,
           -0.08995060476271118,
           0.7852017118271818,
           0.6063459065476936,
           0.7896035221508259,
           0.6146549744229822,
           0.07203113306467585,
           -0.02757851657333278,
           0.03684943897315253,
           0.0027955411072705843,
           1,
           0.7329618800796713,
           0.9963772107865765,
           0.7378986232053429,
           0.4194513257362737,
           0.2663288061880122,
           0.4214348227159369,
           0.26779274109443824,
           -0.05088649840898462,
           -0.11202624123094303,
           0.542231368615699,
           0.35816414231171045,
           0.5448539242772409,
           0.3589963975938382,
           0.02726492127488673,
           -0.0242717759970422,
           -0.007531189343809313,
           0.034063247153518536,
           0.7156245978677458,
           0.4568746360526958,
           0.7160173800414837,
           0.4571058178497063,
           -0.01725413046645739,
           0.03163447909450615,
           0.032187514210654564,
           0.062165425984473,
           -0.07408568074320585,
           -0.03577793248084332,
           -0.06879651947000436
          ],
          [
           0.4247484761166159,
           0.681922312362067,
           0.4267986522915093,
           0.6839186474141891,
           -0.13331336580484887,
           -0.052474192295757116,
           0.5917927949541814,
           0.8165987441466271,
           0.6013013260176231,
           0.8186132428047059,
           -0.04795710843016504,
           0.07095434179495805,
           -0.029844696545055435,
           0.11869139386149108,
           0.7329618800796713,
           1,
           0.7381683804952399,
           0.9880176201364116,
           0.26541065992680635,
           0.4289148173679651,
           0.2652478862165917,
           0.4286923534226109,
           -0.16116005822360238,
           -0.04634474348127995,
           0.39228140766588804,
           0.5252149166212624,
           0.3953622328074789,
           0.5261009267873277,
           -0.06694809925320684,
           0.08052466620209796,
           -0.07176057296913138,
           0.14642658444084314,
           0.5332823135319216,
           0.6476967657176825,
           0.5350617319977814,
           0.6469254352365236,
           -0.08079232513201019,
           0.10972513914330957,
           -0.00031466362613426956,
           0.06343652699031792,
           -0.11977439284115454,
           -0.032726104267095144,
           -0.14643972919867546
          ],
          [
           0.6503874835521279,
           0.4702234254091324,
           0.6513960560421426,
           0.4704918670981682,
           -0.01690070162995026,
           -0.08740911359591448,
           0.7887930261034328,
           0.6153096052846387,
           0.793104925597048,
           0.6164309044469426,
           0.07464173506172861,
           -0.024688502117659474,
           0.03350375274350863,
           0.0000890396085218168,
           0.9963772107865765,
           0.7381683804952399,
           1,
           0.739844733230176,
           0.4390104115778505,
           0.27296306744843113,
           0.4394256359062034,
           0.2727935258612949,
           -0.05178931255689335,
           -0.11210893197033166,
           0.5611216855815103,
           0.3649126337315182,
           0.5624309671270843,
           0.3646622898991515,
           0.027403699271694434,
           -0.021206350179724522,
           -0.011385484732820538,
           0.03350853747727335,
           0.7357411464774611,
           0.4643360725560939,
           0.7366624181807515,
           0.46449825988647336,
           -0.019363155340800735,
           0.03555151119037167,
           0.03302182224228295,
           0.06299882993343082,
           -0.07506903018991327,
           -0.03634147324635239,
           -0.06809328914572399
          ],
          [
           0.42772091096023396,
           0.6831159882163378,
           0.4277483682799521,
           0.6846653196536863,
           -0.1357238736732713,
           -0.05479813480412445,
           0.600271242768367,
           0.8160237354929908,
           0.6024910429804462,
           0.8208761833931312,
           -0.05394949125019583,
           0.06445218322243189,
           -0.02787973135103309,
           0.1217564142752135,
           0.7378986232053429,
           0.9880176201364116,
           0.739844733230176,
           1,
           0.26782258649755686,
           0.4373598382043176,
           0.26782332625377087,
           0.4375339652588996,
           -0.16486669523086797,
           -0.047383891692291,
           0.3996179170484844,
           0.5342189983579015,
           0.40020004615968974,
           0.5357772775772259,
           -0.06632370366587038,
           0.07559985127576647,
           -0.07081657665442113,
           0.1473757249481689,
           0.5419285673736637,
           0.6598931869163898,
           0.5423970494461197,
           0.6605092968933691,
           -0.07559175392326564,
           0.10971760920435325,
           0.0017443702662164576,
           0.05620430376388257,
           -0.11459043180311093,
           -0.03670624481621945,
           -0.14915870966385048
          ],
          [
           0.6088527864851454,
           0.35759382910672116,
           0.607832916023986,
           0.3451122761147501,
           0.12107366096461054,
           0.05860947199796803,
           0.5030832163604932,
           0.3178213774464021,
           0.5175615412744646,
           0.31082858458013757,
           0.09009362572227414,
           0.00904376355190062,
           -0.00610054223576711,
           -0.054593143863769976,
           0.4194513257362737,
           0.26541065992680635,
           0.4390104115778505,
           0.26782258649755686,
           1,
           0.13172755658279048,
           0.997831233959615,
           0.12623708706729625,
           0.18044700610415007,
           -0.03428899726788435,
           0.8230611193862741,
           0.10942990706151266,
           0.8332513592173377,
           0.10365618862372236,
           0.10178799935684622,
           -0.06992033555653314,
           0.059491653327796205,
           -0.0925547815768362,
           0.6058121815403338,
           0.08100105067796735,
           0.6100755668296757,
           0.07998429533612167,
           0.006435124603332866,
           -0.016072719813099393,
           0.0030454765023252214,
           0.02218246006047845,
           -0.04098747028679655,
           -0.024831489447084017,
           0.0019078061233556828
          ],
          [
           0.35042182521585225,
           0.6172526443919747,
           0.354839220395124,
           0.6293781935058966,
           -0.02919068265134965,
           0.03311445538881019,
           0.3838723894319671,
           0.5778246258636067,
           0.39480210940604005,
           0.5924631016462608,
           -0.05375375878895655,
           0.021988392629420827,
           -0.01856025985170625,
           0.10089049463151058,
           0.2663288061880122,
           0.4289148173679651,
           0.27296306744843113,
           0.4373598382043176,
           0.13172755658279048,
           1,
           0.12852471981087113,
           0.9968714632429122,
           -0.10798557674370753,
           0.13683225434994048,
           0.21236110704510242,
           0.8532835036701957,
           0.21471923756099454,
           0.8556148599057082,
           -0.09029249853692548,
           0.13547971307910833,
           -0.12944189724073055,
           0.20438190030234493,
           0.14187128402309918,
           0.667549676550023,
           0.14504108741495997,
           0.6667618419779289,
           -0.10101669843842524,
           0.11455788938564777,
           -0.058187550138102416,
           0.034253427137128964,
           -0.14632780076472923,
           -0.06713670004928354,
           -0.1795590489233829
          ],
          [
           0.6073418087748743,
           0.35492478513201037,
           0.6084704914025637,
           0.34538745174443874,
           0.1206140723407677,
           0.05840416444313739,
           0.5043268092212928,
           0.31622896212847196,
           0.5179293468606411,
           0.310889982924064,
           0.08753064925584862,
           0.0062554124840664554,
           -0.005767508710975151,
           -0.05483338811979411,
           0.4214348227159369,
           0.2652478862165917,
           0.4394256359062034,
           0.26782332625377087,
           0.997831233959615,
           0.12852471981087113,
           1,
           0.12634465607885617,
           0.17993446288438666,
           -0.03414177341863193,
           0.8261028422080462,
           0.10744389028012166,
           0.8355252702331383,
           0.10401293777617818,
           0.10071045631019496,
           -0.07269908562302237,
           0.059213123333119975,
           -0.09333801728436099,
           0.6082934650016822,
           0.08095539624501408,
           0.6115181138304445,
           0.07986942419870764,
           0.007207529538855279,
           -0.017545915319983802,
           0.004101108893052333,
           0.020852897156588633,
           -0.03878713494296758,
           -0.025064896639130998,
           0.0025849965350958066
          ],
          [
           0.34683885814913296,
           0.6144694010991253,
           0.3544462028137679,
           0.6295207233597413,
           -0.030687766374262217,
           0.031940427905402746,
           0.3839525623541115,
           0.5762030520504402,
           0.3945333534349666,
           0.5926931269641471,
           -0.056379662545439566,
           0.018681420766106394,
           -0.01808903417945241,
           0.10174161047147619,
           0.26779274109443824,
           0.4286923534226109,
           0.2727935258612949,
           0.4375339652588996,
           0.12623708706729625,
           0.9968714632429122,
           0.12634465607885617,
           1,
           -0.10932697334941102,
           0.13593047439542982,
           0.21314902989763151,
           0.8524544296172973,
           0.21305078864356364,
           0.8585686836498991,
           -0.09027550320481902,
           0.13287850745610805,
           -0.12971859699477856,
           0.2049243954760681,
           0.1441929858365744,
           0.6673792742532485,
           0.1433926645604096,
           0.66946033639275,
           -0.10026165242793025,
           0.11300867771154624,
           -0.05686295342416552,
           0.03294250137444266,
           -0.14388206513422297,
           -0.06827570113477117,
           -0.17978578183717894
          ],
          [
           0.11303821968134434,
           -0.015375501528820295,
           0.10815507459095465,
           -0.02075135539716735,
           0.7862435357512656,
           0.6770339570879019,
           0.021072882902262707,
           -0.0890847453383,
           0.01780559217510704,
           -0.09580129210326081,
           0.25097843366429773,
           0.17878163660633029,
           -0.0262174316907558,
           -0.10745258571046999,
           -0.05088649840898462,
           -0.16116005822360238,
           -0.05178931255689335,
           -0.16486669523086797,
           0.18044700610415007,
           -0.10798557674370753,
           0.17993446288438666,
           -0.10932697334941102,
           1,
           0.4650560629570803,
           0.10839369866506755,
           -0.17618330810667385,
           0.10857576602308766,
           -0.1777082276266524,
           0.24934095951818588,
           0.028851854893490132,
           0.07464600595793339,
           -0.17249761817927156,
           0.023392793681920435,
           -0.2507449061617244,
           0.02347629063400563,
           -0.25056759000475953,
           0.27318253739644704,
           0.002656566423440169,
           0.1105664329441418,
           0.053703663025686084,
           0.037719652909649286,
           -0.07142036778948177,
           0.1629338951668652
          ],
          [
           0.004565160286956294,
           0.07477090130102422,
           0.00034906998823697747,
           0.07171640293151361,
           0.5477256477598816,
           0.6739576721267508,
           -0.0455581143975782,
           0.013332735663675335,
           -0.04608258908296135,
           0.011712568381707904,
           0.11901924318705374,
           0.205633481427348,
           -0.037722665634408264,
           0.015632006555279843,
           -0.11202624123094303,
           -0.04634474348127995,
           -0.11210893197033166,
           -0.047383891692291,
           -0.03428899726788435,
           0.13683225434994048,
           -0.03414177341863193,
           0.13593047439542982,
           0.4650560629570803,
           1,
           -0.07207120893554955,
           0.08478442685225018,
           -0.07185513522717046,
           0.08405981833434506,
           0.039423200298186994,
           0.25954781444545083,
           -0.051820262459078247,
           0.08580040260221043,
           -0.1372313153064484,
           0.031433322486195826,
           -0.13710819663883472,
           0.030690815956612,
           0.18121156716493295,
           0.16016138777976546,
           0.09690062125126724,
           0.05685951000414025,
           -0.012174092524634956,
           -0.04620015728879496,
           -0.003587059623198386
          ],
          [
           0.5621576089329611,
           0.38417676524679006,
           0.566708722395664,
           0.38213709960416425,
           0.05201096183827879,
           -0.007352328287753616,
           0.6401537358691284,
           0.44893688978082746,
           0.6571528595459107,
           0.45522709468630684,
           0.12336103529728272,
           0.01575706679984271,
           -0.0037334404762755804,
           -0.04260146261687811,
           0.542231368615699,
           0.39228140766588804,
           0.5611216855815103,
           0.3996179170484844,
           0.8230611193862741,
           0.21236110704510242,
           0.8261028422080462,
           0.21314902989763151,
           0.10839369866506755,
           -0.07207120893554955,
           1,
           0.24735149174183255,
           0.9847034318987542,
           0.25070491478273205,
           0.16738420978349955,
           -0.06398640169825981,
           0.032243579120022785,
           -0.06474029606905395,
           0.7428390577817489,
           0.22231762215028414,
           0.7441727581149042,
           0.22400329899572474,
           -0.006388280034546471,
           -0.013962629715867494,
           0.021628376809407737,
           0.03672088802960271,
           -0.045610085364591914,
           -0.026068492255024292,
           -0.016751756630289615
          ],
          [
           0.30654403542052827,
           0.55711705769853,
           0.3125793471063619,
           0.5706424353029163,
           -0.097430091158905,
           -0.03480852772948667,
           0.42311643039057667,
           0.6364338162485306,
           0.43723786278810817,
           0.6523105377969778,
           -0.038031395088960404,
           0.02824629707934854,
           -0.021022921447147395,
           0.10313832141092401,
           0.35816414231171045,
           0.5252149166212624,
           0.3649126337315182,
           0.5342189983579015,
           0.10942990706151266,
           0.8532835036701957,
           0.10744389028012166,
           0.8524544296172973,
           -0.17618330810667385,
           0.08478442685225018,
           0.24735149174183255,
           1,
           0.25280949370336264,
           0.9955315558447511,
           -0.06513736563639132,
           0.14984836808005286,
           -0.14088758855500433,
           0.21266588438838452,
           0.2447537448668953,
           0.7937455384039824,
           0.24625536699799205,
           0.7929766668600468,
           -0.121309158538496,
           0.12498300346275765,
           -0.04675280176859017,
           0.0545104257543992,
           -0.1462593789989063,
           -0.047783699806837915,
           -0.19526213296654849
          ],
          [
           0.566687962691471,
           0.388383392062098,
           0.568147963952612,
           0.3831153417300838,
           0.0524471309004665,
           -0.006320870127799926,
           0.6401209160630056,
           0.45367818659024,
           0.6570580340620683,
           0.45548290069347136,
           0.12608193605093887,
           0.017511152423183608,
           -0.00564684644144949,
           -0.044471330127550564,
           0.5448539242772409,
           0.3953622328074789,
           0.5624309671270843,
           0.40020004615968974,
           0.8332513592173377,
           0.21471923756099454,
           0.8355252702331383,
           0.21305078864356364,
           0.10857576602308766,
           -0.07185513522717046,
           0.9847034318987542,
           0.25280949370336264,
           1,
           0.2512491452835627,
           0.16857397325374313,
           -0.062348744129119935,
           0.02961291643352904,
           -0.06525179057153019,
           0.747968739337398,
           0.2260293746372721,
           0.7515048921341326,
           0.2249660246905826,
           -0.008596461279701467,
           -0.014861339657577721,
           0.022340506733739454,
           0.037294544246364365,
           -0.04662316870593594,
           -0.024832444463351814,
           -0.016199017384161463
          ],
          [
           0.3040939053424884,
           0.5568649770688188,
           0.31214785603141787,
           0.5719547210339797,
           -0.09897182560450943,
           -0.035808065431371966,
           0.4245614207658144,
           0.6347757503408727,
           0.43709450154534557,
           0.653120784078353,
           -0.041426932480498405,
           0.025100684947115228,
           -0.02028955791065255,
           0.10405749795829379,
           0.3589963975938382,
           0.5261009267873277,
           0.3646622898991515,
           0.5357772775772259,
           0.10365618862372236,
           0.8556148599057082,
           0.10401293777617818,
           0.8585686836498991,
           -0.1777082276266524,
           0.08405981833434506,
           0.25070491478273205,
           0.9955315558447511,
           0.2512491452835627,
           1,
           -0.06516757750255425,
           0.14649365426013325,
           -0.14139959802835664,
           0.213194922306867,
           0.24495327077904827,
           0.7992573996425438,
           0.24437638172209375,
           0.8022398741573301,
           -0.12086244832795362,
           0.12344145375210352,
           -0.04487800230400248,
           0.05344270980766177,
           -0.14353594551864093,
           -0.04932997907740772,
           -0.19547512701270356
          ],
          [
           0.03890748804616368,
           -0.050191635811388656,
           0.03779782838138001,
           -0.04972798760105677,
           0.18455743027998397,
           0.12942463786288777,
           0.08007693617535419,
           -0.010459693043483959,
           0.08274554574337108,
           -0.007761837878136375,
           0.5710327690252098,
           0.2720580269646601,
           -0.024648328675384974,
           -0.11010682923453446,
           0.02726492127488673,
           -0.06694809925320684,
           0.027403699271694434,
           -0.06632370366587038,
           0.10178799935684622,
           -0.09029249853692548,
           0.10071045631019496,
           -0.09027550320481902,
           0.24934095951818588,
           0.039423200298186994,
           0.16738420978349955,
           -0.06513736563639132,
           0.16857397325374313,
           -0.06516757750255425,
           1,
           0.01494136214930729,
           0.0453356502599052,
           -0.17596915096761628,
           0.10602354127879277,
           -0.1362681012270539,
           0.1061867545289278,
           -0.13582047759123558,
           0.1216574453714291,
           -0.03706213938770556,
           0.03472266439005701,
           0.018706796210332135,
           0.03118543708526142,
           -0.0025277454594318746,
           0.10309283730486825
          ],
          [
           -0.023454927396563206,
           0.08102652969139067,
           -0.033893341209313435,
           0.0692755109723184,
           0.10186579361371337,
           0.18083614862130493,
           -0.01964436484183656,
           0.08385834130006084,
           -0.019394527161969145,
           0.07663016084767382,
           0.24215663642516547,
           0.5304683916222186,
           -0.11427393165138602,
           -0.0011834643759314214,
           -0.0242717759970422,
           0.08052466620209796,
           -0.021206350179724522,
           0.07559985127576647,
           -0.06992033555653314,
           0.13547971307910833,
           -0.07269908562302237,
           0.13287850745610805,
           0.028851854893490132,
           0.25954781444545083,
           -0.06398640169825981,
           0.14984836808005286,
           -0.062348744129119935,
           0.14649365426013325,
           0.01494136214930729,
           1,
           -0.17386689128156158,
           0.08920459244059396,
           -0.06304493569501894,
           0.1510591737954675,
           -0.061376561671908324,
           0.14852961395240258,
           -0.0015494337555989287,
           0.10942884837378078,
           0.008490373911329467,
           0.054075381625658114,
           -0.06161572148874813,
           -0.013117092881550439,
           0.025667463913075277
          ],
          [
           -0.00421149586108632,
           -0.0736884016270878,
           -0.001970667377491236,
           -0.07004297851359771,
           0.01641758208254572,
           -0.018372700646335983,
           -0.025257111700071628,
           -0.08405039438389768,
           -0.028170211026843892,
           -0.08301439871686238,
           -0.03164925969228434,
           -0.09031121763457099,
           0.46207955144425905,
           0.20716984083831952,
           -0.007531189343809313,
           -0.07176057296913138,
           -0.011385484732820538,
           -0.07081657665442113,
           0.059491653327796205,
           -0.12944189724073055,
           0.059213123333119975,
           -0.12971859699477856,
           0.07464600595793339,
           -0.051820262459078247,
           0.032243579120022785,
           -0.14088758855500433,
           0.02961291643352904,
           -0.14139959802835664,
           0.0453356502599052,
           -0.17386689128156158,
           1,
           0.09532993776849835,
           0.04449272114163572,
           -0.12927436601637463,
           0.04157213056485577,
           -0.1297613051701607,
           0.09201600515373257,
           -0.06948541182815063,
           0.0072583832460864596,
           -0.08966741505768039,
           0.04051934008498332,
           -0.03974803636692931,
           -0.008482355185516955
          ],
          [
           -0.002010646812151448,
           0.13158643461936625,
           -0.0032748374490127055,
           0.13397203976669816,
           -0.10919487746452393,
           -0.04543354515281847,
           0.026142288659994975,
           0.1380958411052909,
           0.02605047725323111,
           0.14026725083701452,
           -0.13812780500946567,
           -0.03360107817214031,
           0.24408425420314722,
           0.5368651717423958,
           0.034063247153518536,
           0.14642658444084314,
           0.03350853747727335,
           0.1473757249481689,
           -0.0925547815768362,
           0.20438190030234493,
           -0.09333801728436099,
           0.2049243954760681,
           -0.17249761817927156,
           0.08580040260221043,
           -0.06474029606905395,
           0.21266588438838452,
           -0.06525179057153019,
           0.213194922306867,
           -0.17596915096761628,
           0.08920459244059396,
           0.09532993776849835,
           1,
           -0.03717496646273575,
           0.22647955606072948,
           -0.037866059367763535,
           0.22543652345654086,
           -0.04095705767894295,
           0.10995458254666288,
           -0.03529077798371997,
           -0.011863446491454165,
           -0.10551130387606407,
           -0.047428613896882015,
           -0.21010026274731317
          ],
          [
           0.4540252702387111,
           0.31060869098277777,
           0.4591157325677972,
           0.30926519491168963,
           -0.0355440892619919,
           -0.0922427010627864,
           0.5584442022617122,
           0.4278921020358566,
           0.5750799759742788,
           0.4316848943633965,
           0.0767676054433383,
           -0.005524685876971898,
           0.012826373441662388,
           -0.017567240882053185,
           0.7156245978677458,
           0.5332823135319216,
           0.7357411464774611,
           0.5419285673736637,
           0.6058121815403338,
           0.14187128402309918,
           0.6082934650016822,
           0.1441929858365744,
           0.023392793681920435,
           -0.1372313153064484,
           0.7428390577817489,
           0.2447537448668953,
           0.747968739337398,
           0.24495327077904827,
           0.10602354127879277,
           -0.06304493569501894,
           0.04449272114163572,
           -0.03717496646273575,
           1,
           0.3398176779377243,
           0.9965596798166847,
           0.3409833683799918,
           0.01709695111726984,
           -0.002653328376049001,
           0.06005506240715523,
           0.06734477822210126,
           -0.03572049079886955,
           -0.016596874462509015,
           -0.027356528627475705
          ],
          [
           0.23237178502445618,
           0.45869428673015533,
           0.24191402067894704,
           0.4758638292901339,
           -0.1774004376193092,
           -0.10539959746294207,
           0.3702240229369143,
           0.5630544498301164,
           0.3842744198084621,
           0.5826009922822449,
           -0.0913436911946245,
           0.006504699583463737,
           -0.013394249754646748,
           0.1220867459608374,
           0.4568746360526958,
           0.6476967657176825,
           0.4643360725560939,
           0.6598931869163898,
           0.08100105067796735,
           0.667549676550023,
           0.08095539624501408,
           0.6673792742532485,
           -0.2507449061617244,
           0.031433322486195826,
           0.22231762215028414,
           0.7937455384039824,
           0.2260293746372721,
           0.7992573996425438,
           -0.1362681012270539,
           0.1510591737954675,
           -0.12927436601637463,
           0.22647955606072948,
           0.3398176779377243,
           1,
           0.3412028108182585,
           0.9963220900474424,
           -0.10964857971454514,
           0.15248597258461738,
           -0.02650935453630351,
           0.06733107021324485,
           -0.13893340671590826,
           -0.0329041769647556,
           -0.2101699139870763
          ],
          [
           0.457646234534497,
           0.3142354100797235,
           0.45984447297311976,
           0.3094926327271887,
           -0.03465667933461635,
           -0.09129628043534374,
           0.5606544821171027,
           0.4308235127630274,
           0.5760784168053906,
           0.4321366054341196,
           0.07859853389192951,
           -0.003373942885523234,
           0.011164697956264484,
           -0.018851311413244233,
           0.7160173800414837,
           0.5350617319977814,
           0.7366624181807515,
           0.5423970494461197,
           0.6100755668296757,
           0.14504108741495997,
           0.6115181138304445,
           0.1433926645604096,
           0.02347629063400563,
           -0.13710819663883472,
           0.7441727581149042,
           0.24625536699799205,
           0.7515048921341326,
           0.24437638172209375,
           0.1061867545289278,
           -0.061376561671908324,
           0.04157213056485577,
           -0.037866059367763535,
           0.9965596798166847,
           0.3412028108182585,
           1,
           0.3405767324712267,
           0.01512474707535454,
           -0.0006935731376521996,
           0.0602348994663964,
           0.06904978661830458,
           -0.038140344771093,
           -0.0157320670345183,
           -0.026716285104664565
          ],
          [
           0.23203358230889623,
           0.45891677987294566,
           0.24190289580390023,
           0.47634363315105877,
           -0.17761440953700905,
           -0.1052749594677413,
           0.37117090143241505,
           0.5628121357826461,
           0.38420398738130934,
           0.5831819865131399,
           -0.09349036736346715,
           0.004472643691494103,
           -0.013444563696416258,
           0.12234896549021006,
           0.4571058178497063,
           0.6469254352365236,
           0.46449825988647336,
           0.6605092968933691,
           0.07998429533612167,
           0.6667618419779289,
           0.07986942419870764,
           0.66946033639275,
           -0.25056759000475953,
           0.030690815956612,
           0.22400329899572474,
           0.7929766668600468,
           0.2249660246905826,
           0.8022398741573301,
           -0.13582047759123558,
           0.14852961395240258,
           -0.1297613051701607,
           0.22543652345654086,
           0.3409833683799918,
           0.9963220900474424,
           0.3405767324712267,
           1,
           -0.1080194701931654,
           0.15186913257569104,
           -0.02515238229364004,
           0.06652310363602422,
           -0.13649662434453655,
           -0.03410993672957773,
           -0.2099257492806443
          ],
          [
           -0.025423043907946433,
           -0.08811852569846272,
           -0.021132150726636295,
           -0.08178355560652127,
           0.22321750047496092,
           0.20234975442579953,
           -0.042328296982902656,
           -0.10252481922031288,
           -0.04565270833144712,
           -0.09749985706729374,
           0.09013013643068737,
           0.05474097347112256,
           0.037990855590292895,
           -0.006204199731674723,
           -0.01725413046645739,
           -0.08079232513201019,
           -0.019363155340800735,
           -0.07559175392326564,
           0.006435124603332866,
           -0.10101669843842524,
           0.007207529538855279,
           -0.10026165242793025,
           0.27318253739644704,
           0.18121156716493295,
           -0.006388280034546471,
           -0.121309158538496,
           -0.008596461279701467,
           -0.12086244832795362,
           0.1216574453714291,
           -0.0015494337555989287,
           0.09201600515373257,
           -0.04095705767894295,
           0.01709695111726984,
           -0.10964857971454514,
           0.01512474707535454,
           -0.1080194701931654,
           1,
           0.2566380967929547,
           0.0015654121292538734,
           -0.025125355259852995,
           -0.016462565881847437,
           -0.08602375845562349,
           0.006293485667910378
          ],
          [
           0.0053822411397975055,
           0.0803572439343165,
           -0.00015685766475986805,
           0.07539322511017542,
           0.05844147500717482,
           0.09621525419207236,
           0.013801845315804338,
           0.08494671309436151,
           0.0154094922251564,
           0.08313299018384718,
           0.007865270867887105,
           0.05340486989713099,
           -0.02801715045140112,
           0.04681776033604322,
           0.03163447909450615,
           0.10972513914330957,
           0.03555151119037167,
           0.10971760920435325,
           -0.016072719813099393,
           0.11455788938564777,
           -0.017545915319983802,
           0.11300867771154624,
           0.002656566423440169,
           0.16016138777976546,
           -0.013962629715867494,
           0.12498300346275765,
           -0.014861339657577721,
           0.12344145375210352,
           -0.03706213938770556,
           0.10942884837378078,
           -0.06948541182815063,
           0.10995458254666288,
           -0.002653328376049001,
           0.15248597258461738,
           -0.0006935731376521996,
           0.15186913257569104,
           0.2566380967929547,
           1,
           -0.10566006832143858,
           0.03489466755973599,
           -0.1309101255517966,
           0.0327352057323935,
           -0.20723859100235653
          ],
          [
           -0.014297939842254742,
           -0.043437285986864256,
           -0.013926722811723885,
           -0.042306528614965484,
           0.12141734155607675,
           0.1319528151139708,
           0.002002109343112975,
           -0.028686614613720074,
           0.003509941302252395,
           -0.027449444542848728,
           0.05922251982249272,
           0.06822357920714309,
           -0.008594416732648755,
           -0.025319249521938276,
           0.032187514210654564,
           -0.00031466362613426956,
           0.03302182224228295,
           0.0017443702662164576,
           0.0030454765023252214,
           -0.058187550138102416,
           0.004101108893052333,
           -0.05686295342416552,
           0.1105664329441418,
           0.09690062125126724,
           0.021628376809407737,
           -0.04675280176859017,
           0.022340506733739454,
           -0.04487800230400248,
           0.03472266439005701,
           0.008490373911329467,
           0.0072583832460864596,
           -0.03529077798371997,
           0.06005506240715523,
           -0.02650935453630351,
           0.0602348994663964,
           -0.02515238229364004,
           0.0015654121292538734,
           -0.10566006832143858,
           1,
           0.38394808647278833,
           0.18848124238117492,
           -0.043354571366291464,
           0.08156772020408717
          ],
          [
           0.029588927178691982,
           0.03286431981535535,
           0.021929467359821278,
           0.024134594940360795,
           0.06552661369334727,
           0.06649884037663648,
           0.03825934876919072,
           0.04692876445601481,
           0.03700915619212864,
           0.038015576458705604,
           0.05787799462229881,
           0.06158373638296577,
           -0.06535979856346166,
           -0.03746449971834852,
           0.062165425984473,
           0.06343652699031792,
           0.06299882993343082,
           0.05620430376388257,
           0.02218246006047845,
           0.034253427137128964,
           0.020852897156588633,
           0.03294250137444266,
           0.053703663025686084,
           0.05685951000414025,
           0.03672088802960271,
           0.0545104257543992,
           0.037294544246364365,
           0.05344270980766177,
           0.018706796210332135,
           0.054075381625658114,
           -0.08966741505768039,
           -0.011863446491454165,
           0.06734477822210126,
           0.06733107021324485,
           0.06904978661830458,
           0.06652310363602422,
           -0.025125355259852995,
           0.03489466755973599,
           0.38394808647278833,
           1,
           -0.0012415769482094622,
           0.09546280143316621,
           0.029884314695177293
          ],
          [
           -0.08389009075902096,
           -0.13497345004972972,
           -0.0775802739547375,
           -0.1288569726220525,
           0.004106007260030926,
           -0.0031842632675955734,
           -0.08320846175496097,
           -0.13468533310978276,
           -0.0837738745859296,
           -0.12789677630556406,
           0.0028570104725494246,
           -0.017476647528307875,
           -0.003181982329612149,
           -0.05843295559479233,
           -0.07408568074320585,
           -0.11977439284115454,
           -0.07506903018991327,
           -0.11459043180311093,
           -0.04098747028679655,
           -0.14632780076472923,
           -0.03878713494296758,
           -0.14388206513422297,
           0.037719652909649286,
           -0.012174092524634956,
           -0.045610085364591914,
           -0.1462593789989063,
           -0.04662316870593594,
           -0.14353594551864093,
           0.03118543708526142,
           -0.06161572148874813,
           0.04051934008498332,
           -0.10551130387606407,
           -0.03572049079886955,
           -0.13893340671590826,
           -0.038140344771093,
           -0.13649662434453655,
           -0.016462565881847437,
           -0.1309101255517966,
           0.18848124238117492,
           -0.0012415769482094622,
           1,
           0.6430613915050969,
           0.11246525980993495
          ],
          [
           -0.05350200720699986,
           -0.06347389342735353,
           -0.057923410649171024,
           -0.06991476473079183,
           -0.07866164390885143,
           -0.06969469883217941,
           -0.04995583054175009,
           -0.05171137902918678,
           -0.052197796664254136,
           -0.05672324111812983,
           -0.005669583766526903,
           -0.01129833362603752,
           -0.04418014458808035,
           -0.043814024269678044,
           -0.03577793248084332,
           -0.032726104267095144,
           -0.03634147324635239,
           -0.03670624481621945,
           -0.024831489447084017,
           -0.06713670004928354,
           -0.025064896639130998,
           -0.06827570113477117,
           -0.07142036778948177,
           -0.04620015728879496,
           -0.026068492255024292,
           -0.047783699806837915,
           -0.024832444463351814,
           -0.04932997907740772,
           -0.0025277454594318746,
           -0.013117092881550439,
           -0.03974803636692931,
           -0.047428613896882015,
           -0.016596874462509015,
           -0.0329041769647556,
           -0.0157320670345183,
           -0.03410993672957773,
           -0.08602375845562349,
           0.0327352057323935,
           -0.043354571366291464,
           0.09546280143316621,
           0.6430613915050969,
           1,
           0.02507985392726868
          ],
          [
           -0.03206351486608972,
           -0.12492411974609738,
           -0.03543341420984322,
           -0.13198537607169594,
           0.11360307161964885,
           0.0871376835510978,
           -0.06168512488686621,
           -0.1416186619358534,
           -0.06379270537274014,
           -0.14822293273935866,
           0.12193310555874096,
           0.11072539874557828,
           -0.047452816395418096,
           -0.10855050053307265,
           -0.06879651947000436,
           -0.14643972919867546,
           -0.06809328914572399,
           -0.14915870966385048,
           0.0019078061233556828,
           -0.1795590489233829,
           0.0025849965350958066,
           -0.17978578183717894,
           0.1629338951668652,
           -0.003587059623198386,
           -0.016751756630289615,
           -0.19526213296654849,
           -0.016199017384161463,
           -0.19547512701270356,
           0.10309283730486825,
           0.025667463913075277,
           -0.008482355185516955,
           -0.21010026274731317,
           -0.027356528627475705,
           -0.2101699139870763,
           -0.026716285104664565,
           -0.2099257492806443,
           0.006293485667910378,
           -0.20723859100235653,
           0.08156772020408717,
           0.029884314695177293,
           0.11246525980993495,
           0.02507985392726868,
           1
          ]
         ]
        }
       ],
       "layout": {
        "coloraxis": {
         "colorscale": [
          [
           0,
           "#0d0887"
          ],
          [
           0.1111111111111111,
           "#46039f"
          ],
          [
           0.2222222222222222,
           "#7201a8"
          ],
          [
           0.3333333333333333,
           "#9c179e"
          ],
          [
           0.4444444444444444,
           "#bd3786"
          ],
          [
           0.5555555555555556,
           "#d8576b"
          ],
          [
           0.6666666666666666,
           "#ed7953"
          ],
          [
           0.7777777777777778,
           "#fb9f3a"
          ],
          [
           0.8888888888888888,
           "#fdca26"
          ],
          [
           1,
           "#f0f921"
          ]
         ]
        },
        "margin": {
         "t": 60
        },
        "template": {
         "data": {
          "bar": [
           {
            "error_x": {
             "color": "#2a3f5f"
            },
            "error_y": {
             "color": "#2a3f5f"
            },
            "marker": {
             "line": {
              "color": "#E5ECF6",
              "width": 0.5
             },
             "pattern": {
              "fillmode": "overlay",
              "size": 10,
              "solidity": 0.2
             }
            },
            "type": "bar"
           }
          ],
          "barpolar": [
           {
            "marker": {
             "line": {
              "color": "#E5ECF6",
              "width": 0.5
             },
             "pattern": {
              "fillmode": "overlay",
              "size": 10,
              "solidity": 0.2
             }
            },
            "type": "barpolar"
           }
          ],
          "carpet": [
           {
            "aaxis": {
             "endlinecolor": "#2a3f5f",
             "gridcolor": "white",
             "linecolor": "white",
             "minorgridcolor": "white",
             "startlinecolor": "#2a3f5f"
            },
            "baxis": {
             "endlinecolor": "#2a3f5f",
             "gridcolor": "white",
             "linecolor": "white",
             "minorgridcolor": "white",
             "startlinecolor": "#2a3f5f"
            },
            "type": "carpet"
           }
          ],
          "choropleth": [
           {
            "colorbar": {
             "outlinewidth": 0,
             "ticks": ""
            },
            "type": "choropleth"
           }
          ],
          "contour": [
           {
            "colorbar": {
             "outlinewidth": 0,
             "ticks": ""
            },
            "colorscale": [
             [
              0,
              "#0d0887"
             ],
             [
              0.1111111111111111,
              "#46039f"
             ],
             [
              0.2222222222222222,
              "#7201a8"
             ],
             [
              0.3333333333333333,
              "#9c179e"
             ],
             [
              0.4444444444444444,
              "#bd3786"
             ],
             [
              0.5555555555555556,
              "#d8576b"
             ],
             [
              0.6666666666666666,
              "#ed7953"
             ],
             [
              0.7777777777777778,
              "#fb9f3a"
             ],
             [
              0.8888888888888888,
              "#fdca26"
             ],
             [
              1,
              "#f0f921"
             ]
            ],
            "type": "contour"
           }
          ],
          "contourcarpet": [
           {
            "colorbar": {
             "outlinewidth": 0,
             "ticks": ""
            },
            "type": "contourcarpet"
           }
          ],
          "heatmap": [
           {
            "colorbar": {
             "outlinewidth": 0,
             "ticks": ""
            },
            "colorscale": [
             [
              0,
              "#0d0887"
             ],
             [
              0.1111111111111111,
              "#46039f"
             ],
             [
              0.2222222222222222,
              "#7201a8"
             ],
             [
              0.3333333333333333,
              "#9c179e"
             ],
             [
              0.4444444444444444,
              "#bd3786"
             ],
             [
              0.5555555555555556,
              "#d8576b"
             ],
             [
              0.6666666666666666,
              "#ed7953"
             ],
             [
              0.7777777777777778,
              "#fb9f3a"
             ],
             [
              0.8888888888888888,
              "#fdca26"
             ],
             [
              1,
              "#f0f921"
             ]
            ],
            "type": "heatmap"
           }
          ],
          "heatmapgl": [
           {
            "colorbar": {
             "outlinewidth": 0,
             "ticks": ""
            },
            "colorscale": [
             [
              0,
              "#0d0887"
             ],
             [
              0.1111111111111111,
              "#46039f"
             ],
             [
              0.2222222222222222,
              "#7201a8"
             ],
             [
              0.3333333333333333,
              "#9c179e"
             ],
             [
              0.4444444444444444,
              "#bd3786"
             ],
             [
              0.5555555555555556,
              "#d8576b"
             ],
             [
              0.6666666666666666,
              "#ed7953"
             ],
             [
              0.7777777777777778,
              "#fb9f3a"
             ],
             [
              0.8888888888888888,
              "#fdca26"
             ],
             [
              1,
              "#f0f921"
             ]
            ],
            "type": "heatmapgl"
           }
          ],
          "histogram": [
           {
            "marker": {
             "pattern": {
              "fillmode": "overlay",
              "size": 10,
              "solidity": 0.2
             }
            },
            "type": "histogram"
           }
          ],
          "histogram2d": [
           {
            "colorbar": {
             "outlinewidth": 0,
             "ticks": ""
            },
            "colorscale": [
             [
              0,
              "#0d0887"
             ],
             [
              0.1111111111111111,
              "#46039f"
             ],
             [
              0.2222222222222222,
              "#7201a8"
             ],
             [
              0.3333333333333333,
              "#9c179e"
             ],
             [
              0.4444444444444444,
              "#bd3786"
             ],
             [
              0.5555555555555556,
              "#d8576b"
             ],
             [
              0.6666666666666666,
              "#ed7953"
             ],
             [
              0.7777777777777778,
              "#fb9f3a"
             ],
             [
              0.8888888888888888,
              "#fdca26"
             ],
             [
              1,
              "#f0f921"
             ]
            ],
            "type": "histogram2d"
           }
          ],
          "histogram2dcontour": [
           {
            "colorbar": {
             "outlinewidth": 0,
             "ticks": ""
            },
            "colorscale": [
             [
              0,
              "#0d0887"
             ],
             [
              0.1111111111111111,
              "#46039f"
             ],
             [
              0.2222222222222222,
              "#7201a8"
             ],
             [
              0.3333333333333333,
              "#9c179e"
             ],
             [
              0.4444444444444444,
              "#bd3786"
             ],
             [
              0.5555555555555556,
              "#d8576b"
             ],
             [
              0.6666666666666666,
              "#ed7953"
             ],
             [
              0.7777777777777778,
              "#fb9f3a"
             ],
             [
              0.8888888888888888,
              "#fdca26"
             ],
             [
              1,
              "#f0f921"
             ]
            ],
            "type": "histogram2dcontour"
           }
          ],
          "mesh3d": [
           {
            "colorbar": {
             "outlinewidth": 0,
             "ticks": ""
            },
            "type": "mesh3d"
           }
          ],
          "parcoords": [
           {
            "line": {
             "colorbar": {
              "outlinewidth": 0,
              "ticks": ""
             }
            },
            "type": "parcoords"
           }
          ],
          "pie": [
           {
            "automargin": true,
            "type": "pie"
           }
          ],
          "scatter": [
           {
            "fillpattern": {
             "fillmode": "overlay",
             "size": 10,
             "solidity": 0.2
            },
            "type": "scatter"
           }
          ],
          "scatter3d": [
           {
            "line": {
             "colorbar": {
              "outlinewidth": 0,
              "ticks": ""
             }
            },
            "marker": {
             "colorbar": {
              "outlinewidth": 0,
              "ticks": ""
             }
            },
            "type": "scatter3d"
           }
          ],
          "scattercarpet": [
           {
            "marker": {
             "colorbar": {
              "outlinewidth": 0,
              "ticks": ""
             }
            },
            "type": "scattercarpet"
           }
          ],
          "scattergeo": [
           {
            "marker": {
             "colorbar": {
              "outlinewidth": 0,
              "ticks": ""
             }
            },
            "type": "scattergeo"
           }
          ],
          "scattergl": [
           {
            "marker": {
             "colorbar": {
              "outlinewidth": 0,
              "ticks": ""
             }
            },
            "type": "scattergl"
           }
          ],
          "scattermapbox": [
           {
            "marker": {
             "colorbar": {
              "outlinewidth": 0,
              "ticks": ""
             }
            },
            "type": "scattermapbox"
           }
          ],
          "scatterpolar": [
           {
            "marker": {
             "colorbar": {
              "outlinewidth": 0,
              "ticks": ""
             }
            },
            "type": "scatterpolar"
           }
          ],
          "scatterpolargl": [
           {
            "marker": {
             "colorbar": {
              "outlinewidth": 0,
              "ticks": ""
             }
            },
            "type": "scatterpolargl"
           }
          ],
          "scatterternary": [
           {
            "marker": {
             "colorbar": {
              "outlinewidth": 0,
              "ticks": ""
             }
            },
            "type": "scatterternary"
           }
          ],
          "surface": [
           {
            "colorbar": {
             "outlinewidth": 0,
             "ticks": ""
            },
            "colorscale": [
             [
              0,
              "#0d0887"
             ],
             [
              0.1111111111111111,
              "#46039f"
             ],
             [
              0.2222222222222222,
              "#7201a8"
             ],
             [
              0.3333333333333333,
              "#9c179e"
             ],
             [
              0.4444444444444444,
              "#bd3786"
             ],
             [
              0.5555555555555556,
              "#d8576b"
             ],
             [
              0.6666666666666666,
              "#ed7953"
             ],
             [
              0.7777777777777778,
              "#fb9f3a"
             ],
             [
              0.8888888888888888,
              "#fdca26"
             ],
             [
              1,
              "#f0f921"
             ]
            ],
            "type": "surface"
           }
          ],
          "table": [
           {
            "cells": {
             "fill": {
              "color": "#EBF0F8"
             },
             "line": {
              "color": "white"
             }
            },
            "header": {
             "fill": {
              "color": "#C8D4E3"
             },
             "line": {
              "color": "white"
             }
            },
            "type": "table"
           }
          ]
         },
         "layout": {
          "annotationdefaults": {
           "arrowcolor": "#2a3f5f",
           "arrowhead": 0,
           "arrowwidth": 1
          },
          "autotypenumbers": "strict",
          "coloraxis": {
           "colorbar": {
            "outlinewidth": 0,
            "ticks": ""
           }
          },
          "colorscale": {
           "diverging": [
            [
             0,
             "#8e0152"
            ],
            [
             0.1,
             "#c51b7d"
            ],
            [
             0.2,
             "#de77ae"
            ],
            [
             0.3,
             "#f1b6da"
            ],
            [
             0.4,
             "#fde0ef"
            ],
            [
             0.5,
             "#f7f7f7"
            ],
            [
             0.6,
             "#e6f5d0"
            ],
            [
             0.7,
             "#b8e186"
            ],
            [
             0.8,
             "#7fbc41"
            ],
            [
             0.9,
             "#4d9221"
            ],
            [
             1,
             "#276419"
            ]
           ],
           "sequential": [
            [
             0,
             "#0d0887"
            ],
            [
             0.1111111111111111,
             "#46039f"
            ],
            [
             0.2222222222222222,
             "#7201a8"
            ],
            [
             0.3333333333333333,
             "#9c179e"
            ],
            [
             0.4444444444444444,
             "#bd3786"
            ],
            [
             0.5555555555555556,
             "#d8576b"
            ],
            [
             0.6666666666666666,
             "#ed7953"
            ],
            [
             0.7777777777777778,
             "#fb9f3a"
            ],
            [
             0.8888888888888888,
             "#fdca26"
            ],
            [
             1,
             "#f0f921"
            ]
           ],
           "sequentialminus": [
            [
             0,
             "#0d0887"
            ],
            [
             0.1111111111111111,
             "#46039f"
            ],
            [
             0.2222222222222222,
             "#7201a8"
            ],
            [
             0.3333333333333333,
             "#9c179e"
            ],
            [
             0.4444444444444444,
             "#bd3786"
            ],
            [
             0.5555555555555556,
             "#d8576b"
            ],
            [
             0.6666666666666666,
             "#ed7953"
            ],
            [
             0.7777777777777778,
             "#fb9f3a"
            ],
            [
             0.8888888888888888,
             "#fdca26"
            ],
            [
             1,
             "#f0f921"
            ]
           ]
          },
          "colorway": [
           "#636efa",
           "#EF553B",
           "#00cc96",
           "#ab63fa",
           "#FFA15A",
           "#19d3f3",
           "#FF6692",
           "#B6E880",
           "#FF97FF",
           "#FECB52"
          ],
          "font": {
           "color": "#2a3f5f"
          },
          "geo": {
           "bgcolor": "white",
           "lakecolor": "white",
           "landcolor": "#E5ECF6",
           "showlakes": true,
           "showland": true,
           "subunitcolor": "white"
          },
          "hoverlabel": {
           "align": "left"
          },
          "hovermode": "closest",
          "mapbox": {
           "style": "light"
          },
          "paper_bgcolor": "white",
          "plot_bgcolor": "#E5ECF6",
          "polar": {
           "angularaxis": {
            "gridcolor": "white",
            "linecolor": "white",
            "ticks": ""
           },
           "bgcolor": "#E5ECF6",
           "radialaxis": {
            "gridcolor": "white",
            "linecolor": "white",
            "ticks": ""
           }
          },
          "scene": {
           "xaxis": {
            "backgroundcolor": "#E5ECF6",
            "gridcolor": "white",
            "gridwidth": 2,
            "linecolor": "white",
            "showbackground": true,
            "ticks": "",
            "zerolinecolor": "white"
           },
           "yaxis": {
            "backgroundcolor": "#E5ECF6",
            "gridcolor": "white",
            "gridwidth": 2,
            "linecolor": "white",
            "showbackground": true,
            "ticks": "",
            "zerolinecolor": "white"
           },
           "zaxis": {
            "backgroundcolor": "#E5ECF6",
            "gridcolor": "white",
            "gridwidth": 2,
            "linecolor": "white",
            "showbackground": true,
            "ticks": "",
            "zerolinecolor": "white"
           }
          },
          "shapedefaults": {
           "line": {
            "color": "#2a3f5f"
           }
          },
          "ternary": {
           "aaxis": {
            "gridcolor": "white",
            "linecolor": "white",
            "ticks": ""
           },
           "baxis": {
            "gridcolor": "white",
            "linecolor": "white",
            "ticks": ""
           },
           "bgcolor": "#E5ECF6",
           "caxis": {
            "gridcolor": "white",
            "linecolor": "white",
            "ticks": ""
           }
          },
          "title": {
           "x": 0.05
          },
          "xaxis": {
           "automargin": true,
           "gridcolor": "white",
           "linecolor": "white",
           "ticks": "",
           "title": {
            "standoff": 15
           },
           "zerolinecolor": "white",
           "zerolinewidth": 2
          },
          "yaxis": {
           "automargin": true,
           "gridcolor": "white",
           "linecolor": "white",
           "ticks": "",
           "title": {
            "standoff": 15
           },
           "zerolinecolor": "white",
           "zerolinewidth": 2
          }
         }
        },
        "title": {
         "text": "Gráfico de Correlação"
        },
        "xaxis": {
         "anchor": "y",
         "constrain": "domain",
         "domain": [
          0,
          1
         ],
         "scaleanchor": "y",
         "title": {
          "text": "Colunas"
         }
        },
        "yaxis": {
         "anchor": "x",
         "autorange": "reversed",
         "constrain": "domain",
         "domain": [
          0,
          1
         ],
         "title": {
          "text": "Colunas"
         }
        }
       }
      }
     },
     "metadata": {},
     "output_type": "display_data"
    }
   ],
   "source": [
    "import pandas as pd\n",
    "import plotly.express as px\n",
    "\n",
    "\n",
    "# Calcular a matriz de correlação\n",
    "corr_matrix = df[colunas_hora].corr()\n",
    "\n",
    "# Criar o gráfico de correlação interativo com o Plotly\n",
    "fig = px.imshow(corr_matrix)\n",
    "fig.update_layout(\n",
    "    title='Gráfico de Correlação',\n",
    "    xaxis_title='Colunas',\n",
    "    yaxis_title='Colunas'\n",
    ")\n",
    "fig.show()\n"
   ]
  },
  {
   "cell_type": "markdown",
   "metadata": {},
   "source": [
    "# Profiling"
   ]
  },
  {
   "cell_type": "code",
   "execution_count": null,
   "metadata": {},
   "outputs": [
    {
     "name": "stderr",
     "output_type": "stream",
     "text": [
      "Summarize dataset: 100%|██████████| 377/377 [01:29<00:00,  4.23it/s, Completed]                                                                                       \n",
      "Generate report structure: 100%|██████████| 1/1 [00:13<00:00, 13.85s/it]\n",
      "Render HTML: 100%|██████████| 1/1 [00:08<00:00,  8.39s/it]\n",
      "Export report to file: 100%|██████████| 1/1 [00:00<00:00, 35.81it/s]\n"
     ]
    }
   ],
   "source": [
    "from pandas_profiling import ProfileReport\n",
    "\n",
    "df = pd.read_parquet('parte_1_profiling.parquet')\n",
    "\n",
    "profile = ProfileReport(df)\n",
    "profile.to_file(\"parte1_relatorio.html\")\n",
    "\n"
   ]
  },
  {
   "cell_type": "code",
   "execution_count": null,
   "metadata": {},
   "outputs": [],
   "source": []
  }
 ],
 "metadata": {
  "kernelspec": {
   "display_name": "Python 3",
   "language": "python",
   "name": "python3"
  },
  "language_info": {
   "codemirror_mode": {
    "name": "ipython",
    "version": 3
   },
   "file_extension": ".py",
   "mimetype": "text/x-python",
   "name": "python",
   "nbconvert_exporter": "python",
   "pygments_lexer": "ipython3",
   "version": "3.10.6"
  },
  "orig_nbformat": 4
 },
 "nbformat": 4,
 "nbformat_minor": 2
}
