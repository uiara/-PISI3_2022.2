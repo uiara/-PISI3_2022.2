{
 "cells": [
  {
   "cell_type": "code",
   "execution_count": 2,
   "metadata": {},
   "outputs": [],
   "source": [
    "import pandas as pd\n",
    "from sklearn.model_selection import train_test_split\n",
    "from sklearn.metrics import accuracy_score, confusion_matrix, classification_report\n",
    "\n",
    "\n"
   ]
  },
  {
   "cell_type": "code",
   "execution_count": 3,
   "metadata": {},
   "outputs": [],
   "source": [
    "df = pd.read_parquet('/home/bianka/PISI3_2022.2/data/dataset_renomeado.parquet')\n"
   ]
  },
  {
   "cell_type": "code",
   "execution_count": 4,
   "metadata": {},
   "outputs": [],
   "source": [
    "\n",
    "df = df[['ventilado_apache','tipo_estadia_uti', 'd1_frequencia_cardiaca_maxima',\n",
    "         'd1_frequencia_cardiaca_minima', 'h1_frequencia_respiratoria_maxima',\n",
    "         'd1_spO2_minimo','d1_spO2_maximo','d1_temperatura_minima','d1_temperatura_maxima',\n",
    "         'h1_frequencia_respiratoria_minima',\n",
    "          'morte_hospital']]\n",
    "df = df.dropna()\n",
    "\n",
    "\n",
    "one_hot_encoded = pd.get_dummies(df['tipo_estadia_uti'])\n",
    "df = pd.concat([df, one_hot_encoded], axis=1)\n"
   ]
  },
  {
   "cell_type": "code",
   "execution_count": 5,
   "metadata": {},
   "outputs": [
    {
     "name": "stdout",
     "output_type": "stream",
     "text": [
      "Volume de dados em relação ao valor 0 em morte_hospital: 77509\n",
      "Volume de dados em relação ao valor 1 em morte_hospital: 7215\n"
     ]
    }
   ],
   "source": [
    "# Use o método 'value_counts' para contar os valores únicos na coluna 'morte_hospital'\n",
    "contagem_morte_hospital = df['morte_hospital'].value_counts()\n",
    "\n",
    "# Exiba os resultados\n",
    "print(\"Volume de dados em relação ao valor 0 em morte_hospital:\", contagem_morte_hospital[0])\n",
    "print(\"Volume de dados em relação ao valor 1 em morte_hospital:\", contagem_morte_hospital[1])"
   ]
  },
  {
   "cell_type": "code",
   "execution_count": 6,
   "metadata": {},
   "outputs": [
    {
     "name": "stdout",
     "output_type": "stream",
     "text": [
      "<class 'pandas.core.frame.DataFrame'>\n",
      "Int64Index: 84724 entries, 0 to 91712\n",
      "Data columns (total 14 columns):\n",
      " #   Column                             Non-Null Count  Dtype  \n",
      "---  ------                             --------------  -----  \n",
      " 0   ventilado_apache                   84724 non-null  float64\n",
      " 1   tipo_estadia_uti                   84724 non-null  object \n",
      " 2   d1_frequencia_cardiaca_maxima      84724 non-null  float64\n",
      " 3   d1_frequencia_cardiaca_minima      84724 non-null  float64\n",
      " 4   h1_frequencia_respiratoria_maxima  84724 non-null  float64\n",
      " 5   d1_spO2_minimo                     84724 non-null  float64\n",
      " 6   d1_spO2_maximo                     84724 non-null  float64\n",
      " 7   d1_temperatura_minima              84724 non-null  float64\n",
      " 8   d1_temperatura_maxima              84724 non-null  float64\n",
      " 9   h1_frequencia_respiratoria_minima  84724 non-null  float64\n",
      " 10  morte_hospital                     84724 non-null  int64  \n",
      " 11  admit                              84724 non-null  uint8  \n",
      " 12  readmit                            84724 non-null  uint8  \n",
      " 13  transfer                           84724 non-null  uint8  \n",
      "dtypes: float64(9), int64(1), object(1), uint8(3)\n",
      "memory usage: 8.0+ MB\n"
     ]
    }
   ],
   "source": [
    "df.info()"
   ]
  },
  {
   "cell_type": "code",
   "execution_count": 7,
   "metadata": {},
   "outputs": [],
   "source": [
    "def categorizar_fc_maxima(fc):\n",
    "    if fc < 60:\n",
    "        return 'primeiras_24_horas_frequencia_cardiaca_maxima_muito_baixa'\n",
    "    elif 60 <= fc < 70:\n",
    "        return 'primeiras_24_horas_frequencia_cardiaca_maxima_baixa'\n",
    "    elif 70 <= fc < 100:\n",
    "        return 'primeiras_24_horas_frequencia_cardiaca_maxima_normal'\n",
    "    elif 100 <= fc < 120:\n",
    "        return 'primeiras_24_horas_frequencia_cardiaca_maxima_elevada'\n",
    "    else:\n",
    "        return 'primeiras_24_horas_frequencia_cardiaca_maxima_muito_elevada'\n",
    "\n",
    "df['categoria_fc_maxima'] = df['d1_frequencia_cardiaca_maxima'].apply(categorizar_fc_maxima)\n",
    "\n",
    "one_hot_encoded = pd.get_dummies(df['categoria_fc_maxima'])\n",
    "\n",
    "df = pd.concat([df, one_hot_encoded], axis=1)\n",
    "\n",
    "df = df.drop('categoria_fc_maxima', axis=1)"
   ]
  },
  {
   "cell_type": "code",
   "execution_count": 8,
   "metadata": {},
   "outputs": [],
   "source": [
    "def categorizar_fr(fr):\n",
    "    if fr < 12:\n",
    "        return 'primeira_hora_frequencia_respiratoria_maxima_muito_baixa'\n",
    "    elif 12 <= fr < 16:\n",
    "        return 'primeira_hora_frequencia_respiratoria_maxima_baixa'\n",
    "    elif 16 <= fr < 20:\n",
    "        return 'primeira_hora_frequencia_respiratoria_maxima_normal'\n",
    "    elif 20 <= fr < 24:\n",
    "        return 'primeira_hora_frequencia_respiratoria_maxima_elevada'\n",
    "    else:\n",
    "        return 'primeira_hora_frequencia_respiratoria_maxima_muito elevada'\n",
    "\n",
    "df['categoria_frequencia_respiratoria_maxima'] = df['h1_frequencia_respiratoria_maxima'].apply(categorizar_fr)\n",
    "\n",
    "one_hot_encoded = pd.get_dummies(df['categoria_frequencia_respiratoria_maxima'])\n",
    "\n",
    "df = pd.concat([df, one_hot_encoded], axis=1)\n",
    "\n",
    "df = df.drop('categoria_frequencia_respiratoria_maxima', axis=1)\n",
    "\n"
   ]
  },
  {
   "cell_type": "code",
   "execution_count": 9,
   "metadata": {},
   "outputs": [],
   "source": [
    "def categorizar_fr(fr):\n",
    "    if fr < 12:\n",
    "        return 'primeira_hora_frequencia_respiratoria_minima_muito_baixa'\n",
    "    elif 12 <= fr < 16:\n",
    "        return 'primeira_hora_frequencia_respiratoria_minima_baixa'\n",
    "    elif 16 <= fr < 20:\n",
    "        return 'primeira_hora_frequencia_respiratoria_minima_normal'\n",
    "    elif 20 <= fr < 24:\n",
    "        return 'primeira_hora_frequencia_respiratoria_minima_elevada'\n",
    "    else:\n",
    "        return 'primeira_hora_frequencia_respiratoria_minima_muito elevada'\n",
    "\n",
    "df['categoria_frequencia_respiratoria_minima'] = df['h1_frequencia_respiratoria_minima'].apply(categorizar_fr)\n",
    "\n",
    "one_hot_encoded = pd.get_dummies(df['categoria_frequencia_respiratoria_minima'])\n",
    "\n",
    "df = pd.concat([df, one_hot_encoded], axis=1)\n",
    "\n",
    "df = df.drop('categoria_frequencia_respiratoria_minima', axis=1)\n"
   ]
  },
  {
   "cell_type": "code",
   "execution_count": 10,
   "metadata": {},
   "outputs": [],
   "source": [
    "df = df[~((df['d1_spO2_minimo'] <= 20))]\n",
    "\n",
    "def categorize_saturacao(sat):\n",
    "    if sat < 85:\n",
    "        return 'saturacao_primieras_vinte_quatro_horas_minima_muito_baixa'\n",
    "    elif sat < 90:\n",
    "        return 'saturacao_primieras_vinte_quatro_horas_minima_baixa'\n",
    "    elif sat < 95:\n",
    "        return 'saturacao_primieras_vinte_quatro_horas_minima_moderada'\n",
    "    elif sat < 100:\n",
    "        return 'saturacao_primieras_vinte_quatro_horas_minima_boa'\n",
    "\n",
    "\n",
    "df['categoria_d1_spO2_minimo'] = df['d1_spO2_minimo'].apply(categorizar_fr)\n",
    "\n",
    "one_hot_encoded = pd.get_dummies(df['categoria_d1_spO2_minimo'])\n",
    "\n",
    "df = pd.concat([df, one_hot_encoded], axis=1)\n",
    "\n",
    "df = df.drop('categoria_d1_spO2_minimo', axis=1)"
   ]
  },
  {
   "cell_type": "code",
   "execution_count": 11,
   "metadata": {},
   "outputs": [],
   "source": [
    "# apaga linhas com \n",
    "df = df[~((df['d1_spO2_maximo'] <= 20))]\n",
    "\n",
    "def categorize_saturacao(sat):\n",
    "    if sat < 85:\n",
    "        return 'saturacao_primieras_vinte_quatro_horas_maxima_muito_baixa'\n",
    "    elif sat < 90:\n",
    "        return 'saturacao_primieras_vinte_quatro_horas_maxima_baixa'\n",
    "    elif sat < 95:\n",
    "        return 'saturacao_primieras_vinte_quatro_horas_maxima_moderada'\n",
    "    elif sat < 100:\n",
    "        return 'saturacao_primieras_vinte_quatro_horas_maxima_boa'\n",
    "\n",
    "\n",
    "df['categoria_d1_spO2_maxima'] = df['d1_spO2_maximo'].apply(categorizar_fr)\n",
    "\n",
    "one_hot_encoded = pd.get_dummies(df['categoria_d1_spO2_maxima'])\n",
    "\n",
    "df = pd.concat([df, one_hot_encoded], axis=1)\n",
    "\n",
    "df = df.drop('categoria_d1_spO2_maxima', axis=1)"
   ]
  },
  {
   "cell_type": "code",
   "execution_count": 12,
   "metadata": {},
   "outputs": [],
   "source": [
    "def categorize_temperatura(temp):\n",
    "    if temp < 35:\n",
    "        return 'temperatura_minima_primieras_vinte_quatro_horas_hipotermia'\n",
    "    if temp < 37:\n",
    "        return 'temperatura_minima_primieras_vinte_quatro_horas_normal'\n",
    "    if temp >= 37:\n",
    "        return 'temperatura_minima_primieras_vinte_quatro_horas_febre'\n",
    "\n",
    "df['categoria_d1_temperatura_minima'] = df['d1_temperatura_minima'].apply(categorize_temperatura)\n",
    "\n",
    "one_hot_encoded = pd.get_dummies(df['categoria_d1_temperatura_minima'])\n",
    "\n",
    "df = pd.concat([df, one_hot_encoded], axis=1)\n",
    "\n",
    "df = df.drop('categoria_d1_temperatura_minima', axis=1)\n"
   ]
  },
  {
   "cell_type": "code",
   "execution_count": 13,
   "metadata": {},
   "outputs": [],
   "source": [
    "\n",
    "def categorize_temperatura(temp_max):\n",
    "    if temp_max < 35:\n",
    "        return 'temperatura_minima_primieras_vinte_quatro_horas_hipotermia'\n",
    "    if temp_max < 37:\n",
    "        return 'temperatura_minima_primieras_vinte_quatro_horas_normal'\n",
    "    if temp_max >= 37:\n",
    "        return 'temperatura_minima_primieras_vinte_quatro_horas_febre'\n",
    "\n",
    "df['categoria_d1_temperatura_minima'] = df['d1_temperatura_maxima'].apply(categorize_temperatura)\n",
    "\n",
    "one_hot_encoded = pd.get_dummies(df['categoria_d1_temperatura_minima'])\n",
    "\n",
    "df = pd.concat([df, one_hot_encoded], axis=1)\n",
    "\n",
    "df = df.drop('categoria_d1_temperatura_minima', axis=1)\n"
   ]
  },
  {
   "cell_type": "code",
   "execution_count": 14,
   "metadata": {},
   "outputs": [],
   "source": [
    "df = df.drop(['d1_frequencia_cardiaca_maxima',\n",
    "       'd1_frequencia_cardiaca_minima', 'h1_frequencia_respiratoria_maxima',\n",
    "       'd1_spO2_minimo','d1_spO2_maximo','d1_temperatura_minima','tipo_estadia_uti','h1_frequencia_respiratoria_minima'], axis=1)"
   ]
  },
  {
   "cell_type": "code",
   "execution_count": 15,
   "metadata": {},
   "outputs": [
    {
     "name": "stdout",
     "output_type": "stream",
     "text": [
      "<class 'pandas.core.frame.DataFrame'>\n",
      "Int64Index: 84314 entries, 0 to 91712\n",
      "Data columns (total 29 columns):\n",
      " #   Column                                                       Non-Null Count  Dtype  \n",
      "---  ------                                                       --------------  -----  \n",
      " 0   ventilado_apache                                             84314 non-null  float64\n",
      " 1   d1_temperatura_maxima                                        84314 non-null  float64\n",
      " 2   morte_hospital                                               84314 non-null  int64  \n",
      " 3   admit                                                        84314 non-null  uint8  \n",
      " 4   readmit                                                      84314 non-null  uint8  \n",
      " 5   transfer                                                     84314 non-null  uint8  \n",
      " 6   primeiras_24_horas_frequencia_cardiaca_maxima_baixa          84314 non-null  uint8  \n",
      " 7   primeiras_24_horas_frequencia_cardiaca_maxima_elevada        84314 non-null  uint8  \n",
      " 8   primeiras_24_horas_frequencia_cardiaca_maxima_muito_baixa    84314 non-null  uint8  \n",
      " 9   primeiras_24_horas_frequencia_cardiaca_maxima_muito_elevada  84314 non-null  uint8  \n",
      " 10  primeiras_24_horas_frequencia_cardiaca_maxima_normal         84314 non-null  uint8  \n",
      " 11  primeira_hora_frequencia_respiratoria_maxima_baixa           84314 non-null  uint8  \n",
      " 12  primeira_hora_frequencia_respiratoria_maxima_elevada         84314 non-null  uint8  \n",
      " 13  primeira_hora_frequencia_respiratoria_maxima_muito elevada   84314 non-null  uint8  \n",
      " 14  primeira_hora_frequencia_respiratoria_maxima_muito_baixa     84314 non-null  uint8  \n",
      " 15  primeira_hora_frequencia_respiratoria_maxima_normal          84314 non-null  uint8  \n",
      " 16  primeira_hora_frequencia_respiratoria_minima_baixa           84314 non-null  uint8  \n",
      " 17  primeira_hora_frequencia_respiratoria_minima_elevada         84314 non-null  uint8  \n",
      " 18  primeira_hora_frequencia_respiratoria_minima_muito elevada   84314 non-null  uint8  \n",
      " 19  primeira_hora_frequencia_respiratoria_minima_muito_baixa     84314 non-null  uint8  \n",
      " 20  primeira_hora_frequencia_respiratoria_minima_normal          84314 non-null  uint8  \n",
      " 21  primeira_hora_frequencia_respiratoria_minima_elevada         84314 non-null  uint8  \n",
      " 22  primeira_hora_frequencia_respiratoria_minima_muito elevada   84314 non-null  uint8  \n",
      " 23  primeira_hora_frequencia_respiratoria_minima_muito elevada   84314 non-null  uint8  \n",
      " 24  temperatura_minima_primieras_vinte_quatro_horas_febre        84314 non-null  uint8  \n",
      " 25  temperatura_minima_primieras_vinte_quatro_horas_hipotermia   84314 non-null  uint8  \n",
      " 26  temperatura_minima_primieras_vinte_quatro_horas_normal       84314 non-null  uint8  \n",
      " 27  temperatura_minima_primieras_vinte_quatro_horas_febre        84314 non-null  uint8  \n",
      " 28  temperatura_minima_primieras_vinte_quatro_horas_normal       84314 non-null  uint8  \n",
      "dtypes: float64(2), int64(1), uint8(26)\n",
      "memory usage: 4.7 MB\n"
     ]
    }
   ],
   "source": [
    "df.info()"
   ]
  },
  {
   "cell_type": "code",
   "execution_count": 16,
   "metadata": {},
   "outputs": [
    {
     "name": "stdout",
     "output_type": "stream",
     "text": [
      "Acurácia: 0.8203722590515043\n",
      "\n",
      "Relatório de Classificação:\n",
      "               precision    recall  f1-score   support\n",
      "\n",
      "           0       0.83      0.91      0.87     20677\n",
      "           1       0.79      0.65      0.71     10699\n",
      "\n",
      "    accuracy                           0.82     31376\n",
      "   macro avg       0.81      0.78      0.79     31376\n",
      "weighted avg       0.82      0.82      0.82     31376\n",
      "\n",
      "\n",
      "Matriz de Confusão:\n",
      " [[18804  1873]\n",
      " [ 3763  6936]]\n"
     ]
    },
    {
     "data": {
      "application/vnd.plotly.v1+json": {
       "config": {
        "plotlyServerURL": "https://plot.ly"
       },
       "data": [
        {
         "colorscale": [
          [
           0,
           "rgb(247,251,255)"
          ],
          [
           0.125,
           "rgb(222,235,247)"
          ],
          [
           0.25,
           "rgb(198,219,239)"
          ],
          [
           0.375,
           "rgb(158,202,225)"
          ],
          [
           0.5,
           "rgb(107,174,214)"
          ],
          [
           0.625,
           "rgb(66,146,198)"
          ],
          [
           0.75,
           "rgb(33,113,181)"
          ],
          [
           0.875,
           "rgb(8,81,156)"
          ],
          [
           1,
           "rgb(8,48,107)"
          ]
         ],
         "reversescale": false,
         "showscale": false,
         "type": "heatmap",
         "x": [
          "Previsto Negativo",
          "Previsto Positivo"
         ],
         "y": [
          "Real Negativo",
          "Real Positivo"
         ],
         "z": [
          [
           18804,
           1873
          ],
          [
           3763,
           6936
          ]
         ]
        }
       ],
       "layout": {
        "annotations": [
         {
          "font": {
           "color": "#FFFFFF"
          },
          "showarrow": false,
          "text": "18804",
          "x": "Previsto Negativo",
          "xref": "x",
          "y": "Real Negativo",
          "yref": "y"
         },
         {
          "font": {
           "color": "#000000"
          },
          "showarrow": false,
          "text": "1873",
          "x": "Previsto Positivo",
          "xref": "x",
          "y": "Real Negativo",
          "yref": "y"
         },
         {
          "font": {
           "color": "#000000"
          },
          "showarrow": false,
          "text": "3763",
          "x": "Previsto Negativo",
          "xref": "x",
          "y": "Real Positivo",
          "yref": "y"
         },
         {
          "font": {
           "color": "#000000"
          },
          "showarrow": false,
          "text": "6936",
          "x": "Previsto Positivo",
          "xref": "x",
          "y": "Real Positivo",
          "yref": "y"
         }
        ],
        "template": {
         "data": {
          "bar": [
           {
            "error_x": {
             "color": "#2a3f5f"
            },
            "error_y": {
             "color": "#2a3f5f"
            },
            "marker": {
             "line": {
              "color": "#E5ECF6",
              "width": 0.5
             },
             "pattern": {
              "fillmode": "overlay",
              "size": 10,
              "solidity": 0.2
             }
            },
            "type": "bar"
           }
          ],
          "barpolar": [
           {
            "marker": {
             "line": {
              "color": "#E5ECF6",
              "width": 0.5
             },
             "pattern": {
              "fillmode": "overlay",
              "size": 10,
              "solidity": 0.2
             }
            },
            "type": "barpolar"
           }
          ],
          "carpet": [
           {
            "aaxis": {
             "endlinecolor": "#2a3f5f",
             "gridcolor": "white",
             "linecolor": "white",
             "minorgridcolor": "white",
             "startlinecolor": "#2a3f5f"
            },
            "baxis": {
             "endlinecolor": "#2a3f5f",
             "gridcolor": "white",
             "linecolor": "white",
             "minorgridcolor": "white",
             "startlinecolor": "#2a3f5f"
            },
            "type": "carpet"
           }
          ],
          "choropleth": [
           {
            "colorbar": {
             "outlinewidth": 0,
             "ticks": ""
            },
            "type": "choropleth"
           }
          ],
          "contour": [
           {
            "colorbar": {
             "outlinewidth": 0,
             "ticks": ""
            },
            "colorscale": [
             [
              0,
              "#0d0887"
             ],
             [
              0.1111111111111111,
              "#46039f"
             ],
             [
              0.2222222222222222,
              "#7201a8"
             ],
             [
              0.3333333333333333,
              "#9c179e"
             ],
             [
              0.4444444444444444,
              "#bd3786"
             ],
             [
              0.5555555555555556,
              "#d8576b"
             ],
             [
              0.6666666666666666,
              "#ed7953"
             ],
             [
              0.7777777777777778,
              "#fb9f3a"
             ],
             [
              0.8888888888888888,
              "#fdca26"
             ],
             [
              1,
              "#f0f921"
             ]
            ],
            "type": "contour"
           }
          ],
          "contourcarpet": [
           {
            "colorbar": {
             "outlinewidth": 0,
             "ticks": ""
            },
            "type": "contourcarpet"
           }
          ],
          "heatmap": [
           {
            "colorbar": {
             "outlinewidth": 0,
             "ticks": ""
            },
            "colorscale": [
             [
              0,
              "#0d0887"
             ],
             [
              0.1111111111111111,
              "#46039f"
             ],
             [
              0.2222222222222222,
              "#7201a8"
             ],
             [
              0.3333333333333333,
              "#9c179e"
             ],
             [
              0.4444444444444444,
              "#bd3786"
             ],
             [
              0.5555555555555556,
              "#d8576b"
             ],
             [
              0.6666666666666666,
              "#ed7953"
             ],
             [
              0.7777777777777778,
              "#fb9f3a"
             ],
             [
              0.8888888888888888,
              "#fdca26"
             ],
             [
              1,
              "#f0f921"
             ]
            ],
            "type": "heatmap"
           }
          ],
          "heatmapgl": [
           {
            "colorbar": {
             "outlinewidth": 0,
             "ticks": ""
            },
            "colorscale": [
             [
              0,
              "#0d0887"
             ],
             [
              0.1111111111111111,
              "#46039f"
             ],
             [
              0.2222222222222222,
              "#7201a8"
             ],
             [
              0.3333333333333333,
              "#9c179e"
             ],
             [
              0.4444444444444444,
              "#bd3786"
             ],
             [
              0.5555555555555556,
              "#d8576b"
             ],
             [
              0.6666666666666666,
              "#ed7953"
             ],
             [
              0.7777777777777778,
              "#fb9f3a"
             ],
             [
              0.8888888888888888,
              "#fdca26"
             ],
             [
              1,
              "#f0f921"
             ]
            ],
            "type": "heatmapgl"
           }
          ],
          "histogram": [
           {
            "marker": {
             "pattern": {
              "fillmode": "overlay",
              "size": 10,
              "solidity": 0.2
             }
            },
            "type": "histogram"
           }
          ],
          "histogram2d": [
           {
            "colorbar": {
             "outlinewidth": 0,
             "ticks": ""
            },
            "colorscale": [
             [
              0,
              "#0d0887"
             ],
             [
              0.1111111111111111,
              "#46039f"
             ],
             [
              0.2222222222222222,
              "#7201a8"
             ],
             [
              0.3333333333333333,
              "#9c179e"
             ],
             [
              0.4444444444444444,
              "#bd3786"
             ],
             [
              0.5555555555555556,
              "#d8576b"
             ],
             [
              0.6666666666666666,
              "#ed7953"
             ],
             [
              0.7777777777777778,
              "#fb9f3a"
             ],
             [
              0.8888888888888888,
              "#fdca26"
             ],
             [
              1,
              "#f0f921"
             ]
            ],
            "type": "histogram2d"
           }
          ],
          "histogram2dcontour": [
           {
            "colorbar": {
             "outlinewidth": 0,
             "ticks": ""
            },
            "colorscale": [
             [
              0,
              "#0d0887"
             ],
             [
              0.1111111111111111,
              "#46039f"
             ],
             [
              0.2222222222222222,
              "#7201a8"
             ],
             [
              0.3333333333333333,
              "#9c179e"
             ],
             [
              0.4444444444444444,
              "#bd3786"
             ],
             [
              0.5555555555555556,
              "#d8576b"
             ],
             [
              0.6666666666666666,
              "#ed7953"
             ],
             [
              0.7777777777777778,
              "#fb9f3a"
             ],
             [
              0.8888888888888888,
              "#fdca26"
             ],
             [
              1,
              "#f0f921"
             ]
            ],
            "type": "histogram2dcontour"
           }
          ],
          "mesh3d": [
           {
            "colorbar": {
             "outlinewidth": 0,
             "ticks": ""
            },
            "type": "mesh3d"
           }
          ],
          "parcoords": [
           {
            "line": {
             "colorbar": {
              "outlinewidth": 0,
              "ticks": ""
             }
            },
            "type": "parcoords"
           }
          ],
          "pie": [
           {
            "automargin": true,
            "type": "pie"
           }
          ],
          "scatter": [
           {
            "marker": {
             "colorbar": {
              "outlinewidth": 0,
              "ticks": ""
             }
            },
            "type": "scatter"
           }
          ],
          "scatter3d": [
           {
            "line": {
             "colorbar": {
              "outlinewidth": 0,
              "ticks": ""
             }
            },
            "marker": {
             "colorbar": {
              "outlinewidth": 0,
              "ticks": ""
             }
            },
            "type": "scatter3d"
           }
          ],
          "scattercarpet": [
           {
            "marker": {
             "colorbar": {
              "outlinewidth": 0,
              "ticks": ""
             }
            },
            "type": "scattercarpet"
           }
          ],
          "scattergeo": [
           {
            "marker": {
             "colorbar": {
              "outlinewidth": 0,
              "ticks": ""
             }
            },
            "type": "scattergeo"
           }
          ],
          "scattergl": [
           {
            "marker": {
             "colorbar": {
              "outlinewidth": 0,
              "ticks": ""
             }
            },
            "type": "scattergl"
           }
          ],
          "scattermapbox": [
           {
            "marker": {
             "colorbar": {
              "outlinewidth": 0,
              "ticks": ""
             }
            },
            "type": "scattermapbox"
           }
          ],
          "scatterpolar": [
           {
            "marker": {
             "colorbar": {
              "outlinewidth": 0,
              "ticks": ""
             }
            },
            "type": "scatterpolar"
           }
          ],
          "scatterpolargl": [
           {
            "marker": {
             "colorbar": {
              "outlinewidth": 0,
              "ticks": ""
             }
            },
            "type": "scatterpolargl"
           }
          ],
          "scatterternary": [
           {
            "marker": {
             "colorbar": {
              "outlinewidth": 0,
              "ticks": ""
             }
            },
            "type": "scatterternary"
           }
          ],
          "surface": [
           {
            "colorbar": {
             "outlinewidth": 0,
             "ticks": ""
            },
            "colorscale": [
             [
              0,
              "#0d0887"
             ],
             [
              0.1111111111111111,
              "#46039f"
             ],
             [
              0.2222222222222222,
              "#7201a8"
             ],
             [
              0.3333333333333333,
              "#9c179e"
             ],
             [
              0.4444444444444444,
              "#bd3786"
             ],
             [
              0.5555555555555556,
              "#d8576b"
             ],
             [
              0.6666666666666666,
              "#ed7953"
             ],
             [
              0.7777777777777778,
              "#fb9f3a"
             ],
             [
              0.8888888888888888,
              "#fdca26"
             ],
             [
              1,
              "#f0f921"
             ]
            ],
            "type": "surface"
           }
          ],
          "table": [
           {
            "cells": {
             "fill": {
              "color": "#EBF0F8"
             },
             "line": {
              "color": "white"
             }
            },
            "header": {
             "fill": {
              "color": "#C8D4E3"
             },
             "line": {
              "color": "white"
             }
            },
            "type": "table"
           }
          ]
         },
         "layout": {
          "annotationdefaults": {
           "arrowcolor": "#2a3f5f",
           "arrowhead": 0,
           "arrowwidth": 1
          },
          "autotypenumbers": "strict",
          "coloraxis": {
           "colorbar": {
            "outlinewidth": 0,
            "ticks": ""
           }
          },
          "colorscale": {
           "diverging": [
            [
             0,
             "#8e0152"
            ],
            [
             0.1,
             "#c51b7d"
            ],
            [
             0.2,
             "#de77ae"
            ],
            [
             0.3,
             "#f1b6da"
            ],
            [
             0.4,
             "#fde0ef"
            ],
            [
             0.5,
             "#f7f7f7"
            ],
            [
             0.6,
             "#e6f5d0"
            ],
            [
             0.7,
             "#b8e186"
            ],
            [
             0.8,
             "#7fbc41"
            ],
            [
             0.9,
             "#4d9221"
            ],
            [
             1,
             "#276419"
            ]
           ],
           "sequential": [
            [
             0,
             "#0d0887"
            ],
            [
             0.1111111111111111,
             "#46039f"
            ],
            [
             0.2222222222222222,
             "#7201a8"
            ],
            [
             0.3333333333333333,
             "#9c179e"
            ],
            [
             0.4444444444444444,
             "#bd3786"
            ],
            [
             0.5555555555555556,
             "#d8576b"
            ],
            [
             0.6666666666666666,
             "#ed7953"
            ],
            [
             0.7777777777777778,
             "#fb9f3a"
            ],
            [
             0.8888888888888888,
             "#fdca26"
            ],
            [
             1,
             "#f0f921"
            ]
           ],
           "sequentialminus": [
            [
             0,
             "#0d0887"
            ],
            [
             0.1111111111111111,
             "#46039f"
            ],
            [
             0.2222222222222222,
             "#7201a8"
            ],
            [
             0.3333333333333333,
             "#9c179e"
            ],
            [
             0.4444444444444444,
             "#bd3786"
            ],
            [
             0.5555555555555556,
             "#d8576b"
            ],
            [
             0.6666666666666666,
             "#ed7953"
            ],
            [
             0.7777777777777778,
             "#fb9f3a"
            ],
            [
             0.8888888888888888,
             "#fdca26"
            ],
            [
             1,
             "#f0f921"
            ]
           ]
          },
          "colorway": [
           "#636efa",
           "#EF553B",
           "#00cc96",
           "#ab63fa",
           "#FFA15A",
           "#19d3f3",
           "#FF6692",
           "#B6E880",
           "#FF97FF",
           "#FECB52"
          ],
          "font": {
           "color": "#2a3f5f"
          },
          "geo": {
           "bgcolor": "white",
           "lakecolor": "white",
           "landcolor": "#E5ECF6",
           "showlakes": true,
           "showland": true,
           "subunitcolor": "white"
          },
          "hoverlabel": {
           "align": "left"
          },
          "hovermode": "closest",
          "mapbox": {
           "style": "light"
          },
          "paper_bgcolor": "white",
          "plot_bgcolor": "#E5ECF6",
          "polar": {
           "angularaxis": {
            "gridcolor": "white",
            "linecolor": "white",
            "ticks": ""
           },
           "bgcolor": "#E5ECF6",
           "radialaxis": {
            "gridcolor": "white",
            "linecolor": "white",
            "ticks": ""
           }
          },
          "scene": {
           "xaxis": {
            "backgroundcolor": "#E5ECF6",
            "gridcolor": "white",
            "gridwidth": 2,
            "linecolor": "white",
            "showbackground": true,
            "ticks": "",
            "zerolinecolor": "white"
           },
           "yaxis": {
            "backgroundcolor": "#E5ECF6",
            "gridcolor": "white",
            "gridwidth": 2,
            "linecolor": "white",
            "showbackground": true,
            "ticks": "",
            "zerolinecolor": "white"
           },
           "zaxis": {
            "backgroundcolor": "#E5ECF6",
            "gridcolor": "white",
            "gridwidth": 2,
            "linecolor": "white",
            "showbackground": true,
            "ticks": "",
            "zerolinecolor": "white"
           }
          },
          "shapedefaults": {
           "line": {
            "color": "#2a3f5f"
           }
          },
          "ternary": {
           "aaxis": {
            "gridcolor": "white",
            "linecolor": "white",
            "ticks": ""
           },
           "baxis": {
            "gridcolor": "white",
            "linecolor": "white",
            "ticks": ""
           },
           "bgcolor": "#E5ECF6",
           "caxis": {
            "gridcolor": "white",
            "linecolor": "white",
            "ticks": ""
           }
          },
          "title": {
           "x": 0.05
          },
          "xaxis": {
           "automargin": true,
           "gridcolor": "white",
           "linecolor": "white",
           "ticks": "",
           "title": {
            "standoff": 15
           },
           "zerolinecolor": "white",
           "zerolinewidth": 2
          },
          "yaxis": {
           "automargin": true,
           "gridcolor": "white",
           "linecolor": "white",
           "ticks": "",
           "title": {
            "standoff": 15
           },
           "zerolinecolor": "white",
           "zerolinewidth": 2
          }
         }
        },
        "title": {
         "text": "Matriz de Confusão"
        },
        "xaxis": {
         "dtick": 1,
         "gridcolor": "rgb(0, 0, 0)",
         "side": "top",
         "ticks": "",
         "title": {
          "text": "Previsões"
         }
        },
        "yaxis": {
         "dtick": 1,
         "ticks": "",
         "ticksuffix": "  ",
         "title": {
          "text": "Valores Reais"
         }
        }
       }
      }
     },
     "metadata": {},
     "output_type": "display_data"
    }
   ],
   "source": [
    "\n",
    "from sklearn.preprocessing import StandardScaler\n",
    "from sklearn.linear_model import LogisticRegression\n",
    "from imblearn.combine import SMOTEENN\n",
    "import plotly.graph_objects as go\n",
    "import plotly.figure_factory as ff\n",
    "\n",
    "y = df['morte_hospital']\n",
    "X = df.drop(['morte_hospital'], axis=1)\n",
    "\n",
    "smoteenn = SMOTEENN(random_state=42)\n",
    "\n",
    "X_resampled, y_resampled = smoteenn.fit_resample(X, y)\n",
    "\n",
    "X_train, X_test, y_train, y_test = train_test_split(X_resampled, y_resampled, test_size=0.33, random_state=42)\n",
    "\n",
    "scaler = StandardScaler()\n",
    "X_train = scaler.fit_transform(X_train)\n",
    "X_test = scaler.transform(X_test)\n",
    "\n",
    "modelo = LogisticRegression(random_state=42)\n",
    "\n",
    "modelo.fit(X_train, y_train)\n",
    "\n",
    "previsoes = modelo.predict(X_test)\n",
    "\n",
    "acuracia = accuracy_score(y_test, previsoes)\n",
    "relatorio_classificacao = classification_report(y_test, previsoes)\n",
    "\n",
    "matriz_confusao = confusion_matrix(y_test, previsoes)\n",
    "\n",
    "\n",
    "print(\"Acurácia:\", acuracia)\n",
    "print(\"\\nRelatório de Classificação:\\n\", relatorio_classificacao)\n",
    "print(\"\\nMatriz de Confusão:\\n\", matriz_confusao)\n",
    "\n",
    "fig_matriz_confusao = ff.create_annotated_heatmap(\n",
    "    z=matriz_confusao,\n",
    "    x=['Previsto Negativo', 'Previsto Positivo'],\n",
    "    y=['Real Negativo', 'Real Positivo'],\n",
    "    colorscale='blues'\n",
    ")\n",
    "fig_matriz_confusao.update_layout(title='Matriz de Confusão', xaxis_title='Previsões', yaxis_title='Valores Reais')\n",
    "fig_matriz_confusao.show()\n",
    "\n"
   ]
  }
 ],
 "metadata": {
  "kernelspec": {
   "display_name": "Python 3",
   "language": "python",
   "name": "python3"
  },
  "language_info": {
   "codemirror_mode": {
    "name": "ipython",
    "version": 3
   },
   "file_extension": ".py",
   "mimetype": "text/x-python",
   "name": "python",
   "nbconvert_exporter": "python",
   "pygments_lexer": "ipython3",
   "version": "3.10.12"
  },
  "orig_nbformat": 4
 },
 "nbformat": 4,
 "nbformat_minor": 2
}
