{
 "cells": [
  {
   "cell_type": "code",
   "execution_count": 1,
   "metadata": {},
   "outputs": [
    {
     "name": "stderr",
     "output_type": "stream",
     "text": [
      "C:\\Users\\wms_1\\AppData\\Local\\Temp\\ipykernel_9352\\216825972.py:5: DtypeWarning: Columns (47,48) have mixed types. Specify dtype option on import or set low_memory=False.\n",
      "  df = pd.read_csv('datasetPT.csv', sep=';', encoding='iso-8859-1')\n"
     ]
    }
   ],
   "source": [
    "import pandas as pd\n",
    "\n",
    "\n",
    "# Carregar o arquivo CSV em um DataFrame\n",
    "df = pd.read_csv('datasetPT.csv', sep=';', encoding='iso-8859-1')"
   ]
  },
  {
   "cell_type": "code",
   "execution_count": null,
   "metadata": {},
   "outputs": [],
   "source": [
    "df.head(10)"
   ]
  },
  {
   "cell_type": "code",
   "execution_count": null,
   "metadata": {},
   "outputs": [],
   "source": [
    "df"
   ]
  },
  {
   "cell_type": "code",
   "execution_count": null,
   "metadata": {},
   "outputs": [],
   "source": [
    "df.tail()"
   ]
  },
  {
   "cell_type": "code",
   "execution_count": 8,
   "metadata": {},
   "outputs": [
    {
     "data": {
      "text/plain": [
       "Index(['ID_Encontro', 'ID_Paciente', 'Identificacao_Hospital', 'Idade',\n",
       "       'indice_Massa_Corporal_IMC_', 'Cirurgia_Eletiva', 'Etnia', 'Genero',\n",
       "       'Altura', 'Fonte_de_admissao_UTI', 'ID_UTI', 'Tipo_estadia_UTI',\n",
       "       'Tipo_UTI', 'Dias_permanencia_preUTI', 'Peso', 'Diagnostico_Apache_II',\n",
       "       'Diagnostico_Apache_IIIj', 'Pos_operatorio_Apache',\n",
       "       'Insuficieencia_Renal_Aguda_Apache', 'Escala_Coma_Glasgow_Olhos_Apache',\n",
       "       'Escala_Coma_Glasgow_Movimento_Apache',\n",
       "       'Escala_Coma_Glasgow_Incapacidade_Apache',\n",
       "       'Escala_Coma_Glasgow_Verbal_Apache', 'FrequênciaCardíaca_Apache',\n",
       "       'Intubado_Apache', 'PresArterial_MediaApache',\n",
       "       'FrequenciaRespiratoria_Apache', 'temp_apache', 'Ventilado_Apache',\n",
       "       'PressArterial_DiastolicaMaxima_Primeiras24h',\n",
       "       'PressArterial_DiastolicaMinima_Primeiras24h',\n",
       "       'PressArterial_Diastolica_Nao Invasiva_MaximaPrimeiras24h',\n",
       "       'PressArterial_Diast_NaoInvasiva_Min_Primeiras24h',\n",
       "       'Freq_card_max_p24h', 'Freq_card_min_p24h',\n",
       "       'Press_arterial_med_maxP24h', 'Press_arterial_med_minP24h',\n",
       "       'Press_arterial_med_Ninvasiva_maxP24h',\n",
       "       'Press_arterial_med_Ninvasiva_minP24h', 'Freq_resp_maxP24h',\n",
       "       'Freq_resp_minP24h', 'Satur_max_oxigênio_SpO2_24h',\n",
       "       'Satur_min_oxigênio_SpO2_24h', 'PressArter_SistMaxP24h',\n",
       "       'PressArter_SistMinP24h', 'PressArter_SistMax_NinvP24h',\n",
       "       'PressArter_SistMin_NinvP24h', 'TemperaturaMaxP24h',\n",
       "       'TemperaturaMinP24h', 'PressArterialDiast_Max1Hora',\n",
       "       'PressArterialDiast_Min1Hora', 'PressArterialDiast_MaxNinv1Hora',\n",
       "       'PressArterialDiast_MinNinv1Hora', 'FreqCardMax1Hora',\n",
       "       'FreqCardMin1Hora', 'PressArtMed_Max1Hora', 'PressArtMed_Min1Hora',\n",
       "       'PressArtMed_Max_Ninv1Hora', 'PressArtMed_Min_Ninv1Hora',\n",
       "       'FreqRespMax1Hora', 'FreqRespMin1Hora', 'SaturMax_oxig_SpO2_1hora',\n",
       "       'SaturMin_oxig_SpO2_1hora', 'PressArtSist_Max1Hora',\n",
       "       'PressArtSist_Min1Hora', 'PressArtSist_MaxNinv1Hora',\n",
       "       'PressArtSist_MinNinv1Hora', 'NivMax_glicose_P24h',\n",
       "       'NivMin_glicose_P24h', 'NivMax_potacio_P24h', 'NivMin_potacio_P24h',\n",
       "       'ProbMorte_Hospital_Apache_IVa', 'ProbMorte_UTI_Apache_IVa', 'AIDS',\n",
       "       'Cirrose', 'Diabetes_Mellitus', 'InsufHepatica', 'imunossupressao',\n",
       "       'Leucemia', 'Linfoma', 'Tumor_Solido_Metástase',\n",
       "       'Sistema_de_CorpoApache_IIIj', 'Sistema_carroceriaApache_II',\n",
       "       'Morte_Hospitalar'],\n",
       "      dtype='object')"
      ]
     },
     "execution_count": 8,
     "metadata": {},
     "output_type": "execute_result"
    }
   ],
   "source": [
    "df.columns"
   ]
  },
  {
   "cell_type": "code",
   "execution_count": null,
   "metadata": {},
   "outputs": [],
   "source": []
  }
 ],
 "metadata": {
  "kernelspec": {
   "display_name": "base",
   "language": "python",
   "name": "python3"
  },
  "language_info": {
   "codemirror_mode": {
    "name": "ipython",
    "version": 3
   },
   "file_extension": ".py",
   "mimetype": "text/x-python",
   "name": "python",
   "nbconvert_exporter": "python",
   "pygments_lexer": "ipython3",
   "version": "3.10.9"
  },
  "orig_nbformat": 4
 },
 "nbformat": 4,
 "nbformat_minor": 2
}
