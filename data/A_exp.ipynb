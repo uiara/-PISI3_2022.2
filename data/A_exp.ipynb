{
 "cells": [
  {
   "cell_type": "code",
   "execution_count": 1,
   "metadata": {},
   "outputs": [
    {
     "name": "stderr",
     "output_type": "stream",
     "text": [
      "C:\\Users\\wms_1\\AppData\\Local\\Temp\\ipykernel_9352\\216825972.py:5: DtypeWarning: Columns (47,48) have mixed types. Specify dtype option on import or set low_memory=False.\n",
      "  df = pd.read_csv('datasetPT.csv', sep=';', encoding='iso-8859-1')\n"
     ]
    }
   ],
   "source": [
    "import pandas as pd\n",
    "\n",
    "\n",
    "# Carregar o arquivo CSV em um DataFrame\n",
    "df = pd.read_csv('datasetPT.csv', sep=';', encoding='iso-8859-1')"
   ]
  },
  {
   "cell_type": "code",
   "execution_count": null,
   "metadata": {},
   "outputs": [],
   "source": [
    "df.head(10)"
   ]
  },
  {
   "cell_type": "code",
   "execution_count": null,
   "metadata": {},
   "outputs": [],
   "source": [
    "df"
   ]
  },
  {
   "cell_type": "code",
   "execution_count": null,
   "metadata": {},
   "outputs": [],
   "source": [
    "df.tail()"
   ]
  },
  {
   "cell_type": "code",
   "execution_count": null,
   "metadata": {},
   "outputs": [],
   "source": [
    "df.columns"
   ]
  },
  {
   "cell_type": "code",
   "execution_count": null,
   "metadata": {},
   "outputs": [],
   "source": [
    "display(df)"
   ]
  },
  {
   "cell_type": "code",
   "execution_count": 10,
   "metadata": {},
   "outputs": [
    {
     "name": "stdout",
     "output_type": "stream",
     "text": [
      "<class 'pandas.core.frame.DataFrame'>\n",
      "RangeIndex: 91713 entries, 0 to 91712\n",
      "Data columns (total 84 columns):\n",
      " #   Column                                                    Non-Null Count  Dtype  \n",
      "---  ------                                                    --------------  -----  \n",
      " 0   ID_Encontro                                               91713 non-null  int64  \n",
      " 1   ID_Paciente                                               91713 non-null  int64  \n",
      " 2   Identificacao_Hospital                                    91713 non-null  int64  \n",
      " 3   Idade                                                     87485 non-null  float64\n",
      " 4   indice_Massa_Corporal_IMC_                                88284 non-null  object \n",
      " 5   Cirurgia_Eletiva                                          91713 non-null  int64  \n",
      " 6   Etnia                                                     90318 non-null  object \n",
      " 7   Genero                                                    91688 non-null  object \n",
      " 8   Altura                                                    90379 non-null  float64\n",
      " 9   Fonte_de_admissao_UTI                                     91601 non-null  object \n",
      " 10  ID_UTI                                                    91713 non-null  int64  \n",
      " 11  Tipo_estadia_UTI                                          91713 non-null  object \n",
      " 12  Tipo_UTI                                                  91713 non-null  object \n",
      " 13  Dias_permanencia_preUTI                                   91713 non-null  object \n",
      " 14  Peso                                                      88993 non-null  float64\n",
      " 15  Diagnostico_Apache_II                                     90051 non-null  float64\n",
      " 16  Diagnostico_Apache_IIIj                                   90612 non-null  float64\n",
      " 17  Pos_operatorio_Apache                                     91713 non-null  int64  \n",
      " 18  Insuficieencia_Renal_Aguda_Apache                         90998 non-null  float64\n",
      " 19  Escala_Coma_Glasgow_Olhos_Apache                          89812 non-null  float64\n",
      " 20  Escala_Coma_Glasgow_Movimento_Apache                      89812 non-null  float64\n",
      " 21  Escala_Coma_Glasgow_Incapacidade_Apache                   90676 non-null  float64\n",
      " 22  Escala_Coma_Glasgow_Verbal_Apache                         89812 non-null  float64\n",
      " 23  FrequênciaCardíaca_Apache                                 90835 non-null  float64\n",
      " 24  Intubado_Apache                                           90998 non-null  float64\n",
      " 25  PresArterial_MediaApache                                  90719 non-null  float64\n",
      " 26  FrequenciaRespiratoria_Apache                             90479 non-null  float64\n",
      " 27  temp_apache                                               87605 non-null  float64\n",
      " 28  Ventilado_Apache                                          90998 non-null  float64\n",
      " 29  PressArterial_DiastolicaMaxima_Primeiras24h               91548 non-null  float64\n",
      " 30  PressArterial_DiastolicaMinima_Primeiras24h               91548 non-null  float64\n",
      " 31  PressArterial_Diastolica_Nao Invasiva_MaximaPrimeiras24h  90673 non-null  float64\n",
      " 32  PressArterial_Diast_NaoInvasiva_Min_Primeiras24h          90673 non-null  float64\n",
      " 33  Freq_card_max_p24h                                        91568 non-null  float64\n",
      " 34  Freq_card_min_p24h                                        91568 non-null  float64\n",
      " 35  Press_arterial_med_maxP24h                                91493 non-null  float64\n",
      " 36  Press_arterial_med_minP24h                                91493 non-null  float64\n",
      " 37  Press_arterial_med_Ninvasiva_maxP24h                      90234 non-null  float64\n",
      " 38  Press_arterial_med_Ninvasiva_minP24h                      90234 non-null  float64\n",
      " 39  Freq_resp_maxP24h                                         91328 non-null  float64\n",
      " 40  Freq_resp_minP24h                                         91328 non-null  float64\n",
      " 41  Satur_max_oxigênio_SpO2_24h                               91380 non-null  float64\n",
      " 42  Satur_min_oxigênio_SpO2_24h                               91380 non-null  float64\n",
      " 43  PressArter_SistMaxP24h                                    91554 non-null  float64\n",
      " 44  PressArter_SistMinP24h                                    91554 non-null  float64\n",
      " 45  PressArter_SistMax_NinvP24h                               90686 non-null  float64\n",
      " 46  PressArter_SistMin_NinvP24h                               90686 non-null  float64\n",
      " 47  TemperaturaMaxP24h                                        89389 non-null  object \n",
      " 48  TemperaturaMinP24h                                        89389 non-null  object \n",
      " 49  PressArterialDiast_Max1Hora                               88094 non-null  float64\n",
      " 50  PressArterialDiast_Min1Hora                               88094 non-null  float64\n",
      " 51  PressArterialDiast_MaxNinv1Hora                           84363 non-null  float64\n",
      " 52  PressArterialDiast_MinNinv1Hora                           84363 non-null  float64\n",
      " 53  FreqCardMax1Hora                                          88923 non-null  float64\n",
      " 54  FreqCardMin1Hora                                          88923 non-null  float64\n",
      " 55  PressArtMed_Max1Hora                                      87074 non-null  float64\n",
      " 56  PressArtMed_Min1Hora                                      87074 non-null  float64\n",
      " 57  PressArtMed_Max_Ninv1Hora                                 82629 non-null  float64\n",
      " 58  PressArtMed_Min_Ninv1Hora                                 82629 non-null  float64\n",
      " 59  FreqRespMax1Hora                                          87356 non-null  float64\n",
      " 60  FreqRespMin1Hora                                          87356 non-null  float64\n",
      " 61  SaturMax_oxig_SpO2_1hora                                  87528 non-null  float64\n",
      " 62  SaturMin_oxig_SpO2_1hora                                  87528 non-null  float64\n",
      " 63  PressArtSist_Max1Hora                                     88102 non-null  float64\n",
      " 64  PressArtSist_Min1Hora                                     88102 non-null  float64\n",
      " 65  PressArtSist_MaxNinv1Hora                                 84372 non-null  float64\n",
      " 66  PressArtSist_MinNinv1Hora                                 84372 non-null  float64\n",
      " 67  NivMax_glicose_P24h                                       85906 non-null  float64\n",
      " 68  NivMin_glicose_P24h                                       85906 non-null  float64\n",
      " 69  NivMax_potacio_P24h                                       82128 non-null  float64\n",
      " 70  NivMin_potacio_P24h                                       82128 non-null  float64\n",
      " 71  ProbMorte_Hospital_Apache_IVa                             83766 non-null  float64\n",
      " 72  ProbMorte_UTI_Apache_IVa                                  83766 non-null  float64\n",
      " 73  AIDS                                                      90998 non-null  float64\n",
      " 74  Cirrose                                                   90998 non-null  float64\n",
      " 75  Diabetes_Mellitus                                         90998 non-null  float64\n",
      " 76  InsufHepatica                                             90998 non-null  float64\n",
      " 77  imunossupressao                                           90998 non-null  float64\n",
      " 78  Leucemia                                                  90998 non-null  float64\n",
      " 79  Linfoma                                                   90998 non-null  float64\n",
      " 80  Tumor_Solido_Metástase                                    90998 non-null  float64\n",
      " 81  Sistema_de_CorpoApache_IIIj                               90051 non-null  object \n",
      " 82  Sistema_carroceriaApache_II                               90051 non-null  object \n",
      " 83  Morte_Hospitalar                                          91713 non-null  int64  \n",
      "dtypes: float64(66), int64(7), object(11)\n",
      "memory usage: 58.8+ MB\n"
     ]
    }
   ],
   "source": [
    "df.info()"
   ]
  }
 ],
 "metadata": {
  "kernelspec": {
   "display_name": "base",
   "language": "python",
   "name": "python3"
  },
  "language_info": {
   "codemirror_mode": {
    "name": "ipython",
    "version": 3
   },
   "file_extension": ".py",
   "mimetype": "text/x-python",
   "name": "python",
   "nbconvert_exporter": "python",
   "pygments_lexer": "ipython3",
   "version": "3.10.9"
  },
  "orig_nbformat": 4
 },
 "nbformat": 4,
 "nbformat_minor": 2
}
