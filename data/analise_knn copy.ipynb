{
 "cells": [
  {
   "cell_type": "code",
   "execution_count": 18,
   "metadata": {},
   "outputs": [],
   "source": [
    "import pandas as pd\n",
    "import plotly.express as px\n"
   ]
  },
  {
   "cell_type": "code",
   "execution_count": 19,
   "metadata": {},
   "outputs": [],
   "source": [
    "df = pd.read_parquet('/home/bianka/PISI3_2022.2/data/dataset_renomeado.parquet')\n",
    "df = df[['ventilado_apache','tipo_estadia_uti', 'd1_frequencia_cardiaca_maxima',\n",
    "         'd1_frequencia_cardiaca_minima', 'h1_frequencia_respiratoria_maxima',\n",
    "         'h1_frequencia_respiratoria_minima','h1_spO2_maximo',\n",
    "         'd1_spO2_minimo','d1_temperatura_minima',\n",
    "         'd1_temperatura_maxima', 'morte_hospital']]\n",
    "df = df.dropna()\n"
   ]
  },
  {
   "cell_type": "markdown",
   "metadata": {},
   "source": [
    "Verificando quantas colunas ficaram após remover todas as linhas vazias das colunas selecionadas"
   ]
  },
  {
   "cell_type": "code",
   "execution_count": 20,
   "metadata": {},
   "outputs": [
    {
     "name": "stdout",
     "output_type": "stream",
     "text": [
      "<class 'pandas.core.frame.DataFrame'>\n",
      "Int64Index: 83455 entries, 0 to 91712\n",
      "Data columns (total 11 columns):\n",
      " #   Column                             Non-Null Count  Dtype  \n",
      "---  ------                             --------------  -----  \n",
      " 0   ventilado_apache                   83455 non-null  float64\n",
      " 1   tipo_estadia_uti                   83455 non-null  object \n",
      " 2   d1_frequencia_cardiaca_maxima      83455 non-null  float64\n",
      " 3   d1_frequencia_cardiaca_minima      83455 non-null  float64\n",
      " 4   h1_frequencia_respiratoria_maxima  83455 non-null  float64\n",
      " 5   h1_frequencia_respiratoria_minima  83455 non-null  float64\n",
      " 6   h1_spO2_maximo                     83455 non-null  float64\n",
      " 7   d1_spO2_minimo                     83455 non-null  float64\n",
      " 8   d1_temperatura_minima              83455 non-null  float64\n",
      " 9   d1_temperatura_maxima              83455 non-null  float64\n",
      " 10  morte_hospital                     83455 non-null  int64  \n",
      "dtypes: float64(9), int64(1), object(1)\n",
      "memory usage: 7.6+ MB\n"
     ]
    }
   ],
   "source": [
    "df.info()"
   ]
  },
  {
   "cell_type": "markdown",
   "metadata": {},
   "source": [
    "Transformando a coluna categórica do de tipo_estadia_uti em colunas binárias "
   ]
  },
  {
   "cell_type": "code",
   "execution_count": 21,
   "metadata": {},
   "outputs": [],
   "source": [
    "\n",
    "one_hot_encoded = pd.get_dummies(df['tipo_estadia_uti'])\n",
    "\n",
    "df = pd.concat([df, one_hot_encoded], axis=1)\n"
   ]
  },
  {
   "cell_type": "markdown",
   "metadata": {},
   "source": [
    "## Rotulação das colunas e conversão para binário para tentar melhorar os resultados do KNN"
   ]
  },
  {
   "cell_type": "markdown",
   "metadata": {},
   "source": [
    "### Coluna primeiras_24_horas_frequencia_cardiaca_maxima"
   ]
  },
  {
   "cell_type": "markdown",
   "metadata": {},
   "source": [
    "#### Categorização da coluna d1_frequencia_cardiaca_maxima"
   ]
  },
  {
   "cell_type": "code",
   "execution_count": 22,
   "metadata": {},
   "outputs": [],
   "source": [
    "def categorizar_fc_maxima(fc):\n",
    "    if fc < 60:\n",
    "        return 'primeiras_24_horas_frequencia_cardiaca_maxima_muito_baixa'\n",
    "    elif 60 <= fc < 70:\n",
    "        return 'primeiras_24_horas_frequencia_cardiaca_maxima_baixa'\n",
    "    elif 70 <= fc < 100:\n",
    "        return 'primeiras_24_horas_frequencia_cardiaca_maxima_normal'\n",
    "    elif 100 <= fc < 120:\n",
    "        return 'primeiras_24_horas_frequencia_cardiaca_maxima_elevada'\n",
    "    else:\n",
    "        return 'primeiras_24_horas_frequencia_cardiaca_maxima_muito_elevada'\n",
    "\n",
    "df['categoria_fc_maxima'] = df['d1_frequencia_cardiaca_maxima'].apply(categorizar_fc_maxima)\n",
    "\n",
    "one_hot_encoded = pd.get_dummies(df['categoria_fc_maxima'])\n",
    "\n",
    "df = pd.concat([df, one_hot_encoded], axis=1)\n",
    "\n",
    "df = df.drop('categoria_fc_maxima', axis=1)\n",
    "\n"
   ]
  },
  {
   "cell_type": "markdown",
   "metadata": {},
   "source": [
    "### Coluna primeiras_24_horas_frequencia_cardiaca_minima"
   ]
  },
  {
   "cell_type": "markdown",
   "metadata": {},
   "source": [
    "remoção de todas as linhas com a frequência cardiaca menor que 10"
   ]
  },
  {
   "cell_type": "code",
   "execution_count": 23,
   "metadata": {},
   "outputs": [],
   "source": [
    "df = df[~((df['d1_frequencia_cardiaca_minima'] >= 0) & (df['d1_frequencia_cardiaca_minima'] <= 9))]\n"
   ]
  },
  {
   "cell_type": "code",
   "execution_count": 24,
   "metadata": {},
   "outputs": [],
   "source": [
    "def categorizar_fc_minima(fc):\n",
    "    if fc < 60:\n",
    "        return 'primeiras_24_horas_frequencia_cardiaca_minima_muito_baixa'\n",
    "    elif 60 <= fc < 70:\n",
    "        return 'primeiras_24_horas_frequencia_cardiaca_minima_baixa'\n",
    "    elif 70 <= fc < 100:\n",
    "        return 'primeiras_24_horas_frequencia_cardiaca_minima_normal'\n",
    "    elif 100 <= fc < 120:\n",
    "        return 'primeiras_24_horas_frequencia_cardiaca_minima_elevada'\n",
    "    else:\n",
    "        return 'primeiras_24_horas_frequencia_cardiaca_minima_muito_elevada'\n",
    "\n",
    "df['categoria_fc_minima'] = df['d1_frequencia_cardiaca_minima'].apply(categorizar_fc_maxima)\n",
    "\n",
    "df = df.drop('categoria_fc_minima', axis=1)\n",
    "\n"
   ]
  },
  {
   "cell_type": "markdown",
   "metadata": {},
   "source": [
    "### Colunas h1_frequencia_respiratoria_maxima"
   ]
  },
  {
   "cell_type": "code",
   "execution_count": 25,
   "metadata": {},
   "outputs": [],
   "source": [
    "def categorizar_fr(fr):\n",
    "    if fr < 12:\n",
    "        return 'primeira_hora_frequencia_respiratoria_maxima_muito_baixa'\n",
    "    elif 12 <= fr < 16:\n",
    "        return 'primeira_hora_frequencia_respiratoria_maxima_baixa'\n",
    "    elif 16 <= fr < 20:\n",
    "        return 'primeira_hora_frequencia_respiratoria_maxima_normal'\n",
    "    elif 20 <= fr < 24:\n",
    "        return 'primeira_hora_frequencia_respiratoria_maxima_elevada'\n",
    "    else:\n",
    "        return 'primeira_hora_frequencia_respiratoria_maxima_muito elevada'\n",
    "\n",
    "df['categoria_frequencia_respiratoria_maxima'] = df['h1_frequencia_respiratoria_maxima'].apply(categorizar_fr)\n",
    "\n",
    "one_hot_encoded = pd.get_dummies(df['categoria_frequencia_respiratoria_maxima'])\n",
    "\n",
    "df = pd.concat([df, one_hot_encoded], axis=1)\n",
    "\n",
    "df = df.drop('categoria_frequencia_respiratoria_maxima', axis=1)\n"
   ]
  },
  {
   "cell_type": "markdown",
   "metadata": {},
   "source": [
    "### Colunas d1_spO2_minimo\n",
    "\n",
    "Saturação \n"
   ]
  },
  {
   "cell_type": "markdown",
   "metadata": {},
   "source": [
    "Remoção de todas as linhas com a saturação menor que 20"
   ]
  },
  {
   "cell_type": "code",
   "execution_count": 26,
   "metadata": {},
   "outputs": [],
   "source": [
    "df = df[~((df['d1_spO2_minimo'] <= 20))]\n"
   ]
  },
  {
   "cell_type": "code",
   "execution_count": 27,
   "metadata": {},
   "outputs": [],
   "source": [
    "def categorize_saturacao(sat):\n",
    "    if sat < 85:\n",
    "        return 'saturacao_primieras_vinte_quatro_horas_minima_muito_baixa'\n",
    "    elif sat < 90:\n",
    "        return 'saturacao_primieras_vinte_quatro_horas_minima_baixa'\n",
    "    elif sat < 95:\n",
    "        return 'saturacao_primieras_vinte_quatro_horas_minima_moderada'\n",
    "    elif sat < 100:\n",
    "        return 'saturacao_primieras_vinte_quatro_horas_minima_boa'\n",
    "\n",
    "\n",
    "df['categoria_d1_spO2_minimo'] = df['d1_spO2_minimo'].apply(categorizar_fr)\n",
    "\n",
    "one_hot_encoded = pd.get_dummies(df['categoria_d1_spO2_minimo'])\n",
    "\n",
    "df = pd.concat([df, one_hot_encoded], axis=1)\n",
    "\n",
    "df = df.drop('categoria_d1_spO2_minimo', axis=1)\n"
   ]
  },
  {
   "cell_type": "markdown",
   "metadata": {},
   "source": [
    "### Colunas d1_temperatura_minima\n"
   ]
  },
  {
   "cell_type": "code",
   "execution_count": 28,
   "metadata": {},
   "outputs": [],
   "source": [
    "def categorize_temperatura(temp):\n",
    "    if temp < 35:\n",
    "        return 'temperatura_minima_primieras_vinte_quatro_horas_hipotermia'\n",
    "    if temp < 37:\n",
    "        return 'temperatura_minima_primieras_vinte_quatro_horas_normal'\n",
    "    if temp >= 37:\n",
    "        return 'temperatura_minima_primieras_vinte_quatro_horas_febre'\n",
    "\n",
    "df['categoria_d1_temperatura_minima'] = df['d1_temperatura_minima'].apply(categorize_temperatura)\n",
    "\n",
    "one_hot_encoded = pd.get_dummies(df['categoria_d1_temperatura_minima'])\n",
    "\n",
    "df = pd.concat([df, one_hot_encoded], axis=1)\n",
    "\n",
    "df = df.drop('categoria_d1_temperatura_minima', axis=1)\n"
   ]
  },
  {
   "cell_type": "code",
   "execution_count": 29,
   "metadata": {},
   "outputs": [],
   "source": [
    "df = df.drop(['d1_frequencia_cardiaca_maxima',\n",
    "       'd1_frequencia_cardiaca_minima', 'h1_frequencia_respiratoria_maxima',\n",
    "       'd1_spO2_minimo', 'd1_temperatura_minima','tipo_estadia_uti'], axis=1)"
   ]
  },
  {
   "cell_type": "code",
   "execution_count": 30,
   "metadata": {},
   "outputs": [
    {
     "name": "stdout",
     "output_type": "stream",
     "text": [
      "<class 'pandas.core.frame.DataFrame'>\n",
      "Int64Index: 82600 entries, 0 to 91712\n",
      "Data columns (total 23 columns):\n",
      " #   Column                                                       Non-Null Count  Dtype  \n",
      "---  ------                                                       --------------  -----  \n",
      " 0   ventilado_apache                                             82600 non-null  float64\n",
      " 1   h1_frequencia_respiratoria_minima                            82600 non-null  float64\n",
      " 2   h1_spO2_maximo                                               82600 non-null  float64\n",
      " 3   d1_temperatura_maxima                                        82600 non-null  float64\n",
      " 4   morte_hospital                                               82600 non-null  int64  \n",
      " 5   admit                                                        82600 non-null  uint8  \n",
      " 6   readmit                                                      82600 non-null  uint8  \n",
      " 7   transfer                                                     82600 non-null  uint8  \n",
      " 8   primeiras_24_horas_frequencia_cardiaca_maxima_baixa          82600 non-null  uint8  \n",
      " 9   primeiras_24_horas_frequencia_cardiaca_maxima_elevada        82600 non-null  uint8  \n",
      " 10  primeiras_24_horas_frequencia_cardiaca_maxima_muito_baixa    82600 non-null  uint8  \n",
      " 11  primeiras_24_horas_frequencia_cardiaca_maxima_muito_elevada  82600 non-null  uint8  \n",
      " 12  primeiras_24_horas_frequencia_cardiaca_maxima_normal         82600 non-null  uint8  \n",
      " 13  primeira_hora_frequencia_respiratoria_maxima_baixa           82600 non-null  uint8  \n",
      " 14  primeira_hora_frequencia_respiratoria_maxima_elevada         82600 non-null  uint8  \n",
      " 15  primeira_hora_frequencia_respiratoria_maxima_muito elevada   82600 non-null  uint8  \n",
      " 16  primeira_hora_frequencia_respiratoria_maxima_muito_baixa     82600 non-null  uint8  \n",
      " 17  primeira_hora_frequencia_respiratoria_maxima_normal          82600 non-null  uint8  \n",
      " 18  primeira_hora_frequencia_respiratoria_maxima_elevada         82600 non-null  uint8  \n",
      " 19  primeira_hora_frequencia_respiratoria_maxima_muito elevada   82600 non-null  uint8  \n",
      " 20  temperatura_minima_primieras_vinte_quatro_horas_febre        82600 non-null  uint8  \n",
      " 21  temperatura_minima_primieras_vinte_quatro_horas_hipotermia   82600 non-null  uint8  \n",
      " 22  temperatura_minima_primieras_vinte_quatro_horas_normal       82600 non-null  uint8  \n",
      "dtypes: float64(4), int64(1), uint8(18)\n",
      "memory usage: 5.2 MB\n"
     ]
    }
   ],
   "source": [
    "df.info()"
   ]
  },
  {
   "cell_type": "code",
   "execution_count": 31,
   "metadata": {},
   "outputs": [],
   "source": [
    "df = df.astype(int)\n"
   ]
  },
  {
   "cell_type": "code",
   "execution_count": 32,
   "metadata": {},
   "outputs": [
    {
     "name": "stdout",
     "output_type": "stream",
     "text": [
      "Acurácia do modelo: 0.90\n",
      "Relatório de classificação:\n",
      "              precision    recall  f1-score   support\n",
      "\n",
      "           0       0.93      0.97      0.95     15139\n",
      "           1       0.32      0.14      0.19      1381\n",
      "\n",
      "    accuracy                           0.90     16520\n",
      "   macro avg       0.62      0.56      0.57     16520\n",
      "weighted avg       0.87      0.90      0.89     16520\n",
      "\n",
      "Matriz de confusão:\n",
      "[[14724   415]\n",
      " [ 1188   193]]\n"
     ]
    }
   ],
   "source": [
    "from sklearn.model_selection import train_test_split\n",
    "from sklearn.preprocessing import StandardScaler\n",
    "from sklearn.neighbors import KNeighborsClassifier\n",
    "from sklearn.metrics import accuracy_score, classification_report, confusion_matrix\n",
    "\n",
    "from imblearn.over_sampling import SMOTE\n",
    "\n",
    "\n",
    "y = df['morte_hospital']\n",
    "X = df.drop(['morte_hospital'], axis=1)\n",
    "\n",
    "X_train, X_test, y_train, y_test = train_test_split(X, y, test_size=0.2, random_state=42)\n",
    "\n",
    "\n",
    "\n",
    "scaler = StandardScaler()\n",
    "X_train_scaled = scaler.fit_transform(X_train)\n",
    "X_test_scaled = scaler.transform(X_test)\n",
    "\n",
    "knn_classifier = KNeighborsClassifier(n_neighbors=3)  \n",
    "\n",
    "knn_classifier.fit(X_train_scaled, y_train)\n",
    "\n",
    "\n",
    "y_pred = knn_classifier.predict(X_test_scaled)\n",
    "\n",
    "# Avaliar o desempenho do modelo\n",
    "accuracy = accuracy_score(y_test, y_pred)\n",
    "print(f\"Acurácia do modelo: {accuracy:.2f}\")\n",
    "\n",
    "print(\"Relatório de classificação:\")\n",
    "print(classification_report(y_test, y_pred))\n",
    "\n",
    "print(\"Matriz de confusão:\")\n",
    "print(confusion_matrix(y_test, y_pred))\n"
   ]
  },
  {
   "cell_type": "markdown",
   "metadata": {},
   "source": [
    "## Aplica o Random Under Sampling (RUS) "
   ]
  },
  {
   "cell_type": "code",
   "execution_count": 33,
   "metadata": {},
   "outputs": [
    {
     "name": "stdout",
     "output_type": "stream",
     "text": [
      "Acurácia do modelo: 0.75\n",
      "Relatório de classificação:\n",
      "              precision    recall  f1-score   support\n",
      "\n",
      "           0       0.95      0.77      0.85     25066\n",
      "           1       0.17      0.53      0.26      2192\n",
      "\n",
      "    accuracy                           0.75     27258\n",
      "   macro avg       0.56      0.65      0.55     27258\n",
      "weighted avg       0.89      0.75      0.80     27258\n",
      "\n",
      "Matriz de confusão:\n",
      "[[19391  5675]\n",
      " [ 1030  1162]]\n"
     ]
    }
   ],
   "source": [
    "from sklearn.model_selection import train_test_split\n",
    "from sklearn.preprocessing import StandardScaler\n",
    "from sklearn.neighbors import KNeighborsClassifier\n",
    "from sklearn.metrics import accuracy_score, classification_report, confusion_matrix\n",
    "\n",
    "from imblearn.under_sampling import RandomUnderSampler\n",
    "\n",
    "y = df['morte_hospital']\n",
    "X = df.drop(['morte_hospital'], axis=1)\n",
    "\n",
    "X_train_temp, X_test, y_train_temp, y_test = train_test_split(X, y, test_size=0.33, random_state=42, stratify=y)\n",
    "\n",
    "# Aplicar undersampling apenas nos dados de treinamento\n",
    "rus = RandomUnderSampler(sampling_strategy='auto', random_state=42)  \n",
    "X_train_resampled, y_train_resampled = rus.fit_resample(X_train_temp, y_train_temp)\n",
    "\n",
    "X_train, _, y_train, _ = train_test_split(X_train_resampled, y_train_resampled, test_size=0.33, random_state=42, stratify=y_train_resampled)\n",
    "\n",
    "scaler = StandardScaler()\n",
    "X_train_scaled = scaler.fit_transform(X_train)\n",
    "X_test_scaled = scaler.transform(X_test)\n",
    "\n",
    "knn_classifier = KNeighborsClassifier(n_neighbors=4)  \n",
    "knn_classifier.fit(X_train_scaled, y_train)\n",
    "\n",
    "y_pred = knn_classifier.predict(X_test_scaled)\n",
    "\n",
    "# Avaliar o desempenho do modelo\n",
    "accuracy = accuracy_score(y_test, y_pred)\n",
    "print(f\"Acurácia do modelo: {accuracy:.2f}\")\n",
    "\n",
    "print(\"Relatório de classificação:\")\n",
    "print(classification_report(y_test, y_pred))\n",
    "\n",
    "print(\"Matriz de confusão:\")\n",
    "print(confusion_matrix(y_test, y_pred))\n"
   ]
  },
  {
   "cell_type": "code",
   "execution_count": null,
   "metadata": {},
   "outputs": [],
   "source": []
  }
 ],
 "metadata": {
  "kernelspec": {
   "display_name": "Python 3",
   "language": "python",
   "name": "python3"
  },
  "language_info": {
   "codemirror_mode": {
    "name": "ipython",
    "version": 3
   },
   "file_extension": ".py",
   "mimetype": "text/x-python",
   "name": "python",
   "nbconvert_exporter": "python",
   "pygments_lexer": "ipython3",
   "version": "3.10.12"
  },
  "orig_nbformat": 4
 },
 "nbformat": 4,
 "nbformat_minor": 2
}
