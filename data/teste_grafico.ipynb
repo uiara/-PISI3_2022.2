{
 "cells": [
  {
   "cell_type": "code",
   "execution_count": 1,
   "metadata": {},
   "outputs": [],
   "source": [
    "import pandas as pd \n",
    "import plotly.express as px\n"
   ]
  },
  {
   "cell_type": "code",
   "execution_count": null,
   "metadata": {},
   "outputs": [],
   "source": [
    "import plotly.express as px\n",
    "import pandas as pd\n",
    "\n",
    "# Dados de exemplo\n",
    "dados = pd.DataFrame({\n",
    "    'Idade': [25, 30, 35, 40, 45],\n",
    "    'Doenca1': [1, 0, 1, 0, 1],\n",
    "    'Doenca2': [0, 1, 1, 0, 0],\n",
    "    'Doenca3': [1, 1, 0, 1, 0]\n",
    "})\n",
    "\n",
    "# Função para criar o gráfico de barras\n",
    "def criar_grafico(idade, coluna_doenca):\n",
    "    df = dados[dados[coluna_doenca] == 1]\n",
    "    fig = px.bar(df, x='Idade', y=coluna_doenca, title=f'Correlação entre Idade e {coluna_doenca}')\n",
    "    fig.show()\n",
    "\n",
    "# Exemplo de uso\n",
    "criar_grafico(idade=30, coluna_doenca='Doenca1')\n"
   ]
  }
 ],
 "metadata": {
  "kernelspec": {
   "display_name": "Python 3",
   "language": "python",
   "name": "python3"
  },
  "language_info": {
   "codemirror_mode": {
    "name": "ipython",
    "version": 3
   },
   "file_extension": ".py",
   "mimetype": "text/x-python",
   "name": "python",
   "nbconvert_exporter": "python",
   "pygments_lexer": "ipython3",
   "version": "3.10.6"
  },
  "orig_nbformat": 4
 },
 "nbformat": 4,
 "nbformat_minor": 2
}
