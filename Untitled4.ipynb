{
  "nbformat": 4,
  "nbformat_minor": 0,
  "metadata": {
    "colab": {
      "provenance": [],
      "authorship_tag": "ABX9TyMZ5U7pA1Hiq9r6NXFkgWsi",
      "include_colab_link": true
    },
    "kernelspec": {
      "name": "python3",
      "display_name": "Python 3"
    },
    "language_info": {
      "name": "python"
    },
    "widgets": {
      "application/vnd.jupyter.widget-state+json": {
        "f2bc2b84f7c0458895b80b9afb9a9c87": {
          "model_module": "@jupyter-widgets/controls",
          "model_name": "HBoxModel",
          "model_module_version": "1.5.0",
          "state": {
            "_dom_classes": [],
            "_model_module": "@jupyter-widgets/controls",
            "_model_module_version": "1.5.0",
            "_model_name": "HBoxModel",
            "_view_count": null,
            "_view_module": "@jupyter-widgets/controls",
            "_view_module_version": "1.5.0",
            "_view_name": "HBoxView",
            "box_style": "",
            "children": [
              "IPY_MODEL_4b90a7e335c34eab96185b6184c82b2c",
              "IPY_MODEL_9a5f7d67af8f4c5981149649f75f2ef1",
              "IPY_MODEL_0df41c35b3e84b7b86aff8539fa65c50"
            ],
            "layout": "IPY_MODEL_f735adb80d554557bbd5abbbe211c9b2"
          }
        },
        "4b90a7e335c34eab96185b6184c82b2c": {
          "model_module": "@jupyter-widgets/controls",
          "model_name": "HTMLModel",
          "model_module_version": "1.5.0",
          "state": {
            "_dom_classes": [],
            "_model_module": "@jupyter-widgets/controls",
            "_model_module_version": "1.5.0",
            "_model_name": "HTMLModel",
            "_view_count": null,
            "_view_module": "@jupyter-widgets/controls",
            "_view_module_version": "1.5.0",
            "_view_name": "HTMLView",
            "description": "",
            "description_tooltip": null,
            "layout": "IPY_MODEL_beb30295c4344300b1fe584907acc66d",
            "placeholder": "​",
            "style": "IPY_MODEL_695c21b7da9a4879825a4bdfa25cdabf",
            "value": "Summarize dataset:   5%"
          }
        },
        "9a5f7d67af8f4c5981149649f75f2ef1": {
          "model_module": "@jupyter-widgets/controls",
          "model_name": "FloatProgressModel",
          "model_module_version": "1.5.0",
          "state": {
            "_dom_classes": [],
            "_model_module": "@jupyter-widgets/controls",
            "_model_module_version": "1.5.0",
            "_model_name": "FloatProgressModel",
            "_view_count": null,
            "_view_module": "@jupyter-widgets/controls",
            "_view_module_version": "1.5.0",
            "_view_name": "ProgressView",
            "bar_style": "",
            "description": "",
            "description_tooltip": null,
            "layout": "IPY_MODEL_bd26d1c33599499aab2cf37214118a61",
            "max": 5,
            "min": 0,
            "orientation": "horizontal",
            "style": "IPY_MODEL_f9d84c49814b4b2788b556bc76a7c868",
            "value": 5
          }
        },
        "0df41c35b3e84b7b86aff8539fa65c50": {
          "model_module": "@jupyter-widgets/controls",
          "model_name": "HTMLModel",
          "model_module_version": "1.5.0",
          "state": {
            "_dom_classes": [],
            "_model_module": "@jupyter-widgets/controls",
            "_model_module_version": "1.5.0",
            "_model_name": "HTMLModel",
            "_view_count": null,
            "_view_module": "@jupyter-widgets/controls",
            "_view_module_version": "1.5.0",
            "_view_name": "HTMLView",
            "description": "",
            "description_tooltip": null,
            "layout": "IPY_MODEL_33d60208a89544f7ab6c8b0a0f358e4d",
            "placeholder": "​",
            "style": "IPY_MODEL_4395bc345d084e9d8302e12131391990",
            "value": " 183/3692 [02:09&lt;17:32,  3.33it/s, scatter h1_diasbp_max, patient_id]"
          }
        },
        "f735adb80d554557bbd5abbbe211c9b2": {
          "model_module": "@jupyter-widgets/base",
          "model_name": "LayoutModel",
          "model_module_version": "1.2.0",
          "state": {
            "_model_module": "@jupyter-widgets/base",
            "_model_module_version": "1.2.0",
            "_model_name": "LayoutModel",
            "_view_count": null,
            "_view_module": "@jupyter-widgets/base",
            "_view_module_version": "1.2.0",
            "_view_name": "LayoutView",
            "align_content": null,
            "align_items": null,
            "align_self": null,
            "border": null,
            "bottom": null,
            "display": null,
            "flex": null,
            "flex_flow": null,
            "grid_area": null,
            "grid_auto_columns": null,
            "grid_auto_flow": null,
            "grid_auto_rows": null,
            "grid_column": null,
            "grid_gap": null,
            "grid_row": null,
            "grid_template_areas": null,
            "grid_template_columns": null,
            "grid_template_rows": null,
            "height": null,
            "justify_content": null,
            "justify_items": null,
            "left": null,
            "margin": null,
            "max_height": null,
            "max_width": null,
            "min_height": null,
            "min_width": null,
            "object_fit": null,
            "object_position": null,
            "order": null,
            "overflow": null,
            "overflow_x": null,
            "overflow_y": null,
            "padding": null,
            "right": null,
            "top": null,
            "visibility": null,
            "width": null
          }
        },
        "beb30295c4344300b1fe584907acc66d": {
          "model_module": "@jupyter-widgets/base",
          "model_name": "LayoutModel",
          "model_module_version": "1.2.0",
          "state": {
            "_model_module": "@jupyter-widgets/base",
            "_model_module_version": "1.2.0",
            "_model_name": "LayoutModel",
            "_view_count": null,
            "_view_module": "@jupyter-widgets/base",
            "_view_module_version": "1.2.0",
            "_view_name": "LayoutView",
            "align_content": null,
            "align_items": null,
            "align_self": null,
            "border": null,
            "bottom": null,
            "display": null,
            "flex": null,
            "flex_flow": null,
            "grid_area": null,
            "grid_auto_columns": null,
            "grid_auto_flow": null,
            "grid_auto_rows": null,
            "grid_column": null,
            "grid_gap": null,
            "grid_row": null,
            "grid_template_areas": null,
            "grid_template_columns": null,
            "grid_template_rows": null,
            "height": null,
            "justify_content": null,
            "justify_items": null,
            "left": null,
            "margin": null,
            "max_height": null,
            "max_width": null,
            "min_height": null,
            "min_width": null,
            "object_fit": null,
            "object_position": null,
            "order": null,
            "overflow": null,
            "overflow_x": null,
            "overflow_y": null,
            "padding": null,
            "right": null,
            "top": null,
            "visibility": null,
            "width": null
          }
        },
        "695c21b7da9a4879825a4bdfa25cdabf": {
          "model_module": "@jupyter-widgets/controls",
          "model_name": "DescriptionStyleModel",
          "model_module_version": "1.5.0",
          "state": {
            "_model_module": "@jupyter-widgets/controls",
            "_model_module_version": "1.5.0",
            "_model_name": "DescriptionStyleModel",
            "_view_count": null,
            "_view_module": "@jupyter-widgets/base",
            "_view_module_version": "1.2.0",
            "_view_name": "StyleView",
            "description_width": ""
          }
        },
        "bd26d1c33599499aab2cf37214118a61": {
          "model_module": "@jupyter-widgets/base",
          "model_name": "LayoutModel",
          "model_module_version": "1.2.0",
          "state": {
            "_model_module": "@jupyter-widgets/base",
            "_model_module_version": "1.2.0",
            "_model_name": "LayoutModel",
            "_view_count": null,
            "_view_module": "@jupyter-widgets/base",
            "_view_module_version": "1.2.0",
            "_view_name": "LayoutView",
            "align_content": null,
            "align_items": null,
            "align_self": null,
            "border": null,
            "bottom": null,
            "display": null,
            "flex": null,
            "flex_flow": null,
            "grid_area": null,
            "grid_auto_columns": null,
            "grid_auto_flow": null,
            "grid_auto_rows": null,
            "grid_column": null,
            "grid_gap": null,
            "grid_row": null,
            "grid_template_areas": null,
            "grid_template_columns": null,
            "grid_template_rows": null,
            "height": null,
            "justify_content": null,
            "justify_items": null,
            "left": null,
            "margin": null,
            "max_height": null,
            "max_width": null,
            "min_height": null,
            "min_width": null,
            "object_fit": null,
            "object_position": null,
            "order": null,
            "overflow": null,
            "overflow_x": null,
            "overflow_y": null,
            "padding": null,
            "right": null,
            "top": null,
            "visibility": null,
            "width": null
          }
        },
        "f9d84c49814b4b2788b556bc76a7c868": {
          "model_module": "@jupyter-widgets/controls",
          "model_name": "ProgressStyleModel",
          "model_module_version": "1.5.0",
          "state": {
            "_model_module": "@jupyter-widgets/controls",
            "_model_module_version": "1.5.0",
            "_model_name": "ProgressStyleModel",
            "_view_count": null,
            "_view_module": "@jupyter-widgets/base",
            "_view_module_version": "1.2.0",
            "_view_name": "StyleView",
            "bar_color": null,
            "description_width": ""
          }
        },
        "33d60208a89544f7ab6c8b0a0f358e4d": {
          "model_module": "@jupyter-widgets/base",
          "model_name": "LayoutModel",
          "model_module_version": "1.2.0",
          "state": {
            "_model_module": "@jupyter-widgets/base",
            "_model_module_version": "1.2.0",
            "_model_name": "LayoutModel",
            "_view_count": null,
            "_view_module": "@jupyter-widgets/base",
            "_view_module_version": "1.2.0",
            "_view_name": "LayoutView",
            "align_content": null,
            "align_items": null,
            "align_self": null,
            "border": null,
            "bottom": null,
            "display": null,
            "flex": null,
            "flex_flow": null,
            "grid_area": null,
            "grid_auto_columns": null,
            "grid_auto_flow": null,
            "grid_auto_rows": null,
            "grid_column": null,
            "grid_gap": null,
            "grid_row": null,
            "grid_template_areas": null,
            "grid_template_columns": null,
            "grid_template_rows": null,
            "height": null,
            "justify_content": null,
            "justify_items": null,
            "left": null,
            "margin": null,
            "max_height": null,
            "max_width": null,
            "min_height": null,
            "min_width": null,
            "object_fit": null,
            "object_position": null,
            "order": null,
            "overflow": null,
            "overflow_x": null,
            "overflow_y": null,
            "padding": null,
            "right": null,
            "top": null,
            "visibility": null,
            "width": null
          }
        },
        "4395bc345d084e9d8302e12131391990": {
          "model_module": "@jupyter-widgets/controls",
          "model_name": "DescriptionStyleModel",
          "model_module_version": "1.5.0",
          "state": {
            "_model_module": "@jupyter-widgets/controls",
            "_model_module_version": "1.5.0",
            "_model_name": "DescriptionStyleModel",
            "_view_count": null,
            "_view_module": "@jupyter-widgets/base",
            "_view_module_version": "1.2.0",
            "_view_name": "StyleView",
            "description_width": ""
          }
        }
      }
    }
  },
  "cells": [
    {
      "cell_type": "markdown",
      "metadata": {
        "id": "view-in-github",
        "colab_type": "text"
      },
      "source": [
        "<a href=\"https://colab.research.google.com/github/uiara/PISI3_2022.2/blob/main/Untitled4.ipynb\" target=\"_parent\"><img src=\"https://colab.research.google.com/assets/colab-badge.svg\" alt=\"Open In Colab\"/></a>"
      ]
    },
    {
      "cell_type": "code",
      "source": [
        "!pip install pandas-profiling"
      ],
      "metadata": {
        "colab": {
          "base_uri": "https://localhost:8080/"
        },
        "id": "NksuTNqHcCi4",
        "outputId": "0e31579b-783d-4128-8b33-e70c886d94c8"
      },
      "execution_count": 1,
      "outputs": [
        {
          "output_type": "stream",
          "name": "stdout",
          "text": [
            "Looking in indexes: https://pypi.org/simple, https://us-python.pkg.dev/colab-wheels/public/simple/\n",
            "Requirement already satisfied: pandas-profiling in /usr/local/lib/python3.10/dist-packages (3.6.6)\n",
            "Requirement already satisfied: ydata-profiling in /usr/local/lib/python3.10/dist-packages (from pandas-profiling) (4.2.0)\n",
            "Requirement already satisfied: scipy<1.11,>=1.4.1 in /usr/local/lib/python3.10/dist-packages (from ydata-profiling->pandas-profiling) (1.10.1)\n",
            "Requirement already satisfied: pandas!=1.4.0,<2,>1.1 in /usr/local/lib/python3.10/dist-packages (from ydata-profiling->pandas-profiling) (1.5.3)\n",
            "Requirement already satisfied: matplotlib<4,>=3.2 in /usr/local/lib/python3.10/dist-packages (from ydata-profiling->pandas-profiling) (3.7.1)\n",
            "Requirement already satisfied: pydantic<2,>=1.8.1 in /usr/local/lib/python3.10/dist-packages (from ydata-profiling->pandas-profiling) (1.10.7)\n",
            "Requirement already satisfied: PyYAML<6.1,>=5.0.0 in /usr/local/lib/python3.10/dist-packages (from ydata-profiling->pandas-profiling) (6.0)\n",
            "Requirement already satisfied: jinja2<3.2,>=2.11.1 in /usr/local/lib/python3.10/dist-packages (from ydata-profiling->pandas-profiling) (3.1.2)\n",
            "Requirement already satisfied: visions[type_image_path]==0.7.5 in /usr/local/lib/python3.10/dist-packages (from ydata-profiling->pandas-profiling) (0.7.5)\n",
            "Requirement already satisfied: numpy<1.24,>=1.16.0 in /usr/local/lib/python3.10/dist-packages (from ydata-profiling->pandas-profiling) (1.22.4)\n",
            "Requirement already satisfied: htmlmin==0.1.12 in /usr/local/lib/python3.10/dist-packages (from ydata-profiling->pandas-profiling) (0.1.12)\n",
            "Requirement already satisfied: phik<0.13,>=0.11.1 in /usr/local/lib/python3.10/dist-packages (from ydata-profiling->pandas-profiling) (0.12.3)\n",
            "Requirement already satisfied: requests<3,>=2.24.0 in /usr/local/lib/python3.10/dist-packages (from ydata-profiling->pandas-profiling) (2.27.1)\n",
            "Requirement already satisfied: tqdm<5,>=4.48.2 in /usr/local/lib/python3.10/dist-packages (from ydata-profiling->pandas-profiling) (4.65.0)\n",
            "Requirement already satisfied: seaborn<0.13,>=0.10.1 in /usr/local/lib/python3.10/dist-packages (from ydata-profiling->pandas-profiling) (0.12.2)\n",
            "Requirement already satisfied: multimethod<2,>=1.4 in /usr/local/lib/python3.10/dist-packages (from ydata-profiling->pandas-profiling) (1.9.1)\n",
            "Requirement already satisfied: statsmodels<1,>=0.13.2 in /usr/local/lib/python3.10/dist-packages (from ydata-profiling->pandas-profiling) (0.13.5)\n",
            "Requirement already satisfied: typeguard<3,>=2.13.2 in /usr/local/lib/python3.10/dist-packages (from ydata-profiling->pandas-profiling) (2.13.3)\n",
            "Requirement already satisfied: imagehash==4.3.1 in /usr/local/lib/python3.10/dist-packages (from ydata-profiling->pandas-profiling) (4.3.1)\n",
            "Requirement already satisfied: wordcloud>=1.9.1 in /usr/local/lib/python3.10/dist-packages (from ydata-profiling->pandas-profiling) (1.9.2)\n",
            "Requirement already satisfied: dacite>=1.8 in /usr/local/lib/python3.10/dist-packages (from ydata-profiling->pandas-profiling) (1.8.1)\n",
            "Requirement already satisfied: PyWavelets in /usr/local/lib/python3.10/dist-packages (from imagehash==4.3.1->ydata-profiling->pandas-profiling) (1.4.1)\n",
            "Requirement already satisfied: pillow in /usr/local/lib/python3.10/dist-packages (from imagehash==4.3.1->ydata-profiling->pandas-profiling) (8.4.0)\n",
            "Requirement already satisfied: attrs>=19.3.0 in /usr/local/lib/python3.10/dist-packages (from visions[type_image_path]==0.7.5->ydata-profiling->pandas-profiling) (23.1.0)\n",
            "Requirement already satisfied: networkx>=2.4 in /usr/local/lib/python3.10/dist-packages (from visions[type_image_path]==0.7.5->ydata-profiling->pandas-profiling) (3.1)\n",
            "Requirement already satisfied: tangled-up-in-unicode>=0.0.4 in /usr/local/lib/python3.10/dist-packages (from visions[type_image_path]==0.7.5->ydata-profiling->pandas-profiling) (0.2.0)\n",
            "Requirement already satisfied: MarkupSafe>=2.0 in /usr/local/lib/python3.10/dist-packages (from jinja2<3.2,>=2.11.1->ydata-profiling->pandas-profiling) (2.1.2)\n",
            "Requirement already satisfied: contourpy>=1.0.1 in /usr/local/lib/python3.10/dist-packages (from matplotlib<4,>=3.2->ydata-profiling->pandas-profiling) (1.0.7)\n",
            "Requirement already satisfied: cycler>=0.10 in /usr/local/lib/python3.10/dist-packages (from matplotlib<4,>=3.2->ydata-profiling->pandas-profiling) (0.11.0)\n",
            "Requirement already satisfied: fonttools>=4.22.0 in /usr/local/lib/python3.10/dist-packages (from matplotlib<4,>=3.2->ydata-profiling->pandas-profiling) (4.39.3)\n",
            "Requirement already satisfied: kiwisolver>=1.0.1 in /usr/local/lib/python3.10/dist-packages (from matplotlib<4,>=3.2->ydata-profiling->pandas-profiling) (1.4.4)\n",
            "Requirement already satisfied: packaging>=20.0 in /usr/local/lib/python3.10/dist-packages (from matplotlib<4,>=3.2->ydata-profiling->pandas-profiling) (23.1)\n",
            "Requirement already satisfied: pyparsing>=2.3.1 in /usr/local/lib/python3.10/dist-packages (from matplotlib<4,>=3.2->ydata-profiling->pandas-profiling) (3.0.9)\n",
            "Requirement already satisfied: python-dateutil>=2.7 in /usr/local/lib/python3.10/dist-packages (from matplotlib<4,>=3.2->ydata-profiling->pandas-profiling) (2.8.2)\n",
            "Requirement already satisfied: pytz>=2020.1 in /usr/local/lib/python3.10/dist-packages (from pandas!=1.4.0,<2,>1.1->ydata-profiling->pandas-profiling) (2022.7.1)\n",
            "Requirement already satisfied: joblib>=0.14.1 in /usr/local/lib/python3.10/dist-packages (from phik<0.13,>=0.11.1->ydata-profiling->pandas-profiling) (1.2.0)\n",
            "Requirement already satisfied: typing-extensions>=4.2.0 in /usr/local/lib/python3.10/dist-packages (from pydantic<2,>=1.8.1->ydata-profiling->pandas-profiling) (4.5.0)\n",
            "Requirement already satisfied: urllib3<1.27,>=1.21.1 in /usr/local/lib/python3.10/dist-packages (from requests<3,>=2.24.0->ydata-profiling->pandas-profiling) (1.26.15)\n",
            "Requirement already satisfied: certifi>=2017.4.17 in /usr/local/lib/python3.10/dist-packages (from requests<3,>=2.24.0->ydata-profiling->pandas-profiling) (2022.12.7)\n",
            "Requirement already satisfied: charset-normalizer~=2.0.0 in /usr/local/lib/python3.10/dist-packages (from requests<3,>=2.24.0->ydata-profiling->pandas-profiling) (2.0.12)\n",
            "Requirement already satisfied: idna<4,>=2.5 in /usr/local/lib/python3.10/dist-packages (from requests<3,>=2.24.0->ydata-profiling->pandas-profiling) (3.4)\n",
            "Requirement already satisfied: patsy>=0.5.2 in /usr/local/lib/python3.10/dist-packages (from statsmodels<1,>=0.13.2->ydata-profiling->pandas-profiling) (0.5.3)\n",
            "Requirement already satisfied: six in /usr/local/lib/python3.10/dist-packages (from patsy>=0.5.2->statsmodels<1,>=0.13.2->ydata-profiling->pandas-profiling) (1.16.0)\n"
          ]
        }
      ]
    },
    {
      "cell_type": "code",
      "execution_count": null,
      "metadata": {
        "colab": {
          "base_uri": "https://localhost:8080/",
          "height": 104,
          "referenced_widgets": [
            "f2bc2b84f7c0458895b80b9afb9a9c87",
            "4b90a7e335c34eab96185b6184c82b2c",
            "9a5f7d67af8f4c5981149649f75f2ef1",
            "0df41c35b3e84b7b86aff8539fa65c50",
            "f735adb80d554557bbd5abbbe211c9b2",
            "beb30295c4344300b1fe584907acc66d",
            "695c21b7da9a4879825a4bdfa25cdabf",
            "bd26d1c33599499aab2cf37214118a61",
            "f9d84c49814b4b2788b556bc76a7c868",
            "33d60208a89544f7ab6c8b0a0f358e4d",
            "4395bc345d084e9d8302e12131391990"
          ]
        },
        "id": "THam4xxXbOQN",
        "outputId": "7edb4946-e3b2-41ff-e6a1-3c178714c0e7"
      },
      "outputs": [
        {
          "output_type": "stream",
          "name": "stderr",
          "text": [
            "<ipython-input-2-ca658b433a4d>:2: DeprecationWarning: `import pandas_profiling` is going to be deprecated by April 1st. Please use `import ydata_profiling` instead.\n",
            "  from pandas_profiling import ProfileReport\n"
          ]
        },
        {
          "output_type": "display_data",
          "data": {
            "text/plain": [
              "Summarize dataset:   0%|          | 0/5 [00:00<?, ?it/s]"
            ],
            "application/vnd.jupyter.widget-view+json": {
              "version_major": 2,
              "version_minor": 0,
              "model_id": "f2bc2b84f7c0458895b80b9afb9a9c87"
            }
          },
          "metadata": {}
        }
      ],
      "source": [
        "import pandas as pd\n",
        "from pandas_profiling import ProfileReport\n",
        "import pyarrow.parquet as pq\n",
        "\n",
        "# Carregue o arquivo Parquet em um DataFrame do Pandas\n",
        "table = pq.read_table('/content/dataset.parquet')\n",
        "data = table.to_pandas()\n",
        "\n",
        "# Crie o perfil\n",
        "profile = ProfileReport(data)\n",
        "\n",
        "# Gere o relatório\n",
        "profile.to_file(\"relatorio_perfil.html\")\n"
      ]
    },
    {
      "cell_type": "code",
      "execution_count": null,
      "metadata": {
        "id": "1fYeAA7fjo3W"
      },
      "outputs": [],
      "source": [
        "import pandas as pd\n",
        "from pandas_profiling import ProfileReport\n",
        "import pyarrow.parquet as pq\n",
        "\n",
        "# Carregue o arquivo Parquet em um DataFrame do Pandas\n",
        "table = pq.read_table('/content/dataset.parquet')\n",
        "data = table.to_pandas()\n",
        "\n",
        "# Crie o perfil\n",
        "profile = ProfileReport(data)\n",
        "\n",
        "# Gere o relatório\n",
        "profile.to_file(\"relatorio_perfil.html\")\n"
      ]
    },
    {
      "cell_type": "code",
      "execution_count": null,
      "metadata": {
        "id": "WNEUtaB9jvj4"
      },
      "outputs": [],
      "source": [
        "import pandas as pd\n",
        "from pandas_profiling import ProfileReport\n",
        "import pyarrow.parquet as pq\n",
        "\n",
        "# Carregue o arquivo Parquet em um DataFrame do Pandas\n",
        "table = pq.read_table('/content/dataset.parquet')\n",
        "df = table.to_pandas()\n"
      ]
    },
    {
      "cell_type": "code",
      "source": [
        "dic = {\n",
        "    'encounter_id': 'id_ncontro',\n",
        "    'patient_id': 'id_aciente',\n",
        "    'hospital_id': 'id_hospital',\n",
        "    'age': 'idade',\n",
        "    'bmi': 'imc',\n",
        "    'elective_surgery': 'cirurgia_eletiva',\n",
        "    'ethnicity': 'etnia',\n",
        "    'gender': 'genero',\n",
        "    'height': 'altura',\n",
        "    'icu_admit_source': 'fonte_admissao_uti',\n",
        "    'icu_id': 'id_uti',\n",
        "    'icu_stay_type': 'tipo_estadia_uti',\n",
        "    'icu_type': 'tipo_uti',\n",
        "    'pre_icu_los_days': 'dias_de_permanencia_pre_uti',\n",
        "    'weight': 'peso',\n",
        "    'apache_2_diagnosis': 'diagnostico_pache_2',\n",
        "    'apache_3j_diagnosis': 'diagnostico_apache_3j',\n",
        "    'apache_post_operative': 'apache_pos_operatorio',\n",
        "    'arf_apache': 'arf_apache',\n",
        "    'gcs_eyes_apache': 'gcs_olhos_apache',\n",
        "    'gcs_motor_apache': 'gcs_motor_apache',\n",
        "    'gcs_unable_apache': 'gcs_incapaz_apache',\n",
        "    'gcs_verbal_apache': 'gcs_verbal_pache',\n",
        "    'heart_rate_apache': 'frequencia_cardiaca_apache',\n",
        "    'intubated_apache': 'intubado_apache',\n",
        "    'map_apache': 'map_apache',\n",
        "    'resprate_apache': 'frequencia_respiratoria_pache',\n",
        "    'temp_apache': 'temperatura_apache',\n",
        "    'ventilated_apache': 'ventilado_apache',\n",
        "    'd1_diasbp_max': 'd1_pressao_arterial_diastolica_maxima',\n",
        "    'd1_diasbp_min': 'd1_pressao_arterial_diastolica_minima',\n",
        "    'd1_diasbp_noninvasive_max': 'd1_pressao_arterial_diastolica_nao_invasiva_maxima',\n",
        "    'd1_diasbp_noninvasive_min': 'd1_pressao_arterial_diastólica_nao_invasiva_minima',\n",
        "    'd1_heartrate_max': 'd1_frequencia_cardiaca_maxima',\n",
        "    'd1_heartrate_min': 'd1_frequencia_cardiaca_minima',\n",
        "    'd1_mbp_max': 'd1_pressao_arterial_media_maxima',\n",
        "    'd1_mbp_min': 'd1_pressao_arterial_media_minima',\n",
        "    'd1_mbp_noninvasive_max': 'd1_pressao_arterial_media_nao_invasiva_maxima',\n",
        "    'd1_mbp_noninvasive_min': 'd1_pressao_arterial_media_nao_invasiva_minima',\n",
        "    'd1_resprate_max': 'd1_frequencia_respiratoria_maxima',\n",
        "    'd1_resprate_min': 'd1_frequencia_respiratoria_minima',\n",
        "    'd1_spo2_min': 'd1_spO2_minimo',\n",
        "    'd1_spo2_max': 'd1_spO2_maximo',\n",
        "    'd1_sysbp_min': 'd1_pressao_arterial_sistolica_minima',\n",
        "    'd1_sysbp_max': 'd1_pressao_arterial_sistolica_maxima',\n",
        "    'd1_sysbp_noninvasive_min': 'd1_pressao_arterial_sistolica_nao_invasiva_minima',\n",
        "    'd1_sysbp_noninvasive_max': 'd1_pressao_arterial_sistolica_nao_invasiva_maxima',\n",
        "    'd1_temp_min': 'd1_temperatura_minima',\n",
        "    'd1_temp_max': 'd1_temperatura_maxima',\n",
        "    'h1_diasbp_min': 'h1_ressao_arterial_iastolica_minima',\n",
        "    'h1_diasbp_max': 'h1_pressão_arterial_diastolica_maxima',\n",
        "    'h1_diasbp_noninvasive_min': 'h1_pressao_arterial_diastolica_nao_invasiva_minima',\n",
        "    'h1_diasbp_noninvasive_max': 'h1_pressao_arterial_diastolica_nao_invasiva_maxima',\n",
        "    'h1_heartrate_min': 'h1_requencia_cardiaca_minima',\n",
        "    'h1_heartrate_max': 'h1_frequencia_cardiaca_maxima',\n",
        "    'h1_mbp_min': 'h1_pressao_arterial_media_minima',\n",
        "    'h1_mbp_max': 'h1_pressao_arterial_media_maxima',\n",
        "    'h1_mbp_noninvasive_min': 'h1_pressao_arterial_media_nao_invasiva_minima',\n",
        "    'h1_mbp_noninvasive_max': 'h1_pressao_arterial_media_nao_invasiva_maxima',\n",
        "    'h1_resprate_min': 'h1_frequencia_respiratoria_minima',\n",
        "    'h1_resprate_max': 'h1_frequencia_respiratoria_maxima',\n",
        "    'h1_spo2_min': 'h1_spO2_minimo',\n",
        "    'h1_spo2_max': 'h1_spO2_maximo',\n",
        "    'h1_sysbp_min': 'h1_pressao_arterial_sistolica_minima',\n",
        "    'h1_sysbp_max': 'h1_pressao_arterial_sistolica_maxima',\n",
        "    'h1_sysbp_noninvasive_min': 'h1_pressão_arterial_sistolica_nao_invasiva_minima',\n",
        "    'h1_sysbp_noninvasive_max': 'h1_pressao_arterial_sistolica_nao_invasiva_maxima',\n",
        "    'd1_glucose_min': 'd1_glicose_minima',\n",
        "    'd1_glucose_max': 'd1_glicose_maxima',\n",
        "    'd1_potassium_min': 'd1_potassio_minimo',\n",
        "    'd1_potassium_max': 'd1_potassio_maximo',\n",
        "    'apache_4a_hospital_death_prob': 'probabilidade_morte_no_hospital_(apache_4a)',\n",
        "    'apache_4a_icu_death_prob': 'probabilidade_morte_na_uti_(apache_4a)',\n",
        "    'aids': 'aids',\n",
        "    'cirrhosis': 'cirrose',\n",
        "    'diabetes_mellitus': 'diabetes_mellitus',\n",
        "    'hepatic_failure': 'insuficiencia_hepatica',\n",
        "    'immunosuppression': 'imunossupressao',\n",
        "    'leukemia': 'leucemia',\n",
        "    'lymphoma': 'linfoma',\n",
        "    'solid_tumor_with_metastasis': 'tumor_solido_com_metastase',\n",
        "    'apache_3j_bodysystem': 'sistema_corporal_apache_3j',\n",
        "    'apache_2_bodysystem': 'sistema_corporal_apache_2',\n",
        "    'hospital_death': 'morte_hospital'}\n",
        "\n",
        "df = df.rename(columns=dic)\n",
        "df.columns"
      ],
      "metadata": {
        "id": "28m1tJITomfA"
      },
      "execution_count": null,
      "outputs": []
    },
    {
      "cell_type": "code",
      "source": [
        "# Crie o perfil\n",
        "profile = ProfileReport(df)\n",
        "\n",
        "# Gere o relatório\n",
        "profile.to_file(\"/content/relatorio.html\")"
      ],
      "metadata": {
        "id": "9za_pRZZo8Bm"
      },
      "execution_count": null,
      "outputs": []
    }
  ]
}